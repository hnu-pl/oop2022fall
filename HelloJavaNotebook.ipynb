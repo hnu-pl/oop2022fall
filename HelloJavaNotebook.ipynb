{
 "cells": [
  {
   "cell_type": "markdown",
   "metadata": {},
   "source": [
    "# Hello Java Notebook"
   ]
  },
  {
   "cell_type": "code",
   "execution_count": 1,
   "metadata": {},
   "outputs": [
    {
     "name": "stdout",
     "output_type": "stream",
     "text": [
      "Hello Java Notebook\n"
     ]
    }
   ],
   "source": [
    "System.out.println(\"Hello Java Notebook\");"
   ]
  },
  {
   "cell_type": "markdown",
   "metadata": {},
   "source": [
    "----\n",
    "## 노트북 환경 사용시 알려진 문제점 우회\n",
    "\n",
    "### 문법 강조(syntax highlighting)\n",
    "Docker Hub의 이미지로 java-notebook을 Jupyter Lab 환경으로 실행하여\n",
    "새로운 노트북을 만든 경우 Java 코드에 대한 문법 강조가 아마도 제대로 동작하지 않을 것이다.\n",
    "이를 해결하려면 Jupyter Lab 사이드바에 있는 렌치 모양 (🔧와 비슷한) 아이콘의 Notebook Tools를 선택한 다음\n",
    "Advanced Tools를 펼치면 Notebook Metadata가 다음과 같이 되어 있을텐데\n",
    "\n",
    "```json\n",
    "{\n",
    "    \"language_info\": {\n",
    "        \"name\": \"\"\n",
    "    },\n",
    "    ...\n",
    "}\n",
    "```\n",
    "\n",
    "이걸 아래와 같이 수정하고 체크 아이콘을 클릭하여 메타데이터에 변경사항을 반영(Commit changes to data)하면\n",
    "문법 강조가 Jupyter Lab 환경에서도 잘 작동할 것이다.\n",
    "```json\n",
    "{\n",
    "    \"language_info\": {\n",
    "        \"name\": \"java\"\n",
    "    },\n",
    "    ...\n",
    "}\n",
    "```"
   ]
  },
  {
   "cell_type": "markdown",
   "metadata": {},
   "source": [
    "### 상호 재귀 클래스\n",
    "JShell의 기능이 갖는 한계로 상호 재귀 클래스를 보통의 Java 소스코드에서처럼 아래와 같이 간편하게 직접 선언할 수가 없다."
   ]
  },
  {
   "cell_type": "code",
   "execution_count": 2,
   "metadata": {},
   "outputs": [
    {
     "ename": "CompilationException",
     "evalue": "",
     "output_type": "error",
     "traceback": [
      "\u001b[1m\u001b[30m|   \u001b[1m\u001b[30mclass A { B b; }\u001b[0m",
      "\u001b[1m\u001b[31mUnresolved dependencies:\u001b[0m",
      "\u001b[1m\u001b[31m   - class B\u001b[0m"
     ]
    }
   ],
   "source": [
    "class A { B b; };  \n",
    "class B { A a; };"
   ]
  },
  {
   "cell_type": "markdown",
   "metadata": {},
   "source": [
    "하지만 상호재귀적인 내부 스태틱 클래스는 선언이 가능하므로 상호재귀적인 클래스를 선언해야 할 경우에는 이런 식으로라도 하면 된다."
   ]
  },
  {
   "cell_type": "code",
   "execution_count": 3,
   "metadata": {},
   "outputs": [],
   "source": [
    "class X {\n",
    "    static class A { B b; };\n",
    "    static class B { A a; };\n",
    "};"
   ]
  },
  {
   "cell_type": "code",
   "execution_count": 4,
   "metadata": {},
   "outputs": [],
   "source": [
    "X.A xa = new X.A();\n",
    "X.B xb = new X.B();"
   ]
  }
 ],
 "metadata": {
  "kernelspec": {
   "display_name": "Java",
   "language": "java",
   "name": "java"
  },
  "language_info": {
   "name": "java"
  }
 },
 "nbformat": 4,
 "nbformat_minor": 4
}
