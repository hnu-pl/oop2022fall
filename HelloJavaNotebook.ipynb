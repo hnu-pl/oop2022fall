{
 "cells": [
  {
   "cell_type": "markdown",
   "metadata": {},
   "source": [
    "# Hello Java Notebook\n",
    "\n",
    "## 수업 진행 내용\n",
    "* 교재 둘러보기\n",
    "* 터미널을 열어 `java --version`으로 현재 주피터 환경이 사용하는 자바 버전 알아보기\n",
    "* 교재처럼 `.java` 확장자 파일에 작성하는 자바 코드와 주피터 노트북 환경의 차이점 확인해 보기\n",
    "* 기본 자료형 vs. 참조 자료형\n",
    "* final 변수\n",
    "* 지역변수 타입 추론\n",
    "* 자바의 배열"
   ]
  },
  {
   "cell_type": "markdown",
   "metadata": {},
   "source": [
    "----\n",
    "## 일반적인 Java 개발환경과 주피터 자바 노트북 환경의 차이점\n",
    "수업의 진행상 교재의 모든 내용을 빠짐없이 다루지 않는다.\n",
    "예를 들면 이 수업에서는 자바의 패키지나 접근 제한자에 대해 자세히 다루지는 않음.\n",
    "하지만 실제 자바로 활용하는 프로젝트를 진행하려면 패키지와 접근 제한자에 대해서도 잘 알아두어야 하니 교재를 참고할 것."
   ]
  },
  {
   "cell_type": "code",
   "execution_count": 1,
   "metadata": {},
   "outputs": [],
   "source": [
    "// 패키지 선언 제외하고 교재 첫 소스코드의 내용에다 한줄 더 추가로 작성해봄\n",
    "public class Test1 {\n",
    "    public static void main(String[] args) {\n",
    "        System.out.println(\"Hello\");\n",
    "        System.out.println(\"Java Notebook\"); // 한줄 더 추가로 작성\n",
    "    }\n",
    "}"
   ]
  },
  {
   "cell_type": "markdown",
   "metadata": {},
   "source": [
    "위와 같이 작성된 `Test1.java` 소스코드 파일을 일반적인 개발환경에서 `javac`로 컴파일해 나온\n",
    "`Test1.cass`를 `java` 명령어로 JVM을 통해 실행시키면 `Test1`의 `main` 클래스 메소드가 실행된다.\n",
    "즉, 어떤 내용을 실행시키려면 Java에서는 최소한 하나의 클래스를 선언해야만 한다."
   ]
  },
  {
   "cell_type": "code",
   "execution_count": 2,
   "metadata": {},
   "outputs": [
    {
     "name": "stdout",
     "output_type": "stream",
     "text": [
      "Hello\n",
      "Java Notebook\n"
     ]
    }
   ],
   "source": [
    "Test1.main(null) // args를 활용하지 않으므로 그냥 null을 넘겨도 무방"
   ]
  },
  {
   "cell_type": "markdown",
   "metadata": {},
   "source": [
    "하지만 노트북 환경에서는 굳이 클래스를 선언할 필요 없이 메소드 안의 문장들을 간편하게 실행해 볼 수 있다."
   ]
  },
  {
   "cell_type": "code",
   "execution_count": 3,
   "metadata": {},
   "outputs": [
    {
     "name": "stdout",
     "output_type": "stream",
     "text": [
      "Hello\n",
      "Java Notebook\n"
     ]
    }
   ],
   "source": [
    "System.out.println(\"Hello\");\n",
    "System.out.println(\"Java Notebook\");"
   ]
  },
  {
   "cell_type": "code",
   "execution_count": 4,
   "metadata": {},
   "outputs": [
    {
     "name": "stdout",
     "output_type": "stream",
     "text": [
      "Hello\n"
     ]
    }
   ],
   "source": [
    "System.out.println(\"Hello\");         // 하나씩 따로따로 실행해 보는 것도 가능"
   ]
  },
  {
   "cell_type": "code",
   "execution_count": 5,
   "metadata": {},
   "outputs": [
    {
     "name": "stdout",
     "output_type": "stream",
     "text": [
      "Java Notebook\n"
     ]
    }
   ],
   "source": [
    "System.out.println(\"Java Notebook\"); // 하나씩 따로따로 실행해 보는 것도 가능"
   ]
  },
  {
   "cell_type": "markdown",
   "metadata": {},
   "source": [
    "문장이 아닌 식(expression) 세미콜론 없이 활용하면 그 식의 값이 출력된다.\n",
    "그러니까 노트북 환경에서는 간단한 식의 값을 계산한 결과를 확인해 보기 위해\n",
    "`System.out.println`같은 출력 함수를 굳이 직접 호출할 필요가 없다."
   ]
  },
  {
   "cell_type": "code",
   "execution_count": 6,
   "metadata": {},
   "outputs": [
    {
     "data": {
      "text/plain": [
       "6"
      ]
     },
     "execution_count": 6,
     "metadata": {},
     "output_type": "execute_result"
    }
   ],
   "source": [
    "1 + 2 + 3"
   ]
  },
  {
   "cell_type": "code",
   "execution_count": 7,
   "metadata": {},
   "outputs": [
    {
     "data": {
      "text/plain": [
       "HelloJavaNotebook"
      ]
     },
     "execution_count": 7,
     "metadata": {},
     "output_type": "execute_result"
    }
   ],
   "source": [
    "\"Hello\" + \"Java\" + \"Notebook\""
   ]
  },
  {
   "cell_type": "code",
   "execution_count": 8,
   "metadata": {},
   "outputs": [
    {
     "data": {
      "text/plain": [
       "3"
      ]
     },
     "execution_count": 8,
     "metadata": {},
     "output_type": "execute_result"
    }
   ],
   "source": [
    "int x1 = 1; // 문장 \n",
    "int x2 = 2; // 문장\n",
    "// 이렇게 문장을 쓰다가 맨 끝에 식을 쓰면\n",
    "x1 + x2 // 이 식을 계산한 값이 출력됨"
   ]
  },
  {
   "cell_type": "markdown",
   "metadata": {},
   "source": [
    "또한, 웹기반 환경인 주피터 노트북에서는 HTML 등 텍스트가 아닌 형식도 `display`나 `render` 등의 메소드로 간단히 출력해 볼 수 있다.\n",
    "더 자세한 내용은 https://github.com/SpencerPark/IJava/blob/master/docs/display.md 를 참고하라."
   ]
  },
  {
   "cell_type": "code",
   "execution_count": 9,
   "metadata": {},
   "outputs": [
    {
     "data": {
      "text/html": [
       "<i>Hello</i> <strong>Java</strong> Notebook"
      ],
      "text/plain": [
       "<i>Hello</i> <strong>Java</strong> Notebook"
      ]
     },
     "metadata": {},
     "output_type": "display_data"
    },
    {
     "data": {
      "text/plain": [
       "340b414a-e860-4064-aa11-009dcf891775"
      ]
     },
     "execution_count": 9,
     "metadata": {},
     "output_type": "execute_result"
    }
   ],
   "source": [
    "display(\"<i>Hello</i> <strong>Java</strong> Notebook\", \"text/html\");"
   ]
  },
  {
   "cell_type": "code",
   "execution_count": 10,
   "metadata": {},
   "outputs": [
    {
     "data": {
      "text/html": [
       "<svg width='220' height='80' style='background-color:black'><circle r='30' cx='40' cy='40' fill='green' /><circle r='30' cx='110' cy='40' fill='orange' /><circle r='30' cx='180' cy='40' fill='red' /></svg>"
      ],
      "text/plain": [
       "<svg width='220' height='80' style='background-color:black'><circle r='30' cx='40' cy='40' fill='green' /><circle r='30' cx='110' cy='40' fill='orange' /><circle r='30' cx='180' cy='40' fill='red' /></svg>"
      ]
     },
     "metadata": {},
     "output_type": "display_data"
    },
    {
     "data": {
      "text/plain": [
       "b2cccdbc-fbcf-4d96-ab82-1fbd9545e9cf"
      ]
     },
     "execution_count": 10,
     "metadata": {},
     "output_type": "execute_result"
    }
   ],
   "source": [
    "display(\"<svg width='220' height='80' style='background-color:black'>\" +\n",
    "        \"<circle r='30' cx='40' cy='40' fill='green' />\" +\n",
    "        \"<circle r='30' cx='110' cy='40' fill='orange' />\" +\n",
    "        \"<circle r='30' cx='180' cy='40' fill='red' />\" +\n",
    "        \"</svg>\", \"text/html\");"
   ]
  },
  {
   "cell_type": "markdown",
   "metadata": {},
   "source": [
    "----\n",
    "## 주피터 자바 노트북 환경 사용시 알려진 문제점\n",
    "\n",
    "### 문법 강조(syntax highlighting)\n",
    "Docker Hub의 이미지로 java-notebook을 Jupyter Lab 환경으로 실행하여\n",
    "새로운 노트북을 만들 경우 Java 코드에 대한 문법 강조가 아마도 제대로 동작하지 않을 것이다.\n",
    "이를 해결하려면 Jupyter Lab 사이드바에 있는 렌치 모양 (🔧와 비슷한) 아이콘의 Notebook Tools를 선택한 다음\n",
    "Advanced Tools를 펼치면 Notebook Metadata가 다음과 같이 되어 있을텐데\n",
    "\n",
    "```json\n",
    "{\n",
    "    \"language_info\": {\n",
    "        \"name\": \"\"\n",
    "    },\n",
    "    ...\n",
    "}\n",
    "```\n",
    "\n",
    "이걸 아래와 같이 수정하고 체크 아이콘을 클릭하여 메타데이터에 변경사항을 반영(Commit changes to data)하면\n",
    "문법 강조가 Jupyter Lab 환경에서도 잘 작동할 것이다.\n",
    "```json\n",
    "{\n",
    "    \"language_info\": {\n",
    "        \"name\": \"java\"\n",
    "    },\n",
    "    ...\n",
    "}\n",
    "```"
   ]
  },
  {
   "cell_type": "markdown",
   "metadata": {},
   "source": [
    "### 상호 재귀 클래스\n",
    "JShell의 기능이 갖는 한계로 상호 재귀 클래스를 보통의 Java 소스코드에서처럼 아래와 같이 간편하게 직접 선언할 수가 없다."
   ]
  },
  {
   "cell_type": "code",
   "execution_count": 11,
   "metadata": {},
   "outputs": [
    {
     "ename": "CompilationException",
     "evalue": "",
     "output_type": "error",
     "traceback": [
      "\u001b[1m\u001b[30m|   \u001b[1m\u001b[30mclass A { B b; }\u001b[0m",
      "\u001b[1m\u001b[31mUnresolved dependencies:\u001b[0m",
      "\u001b[1m\u001b[31m   - class B\u001b[0m"
     ]
    }
   ],
   "source": [
    "class A { B b; };  \n",
    "class B { A a; };"
   ]
  },
  {
   "cell_type": "markdown",
   "metadata": {},
   "source": [
    "하지만 상호재귀적인 정적(static) 내부 클래스(inner class)는 선언이 가능하므로 상호재귀적인 클래스를 선언해야 할 경우에는 이런 식으로라도 하면 된다."
   ]
  },
  {
   "cell_type": "code",
   "execution_count": 12,
   "metadata": {},
   "outputs": [],
   "source": [
    "class X {\n",
    "    static class A { B b; };\n",
    "    static class B { A a; };\n",
    "};"
   ]
  },
  {
   "cell_type": "code",
   "execution_count": 13,
   "metadata": {},
   "outputs": [],
   "source": [
    "X.A xa = new X.A();\n",
    "X.B xb = new X.B();"
   ]
  },
  {
   "cell_type": "markdown",
   "metadata": {},
   "source": [
    "### 주피터 노트북에서 클래스 바깥에서 final 변수의 특성이 무시됨"
   ]
  },
  {
   "cell_type": "code",
   "execution_count": 14,
   "metadata": {},
   "outputs": [
    {
     "name": "stdout",
     "output_type": "stream",
     "text": [
      "10\n",
      "20\n"
     ]
    }
   ],
   "source": [
    "// 주피터 환경에서 이런 식으로 작성하면 final이 무시되므로 주의!!!\n",
    "final int y = 10;\n",
    "System.out.println(y);\n",
    "y = 20;\n",
    "System.out.println(y);"
   ]
  },
  {
   "cell_type": "code",
   "execution_count": 15,
   "metadata": {},
   "outputs": [
    {
     "ename": "CompilationException",
     "evalue": "",
     "output_type": "error",
     "traceback": [
      "\u001b[1m\u001b[30m|   \u001b[1m\u001b[30m        \u001b[0m\u001b[1m\u001b[30m\u001b[41my\u001b[0m\u001b[1m\u001b[30m = 20; // 처음 초기화(첫번째로 대입)된 값이 아니라 또 다시 대입을 하려고 하면 컴파일 오류! \u001b[0m",
      "\u001b[1m\u001b[31mcannot assign a value to final variable y\u001b[0m",
      ""
     ]
    }
   ],
   "source": [
    "// 일반적인 자바의 클래스 및 메소드 안에서 final을 작성하는 경우에는 검사가 이루어짐\n",
    "class C {\n",
    "    static void f() {\n",
    "        final int y = 10;\n",
    "        System.out.println(y);\n",
    "        y = 20; // 처음 초기화(첫번째로 대입)된 값이 아니라 또 다시 대입을 하려고 하면 컴파일 오류! \n",
    "        System.out.println(y);\n",
    "    }\n",
    "}"
   ]
  },
  {
   "cell_type": "markdown",
   "metadata": {},
   "source": [
    "----\n",
    "## 기본 타입(primitive type) vs. 참조 타입(reference type)\n",
    "primitive type을 \"원시 타입\"으로 번역하기도 함.\n",
    "\n",
    "기본 타입은 대략 C/C++의 기본 자료형과 비슷하다.\n",
    "차이점은 범위 검사를 좀더 빡빡하게 하므로 C/C++보다 타입 변환이 엄격한 편이다.\n",
    "\n",
    "참고로 C/C++같은 경우는 기본 타입 외에 구조체 등 복합 타입도 기본적으로는 똑같은 방식으로 동작한다.\n",
    "\n",
    "하지만 Java의 경우는 기본 타입이 아닌 참조 타입은 다른 방식으로 동작하므로 그런 점에서는 일관성이 좀 떨어진다고 볼 수도 있다.\n",
    "\n",
    "기본 타입의 변수는 C/C++에서와 마찬가지로 크기가 정해진 상자로 이해해도 좋다.\n",
    "* 대입 연산자 `=`는 내용물을 채워넣는다는 의미로 이해할 수 있다.\n",
    "* 다른 변수의 내용을 대입할 때는 복사본을 만들어 채워넣는다 (즉 메모리 내용을 복사한다).\n",
    "\n",
    "참조 타입의 변수는 상자로 생각하기보다는 이름표/별명/직함 이런 식의 개념으로 비유할 수 있다.\n",
    "* 고길동을 동네 꼬마들은 `아저씨`라고 부르고\n",
    "* 아들 철수나 딸 영희는 `아버지`라고 부르고\n",
    "* 조카 희동이는 `삼촌`이라고 부르고\n",
    "* 직장에서는 `고과장`이라고 부르고 ...\n",
    "\n",
    "이렇게 같은 대상(object, 객체)을 다른 이름/별명/직함으로 부를 수 있다.\n",
    "\n",
    "반대로 서로 다른 대상(혹은 객체)지만 우연히 그 내용은 같을 수도 있다.\n",
    "비유하자면 공장에서 대량생산되는 제품은 여러 개의 서로 다른 객체지만 이들을 구성하고 있는 내용물은 똑같다.\n",
    "\n",
    "참고로 우리 자바 교재에서는 참조 타입의 변수를 \"참조변수\"라고 부른다."
   ]
  },
  {
   "cell_type": "markdown",
   "metadata": {},
   "source": [
    "### 객체 비교(object equality) 연산자 `==` "
   ]
  },
  {
   "cell_type": "markdown",
   "metadata": {},
   "source": [
    "기본 타입과 참조 타입의 차이는 연산자 `==`의 동작에서 단적으로 드러난다."
   ]
  },
  {
   "cell_type": "code",
   "execution_count": 16,
   "metadata": {},
   "outputs": [
    {
     "data": {
      "text/plain": [
       "true"
      ]
     },
     "execution_count": 16,
     "metadata": {},
     "output_type": "execute_result"
    }
   ],
   "source": [
    "int n1 = 10;\n",
    "int n2 = 5 + 5;\n",
    "\n",
    "n1 == n2; // 기본 타입은 내용이 복사되는 방식이므로 그 \"내용\"을 기준으로 ==를 검사"
   ]
  },
  {
   "cell_type": "code",
   "execution_count": 17,
   "metadata": {},
   "outputs": [
    {
     "data": {
      "text/plain": [
       "true"
      ]
     },
     "execution_count": 17,
     "metadata": {},
     "output_type": "execute_result"
    }
   ],
   "source": [
    "10 == 5 + 5"
   ]
  },
  {
   "cell_type": "markdown",
   "metadata": {},
   "source": [
    "참조 자료형의 인스턴스인 객체(object)는 일반적으로 `new`라는 키워드로 생성한다.\n",
    "`new`라는 키워드로 생성할 때마다 별개의 객체(혹은 대상)가 생성된다.\n",
    "(참고로, `String`은 자바에서 특별하게 취급해 주는 자료형이라 new를 사용하지 않고도 생성할 수 있지만\n",
    "여기서는 일반적인 참조 자료형이라고 생각하고 설명하겠다.)"
   ]
  },
  {
   "cell_type": "code",
   "execution_count": 18,
   "metadata": {},
   "outputs": [
    {
     "data": {
      "text/plain": [
       "고길동"
      ]
     },
     "execution_count": 18,
     "metadata": {},
     "output_type": "execute_result"
    }
   ],
   "source": [
    "new String(\"고길동\")"
   ]
  },
  {
   "cell_type": "code",
   "execution_count": 19,
   "metadata": {},
   "outputs": [
    {
     "data": {
      "text/plain": [
       "고길동"
      ]
     },
     "execution_count": 19,
     "metadata": {},
     "output_type": "execute_result"
    }
   ],
   "source": [
    "new String(\"고\") + new String(\"길동\")"
   ]
  },
  {
   "cell_type": "code",
   "execution_count": 20,
   "metadata": {},
   "outputs": [
    {
     "data": {
      "text/plain": [
       "false"
      ]
     },
     "execution_count": 20,
     "metadata": {},
     "output_type": "execute_result"
    }
   ],
   "source": [
    "new String(\"고길동\") == new String(\"고\") + new String(\"길동\")"
   ]
  },
  {
   "cell_type": "code",
   "execution_count": 21,
   "metadata": {},
   "outputs": [
    {
     "data": {
      "text/plain": [
       "false"
      ]
     },
     "execution_count": 21,
     "metadata": {},
     "output_type": "execute_result"
    }
   ],
   "source": [
    "new String(\"고길동\") == new String(\"고길동\") // 심지어 이것도"
   ]
  },
  {
   "cell_type": "code",
   "execution_count": 22,
   "metadata": {},
   "outputs": [],
   "source": [
    "// 실제로는 String은 new를 사용 안해도 되는 좀 유별난 타입이지만 일반적인 참조타입처럼 설명하기 위해\n",
    "String s1 = new String(\"고길동\"); // 둘리네 집 아저씨 고길동\n",
    "String s2 = new String(\"고길동\"); // 동명이인인 다른 동네의 고길동"
   ]
  },
  {
   "cell_type": "code",
   "execution_count": 23,
   "metadata": {},
   "outputs": [
    {
     "data": {
      "text/plain": [
       "false"
      ]
     },
     "execution_count": 23,
     "metadata": {},
     "output_type": "execute_result"
    }
   ],
   "source": [
    "s1 == s2"
   ]
  },
  {
   "cell_type": "code",
   "execution_count": 24,
   "metadata": {},
   "outputs": [],
   "source": [
    "String 둘리네아저씨 = s1; // 고길동을 둘리나 동네 꼬마들은 아저씨라고 부르고\n",
    "String 철수아버지 = s1;   // 아들 철수나 딸 영희는 아버지라고 부르고\n",
    "String 희동이삼촌 = s1;   // 희동이는 삼촌이라 부르고\n",
    "String 영업팀고과장 = s1; // 직장에서는 고과장이라 부르고\n",
    "\n",
    "String 인사부장 = s2; // 같은 직장 다니는 옆동네 동명이인 고길동 아저씨는 인사부장"
   ]
  },
  {
   "cell_type": "code",
   "execution_count": 25,
   "metadata": {},
   "outputs": [
    {
     "data": {
      "text/plain": [
       "true"
      ]
     },
     "execution_count": 25,
     "metadata": {},
     "output_type": "execute_result"
    }
   ],
   "source": [
    "둘리네아저씨 == 철수아버지"
   ]
  },
  {
   "cell_type": "code",
   "execution_count": 26,
   "metadata": {},
   "outputs": [
    {
     "data": {
      "text/plain": [
       "true"
      ]
     },
     "execution_count": 26,
     "metadata": {},
     "output_type": "execute_result"
    }
   ],
   "source": [
    "철수아버지 == 희동이삼촌"
   ]
  },
  {
   "cell_type": "code",
   "execution_count": 27,
   "metadata": {},
   "outputs": [
    {
     "data": {
      "text/plain": [
       "true"
      ]
     },
     "execution_count": 27,
     "metadata": {},
     "output_type": "execute_result"
    }
   ],
   "source": [
    "영업팀고과장 == 둘리네아저씨"
   ]
  },
  {
   "cell_type": "code",
   "execution_count": 28,
   "metadata": {},
   "outputs": [
    {
     "data": {
      "text/plain": [
       "false"
      ]
     },
     "execution_count": 28,
     "metadata": {},
     "output_type": "execute_result"
    }
   ],
   "source": [
    "둘리네아저씨 == 인사부장 // 어쩌다 보니 내용(이름)은 같지만 다른 사람이다!!!"
   ]
  },
  {
   "cell_type": "markdown",
   "metadata": {},
   "source": [
    "참조타입의 객체들끼리 내용이 같은지 비교하는 용도로는 `equals` 메소드를 활용한다."
   ]
  },
  {
   "cell_type": "code",
   "execution_count": 29,
   "metadata": {},
   "outputs": [
    {
     "data": {
      "text/plain": [
       "true"
      ]
     },
     "execution_count": 29,
     "metadata": {},
     "output_type": "execute_result"
    }
   ],
   "source": [
    "둘리네아저씨.equals(인사부장) // 다른 객체지만 내용이 같음"
   ]
  },
  {
   "cell_type": "markdown",
   "metadata": {},
   "source": [
    "### 기본 타입 변수와 참조 타입 변수의 초기화\n",
    "기본 타입이든 참조 타입이든 초기화 식이 있는 경우는 초기화 식을 계산 결과대로 된다.\n",
    "\n",
    "기본 타입 변수 경우에는 초기화 식이 없는 경우에는 0에 해당하는 값으로, 참조 타입 변수의 경우에는 null로 초기화된다."
   ]
  },
  {
   "cell_type": "code",
   "execution_count": 30,
   "metadata": {},
   "outputs": [
    {
     "data": {
      "text/plain": [
       "0"
      ]
     },
     "execution_count": 30,
     "metadata": {},
     "output_type": "execute_result"
    }
   ],
   "source": [
    "int i0;\n",
    "\n",
    "i0"
   ]
  },
  {
   "cell_type": "code",
   "execution_count": 31,
   "metadata": {},
   "outputs": [
    {
     "data": {
      "text/plain": [
       "0.0"
      ]
     },
     "execution_count": 31,
     "metadata": {},
     "output_type": "execute_result"
    }
   ],
   "source": [
    "double d0;\n",
    "\n",
    "d0"
   ]
  },
  {
   "cell_type": "code",
   "execution_count": 32,
   "metadata": {},
   "outputs": [
    {
     "data": {
      "text/plain": [
       "false"
      ]
     },
     "execution_count": 32,
     "metadata": {},
     "output_type": "execute_result"
    }
   ],
   "source": [
    "boolean b0;\n",
    "\n",
    "b0"
   ]
  },
  {
   "cell_type": "code",
   "execution_count": 33,
   "metadata": {},
   "outputs": [],
   "source": [
    "String s0;\n",
    "\n",
    "s0 // 참고로 null인 경우 자바 주피터 노트북에서는 자동으로는 아무것도 출력되지 않는다"
   ]
  },
  {
   "cell_type": "code",
   "execution_count": 34,
   "metadata": {},
   "outputs": [
    {
     "name": "stdout",
     "output_type": "stream",
     "text": [
      "null\n"
     ]
    }
   ],
   "source": [
    "System.out.println(s0); // println으로는 null이 알아볼 수 있게 출력됨"
   ]
  },
  {
   "cell_type": "markdown",
   "metadata": {},
   "source": [
    "----\n",
    "## 지역 변수 타입 추론\n",
    "지역변수를 선언할 때 초기화 식으로부터 타입 추론(\"타입 유추\"라고도 함)이 가능한 경우에는\n",
    "왼쪽에 타입 대신 `var`라는 키워드를 써도 된다."
   ]
  },
  {
   "cell_type": "code",
   "execution_count": 35,
   "metadata": {},
   "outputs": [],
   "source": [
    "// String을 앞에도 쓰고 new 다음에도 쓰고 ... 참 왜 이리 귀찮게\n",
    "String s3 = new String(\"고길동\");"
   ]
  },
  {
   "cell_type": "code",
   "execution_count": 36,
   "metadata": {},
   "outputs": [],
   "source": [
    "// 오른쪽에 new 다음에 String이 있으니까 말 안해도 알겠지?\n",
    "var s4 = new String(\"고길동\");"
   ]
  },
  {
   "cell_type": "code",
   "execution_count": 37,
   "metadata": {},
   "outputs": [
    {
     "ename": "CompilationException",
     "evalue": "",
     "output_type": "error",
     "traceback": [
      "\u001b[1m\u001b[30m|   \u001b[1m\u001b[30m\u001b[0m\u001b[1m\u001b[30m\u001b[41mvar s5 = null;\u001b[0m\u001b[1m\u001b[30m // 이렇게 어떤 타입인지 추론가 불가능한 초기화 식은 곤란해\u001b[0m",
      "\u001b[1m\u001b[31mcannot infer type for local variable s5\u001b[0m",
      "\u001b[1m\u001b[31m  (variable initializer is 'null')\u001b[0m",
      ""
     ]
    }
   ],
   "source": [
    "var s5 = null; // 이렇게 어떤 타입인지 추론가 불가능한 초기화 식은 곤란해"
   ]
  },
  {
   "cell_type": "code",
   "execution_count": 38,
   "metadata": {},
   "outputs": [],
   "source": [
    "// 타입 추론가 불가능한 초기화 식인 경우에는 선언하는 지역변수 왼쪽에 반드시 타입을 적어줘야\n",
    "String s5 = null; // 일단 널로 초기화하지만 ...\n",
    "s5 = new String(\"고길동\") // 나중에 일렇게 String 타입의 객체를 참조할 수도 있어"
   ]
  },
  {
   "cell_type": "markdown",
   "metadata": {},
   "source": [
    "----\n",
    "## 자바의 배열\n",
    "자바의 배열은 참조 타입이다. 그러니까 `new` 키워드로 새로운 배열 객체를 만들어낼 수 있다.\n",
    "\n",
    "C/C++의 배열은 크기가 정해져 있는 메모리 공간이다. 그래서 C/C++에서는 길이 3인 정수 배열과 길이 5인 정수 배열은 서로 같은 타입으로 볼 수 없다.\n",
    "\n",
    "하지만 자바에서는 모든 정수 배열은 `int[]`라는 똑같은 타입이다."
   ]
  },
  {
   "cell_type": "code",
   "execution_count": 39,
   "metadata": {},
   "outputs": [
    {
     "name": "stdout",
     "output_type": "stream",
     "text": [
      "3\n",
      "5\n"
     ]
    }
   ],
   "source": [
    "int[] a1 = new int[3]; // 길이 3인 배열 객체로 배열 변수 a1초기화\n",
    "System.out.println(a1.length);\n",
    "a1 = new int[5]; // a1을 길이 5인 새로운 배열 객체를 참조하도록 재지정\n",
    "System.out.println(a1.length);"
   ]
  },
  {
   "cell_type": "code",
   "execution_count": 40,
   "metadata": {},
   "outputs": [
    {
     "ename": "CompilationException",
     "evalue": "",
     "output_type": "error",
     "traceback": [
      "\u001b[1m\u001b[30m|   \u001b[1m\u001b[30mint[\u001b[0m\u001b[1m\u001b[30m\u001b[41m\u001b[0m\u001b[1m\u001b[30m3] a1 = new int[3]; // 자바 배열 타입은 크기 정보를 포함할 수 없음!\u001b[0m",
      "\u001b[1m\u001b[31m']' expected\u001b[0m",
      ""
     ]
    }
   ],
   "source": [
    "int[3] a1 = new int[3]; // 자바 배열 타입은 크기 정보를 포함할 수 없음!"
   ]
  },
  {
   "cell_type": "markdown",
   "metadata": {},
   "source": [
    "`new`로 생성한 배열의 내용은 배열이 담과 있는 타입의 기본 초기값들로 초기화된다."
   ]
  },
  {
   "cell_type": "code",
   "execution_count": 41,
   "metadata": {},
   "outputs": [],
   "source": [
    "double[] a2 = new double[3];"
   ]
  },
  {
   "cell_type": "code",
   "execution_count": 42,
   "metadata": {},
   "outputs": [
    {
     "name": "stdout",
     "output_type": "stream",
     "text": [
      "0.0\n",
      "0.0\n",
      "0.0\n"
     ]
    }
   ],
   "source": [
    "for (int i = 0; i < a2.length; i++)\n",
    "    System.out.println(a2[i]);"
   ]
  },
  {
   "cell_type": "code",
   "execution_count": 43,
   "metadata": {},
   "outputs": [
    {
     "name": "stdout",
     "output_type": "stream",
     "text": [
      "0.0\n",
      "0.0\n",
      "0.0\n"
     ]
    }
   ],
   "source": [
    "for (double x : a2) // 배열의 인덱스를 활용할 필요 없이 내용만 활용한다면\n",
    "    System.out.println(x);"
   ]
  },
  {
   "cell_type": "code",
   "execution_count": 44,
   "metadata": {},
   "outputs": [
    {
     "name": "stdout",
     "output_type": "stream",
     "text": [
      "0.1\n",
      "1.1\n",
      "2.1\n"
     ]
    }
   ],
   "source": [
    "for (int i = 0; i < a2.length; i++)\n",
    "    a2[i] = i + 0.1; // 배열 내용은 이렇게 바꿀 수 있음\n",
    "\n",
    "for (var x : a2) // x가 double임이 타입 추론 가능하므로\n",
    "    System.out.println(x);"
   ]
  },
  {
   "cell_type": "markdown",
   "metadata": {},
   "source": [
    "### `java.util` 패키지의 배열 관련 API\n",
    "매번 이렇게 반복문 돌리면서 출력해 보는 건 귀찮기 때문에 배열 관련 유틸리티를 활용하면 편하다.\n",
    "자바 API와 관련된 더 세부적인 내용은 교재 9장을 참고하라."
   ]
  },
  {
   "cell_type": "code",
   "execution_count": 45,
   "metadata": {},
   "outputs": [],
   "source": [
    "import java.util.Arrays; // java.util 패키지의 Arrays 클래스 불러오기"
   ]
  },
  {
   "cell_type": "code",
   "execution_count": 46,
   "metadata": {},
   "outputs": [
    {
     "data": {
      "text/plain": [
       "[0.1, 1.1, 2.1]"
      ]
     },
     "execution_count": 46,
     "metadata": {},
     "output_type": "execute_result"
    }
   ],
   "source": [
    "Arrays.toString(a2)"
   ]
  },
  {
   "cell_type": "code",
   "execution_count": 47,
   "metadata": {},
   "outputs": [
    {
     "data": {
      "text/plain": [
       "[0.1, 1.1, 2.1]"
      ]
     },
     "execution_count": 47,
     "metadata": {},
     "output_type": "execute_result"
    }
   ],
   "source": [
    "double[] a3 = new double[] { 0.1, 1.1, 2.1 };\n",
    "\n",
    "Arrays.toString(a3) // a3를 출력하기 좋은 형태의 String으로 변환"
   ]
  },
  {
   "cell_type": "code",
   "execution_count": 48,
   "metadata": {},
   "outputs": [
    {
     "data": {
      "text/plain": [
       "false"
      ]
     },
     "execution_count": 48,
     "metadata": {},
     "output_type": "execute_result"
    }
   ],
   "source": [
    "// 실제로 내용이 같은 배열에 대해 equals는 우리가 기대하는 대로 동작하지 않음\n",
    "a2.equals(a3) // == 와 마찬가지로 동작할 뿐임"
   ]
  },
  {
   "cell_type": "code",
   "execution_count": 49,
   "metadata": {},
   "outputs": [
    {
     "data": {
      "text/plain": [
       "true"
      ]
     },
     "execution_count": 49,
     "metadata": {},
     "output_type": "execute_result"
    }
   ],
   "source": [
    "Arrays.equals(a2,a3); // Arrays.equals로 내용 비교"
   ]
  },
  {
   "cell_type": "code",
   "execution_count": 50,
   "metadata": {},
   "outputs": [],
   "source": [
    "double[] a4 = { 0.1, 1.1, 2.1 }; // 오른쪽에 new double[] 생략 가능"
   ]
  },
  {
   "cell_type": "code",
   "execution_count": 51,
   "metadata": {},
   "outputs": [
    {
     "ename": "CompilationException",
     "evalue": "",
     "output_type": "error",
     "traceback": [
      "\u001b[1m\u001b[30m|   \u001b[1m\u001b[30m\u001b[0m\u001b[1m\u001b[30m\u001b[41mvar a5 = { 0.1, 1.1, 2.1 };\u001b[0m\u001b[1m\u001b[30m // 양쪽 다 타입을 안쓰면 타입 추론이 곤란\u001b[0m",
      "\u001b[1m\u001b[31mcannot infer type for local variable a5\u001b[0m",
      "\u001b[1m\u001b[31m  (array initializer needs an explicit target-type)\u001b[0m",
      ""
     ]
    }
   ],
   "source": [
    "var a5 = { 0.1, 1.1, 2.1 }; // 양쪽 다 타입을 안쓰면 타입 추론이 곤란"
   ]
  },
  {
   "cell_type": "markdown",
   "metadata": {},
   "source": [
    "### 다차원 배열\n",
    "C/C++에서는 다차원 배열도 일차원 배열과 마찬가지로 연속된 메모리 공간이지만 Java의 다차원 배열은 그렇지 않다.\n",
    "Java의 다차원 배열의 메모리 구조에 대해서는 교재 4.4.3의 관련 내용 참고할 것."
   ]
  },
  {
   "cell_type": "code",
   "execution_count": 52,
   "metadata": {},
   "outputs": [
    {
     "name": "stdout",
     "output_type": "stream",
     "text": [
      "[0, 0, 0]\n",
      "[0, 0, 0]\n"
     ]
    }
   ],
   "source": [
    "var aa1 = new int[2][3]; // 길이 3인 정수 배열 2개로 이루어진 이차원 정수 배열\n",
    "\n",
    "for (int[] a : aa1)\n",
    "    System.out.println( Arrays.toString(a) );"
   ]
  },
  {
   "cell_type": "code",
   "execution_count": 53,
   "metadata": {},
   "outputs": [
    {
     "name": "stdout",
     "output_type": "stream",
     "text": [
      "[0, 1, 2]\n",
      "[10, 11, 12]\n"
     ]
    }
   ],
   "source": [
    "int[][] aa2 = { {0,1,2}, {10,11,12} };\n",
    "\n",
    "for (int[] a : aa2)\n",
    "    System.out.println( Arrays.toString(a) );"
   ]
  },
  {
   "cell_type": "code",
   "execution_count": 54,
   "metadata": {},
   "outputs": [
    {
     "name": "stdout",
     "output_type": "stream",
     "text": [
      "5\n",
      "[0, 1, 2, 3, 4]\n",
      "3\n",
      "[10, 11, 12]\n"
     ]
    }
   ],
   "source": [
    "int[][] aa3 = { {0,1,2,3,4}, {10,11,12} }; // 서로 다른 길이의 정수 배열 두 개로 초기화된 이차원 정수 배열\n",
    "\n",
    "for (int[] a : aa3) {\n",
    "    System.out.println( a.length );\n",
    "    System.out.println( Arrays.toString(a) );\n",
    "}"
   ]
  },
  {
   "cell_type": "code",
   "execution_count": 57,
   "metadata": {},
   "outputs": [
    {
     "data": {
      "text/plain": [
       "[[I@4684f34e, [I@66f0fe73]"
      ]
     },
     "execution_count": 57,
     "metadata": {},
     "output_type": "execute_result"
    }
   ],
   "source": [
    "Arrays.toString(aa2) // 다차원 배열은 이걸론 좀 이상하게 변환됨"
   ]
  },
  {
   "cell_type": "code",
   "execution_count": 58,
   "metadata": {},
   "outputs": [
    {
     "data": {
      "text/plain": [
       "[[0, 1, 2], [10, 11, 12]]"
      ]
     },
     "execution_count": 58,
     "metadata": {},
     "output_type": "execute_result"
    }
   ],
   "source": [
    "Arrays.deepToString(aa2) // 다차원 배열은 이걸로 출력하기 좋은 String으로 변환"
   ]
  },
  {
   "cell_type": "code",
   "execution_count": null,
   "metadata": {},
   "outputs": [],
   "source": []
  }
 ],
 "metadata": {
  "kernelspec": {
   "display_name": "Java",
   "language": "java",
   "name": "java"
  },
  "language_info": {
   "name": "java"
  }
 },
 "nbformat": 4,
 "nbformat_minor": 4
}
