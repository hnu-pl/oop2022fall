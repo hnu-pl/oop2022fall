{
 "cells": [
  {
   "cell_type": "markdown",
   "id": "400f00ff-3422-4d0f-8069-467356859128",
   "metadata": {},
   "source": [
    "# Generic Linked-List in Kotlin"
   ]
  },
  {
   "cell_type": "code",
   "execution_count": 1,
   "id": "133ec7ce-160a-42bf-9ed5-703d979a5e03",
   "metadata": {},
   "outputs": [],
   "source": [
    "sealed class GList() { // sealed가 아닐때와 차이점에 대해서 교재 참고\n",
    "    abstract fun size() : Int // 추상 메소드\n",
    "\n",
    "    data class Cons(val v: Int, val next: GList) : GList() {\n",
    "        override fun size() = 1 + next.size()\n",
    "    }\n",
    "    object Nil : GList() {\n",
    "        override fun toString() = \"Nil\"\n",
    "        override fun size() = 0\n",
    "    }\n",
    "}"
   ]
  },
  {
   "cell_type": "code",
   "execution_count": 2,
   "id": "3865e640-6b6d-4b47-9755-b8329e68f9ea",
   "metadata": {},
   "outputs": [
    {
     "data": {
      "text/plain": [
       "Nil"
      ]
     },
     "execution_count": 2,
     "metadata": {},
     "output_type": "execute_result"
    }
   ],
   "source": [
    "GList.Nil // 길이 0인 연결리스트"
   ]
  },
  {
   "cell_type": "code",
   "execution_count": 3,
   "id": "bc0933c7-df05-46d9-8cbe-9ca2b0660a03",
   "metadata": {},
   "outputs": [],
   "source": [
    "val l0 = GList.Nil\n",
    "val l1 = GList.Cons(10, l0) // 길이 1짜리 리스트는 길이 0짜리 리스트 앞에 하나 추가\n",
    "val l2 = GList.Cons(20, l1)\n",
    "val l3 = GList.Cons(20, l1)"
   ]
  },
  {
   "cell_type": "code",
   "execution_count": 4,
   "id": "58211d31-feb4-4633-afd4-fb0315eb3890",
   "metadata": {},
   "outputs": [
    {
     "name": "stderr",
     "output_type": "stream",
     "text": [
      "Line_3.jupyter-kts (1:8 - 8) Expecting an expression\n",
      "Line_3.jupyter-kts (1:46 - 47) Expecting an element"
     ]
    }
   ],
   "source": [
    "while (var p = l3; p != GList.Nil; p = p.next)\n",
    "    print(\"${p.v} \")"
   ]
  },
  {
   "cell_type": "code",
   "execution_count": null,
   "id": "74dac41f-7e68-4069-8369-c4aabd1ca64e",
   "metadata": {},
   "outputs": [],
   "source": [
    "// 미완성 TODO GList를 제네릭으로 바꾸기"
   ]
  }
 ],
 "metadata": {
  "kernelspec": {
   "display_name": "Kotlin",
   "language": "kotlin",
   "name": "kotlin"
  },
  "language_info": {
   "codemirror_mode": "text/x-kotlin",
   "file_extension": ".kt",
   "mimetype": "text/x-kotlin",
   "name": "kotlin",
   "nbconvert_exporter": "",
   "pygments_lexer": "kotlin",
   "version": "1.6.20-dev-6372"
  }
 },
 "nbformat": 4,
 "nbformat_minor": 5
}
