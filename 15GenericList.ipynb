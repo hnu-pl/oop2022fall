{
 "cells": [
  {
   "cell_type": "markdown",
   "id": "400f00ff-3422-4d0f-8069-467356859128",
   "metadata": {},
   "source": [
    "# Generic Linked-List in Kotlin"
   ]
  },
  {
   "cell_type": "markdown",
   "id": "6600ec6d-e45e-4851-bd77-12924f4a73ad",
   "metadata": {},
   "source": [
    "우선 제네릭 리스트를 다루기 전에 그냥 리스트부터"
   ]
  },
  {
   "cell_type": "code",
   "execution_count": 1,
   "id": "133ec7ce-160a-42bf-9ed5-703d979a5e03",
   "metadata": {},
   "outputs": [],
   "source": [
    "sealed class MyList() {\n",
    "    abstract fun size() : Int\n",
    "    \n",
    "    data class Cons(val item: Int, val next: MyList) : MyList() {\n",
    "        override fun size() = 1 + next.size()\n",
    "    }\n",
    "    object Nil : MyList() {\n",
    "        override fun toString() = \"Nil\"\n",
    "        override fun size() = 0\n",
    "    }\n",
    "}"
   ]
  },
  {
   "cell_type": "code",
   "execution_count": 2,
   "id": "3865e640-6b6d-4b47-9755-b8329e68f9ea",
   "metadata": {},
   "outputs": [
    {
     "data": {
      "text/plain": [
       "Nil"
      ]
     },
     "execution_count": 2,
     "metadata": {},
     "output_type": "execute_result"
    }
   ],
   "source": [
    "MyList.Nil // 길이 0인 연결리스트"
   ]
  },
  {
   "cell_type": "code",
   "execution_count": 3,
   "id": "bc0933c7-df05-46d9-8cbe-9ca2b0660a03",
   "metadata": {},
   "outputs": [],
   "source": [
    "val l0: MyList = MyList.Nil\n",
    "val l1: MyList = MyList.Cons(10, l0) // 길이 1짜리 리스트는 길이 0짜리 리스트 앞에 하나 추가\n",
    "val l2: MyList = MyList.Cons(20, l1)\n",
    "val l3: MyList = MyList.Cons(30, l2)"
   ]
  },
  {
   "cell_type": "code",
   "execution_count": 4,
   "id": "58211d31-feb4-4633-afd4-fb0315eb3890",
   "metadata": {},
   "outputs": [
    {
     "name": "stdout",
     "output_type": "stream",
     "text": [
      "1 2 3 4 5 6 7 8 9 10 "
     ]
    }
   ],
   "source": [
    "for (x in 1..10)\n",
    "    print(\"${x} \")"
   ]
  },
  {
   "cell_type": "code",
   "execution_count": 5,
   "id": "70e56ed0-0b3e-42f3-afe0-45eb49c612d9",
   "metadata": {},
   "outputs": [
    {
     "data": {
      "text/plain": [
       "MyList.Cons의 인스턴스"
      ]
     },
     "execution_count": 5,
     "metadata": {},
     "output_type": "execute_result"
    }
   ],
   "source": [
    "when (l3) {\n",
    "    is MyList.Cons -> \"MyList.Cons의 인스턴스\"\n",
    "    is MyList.Nil  -> \"MyList.Nil의 인스턴스\"\n",
    "}"
   ]
  },
  {
   "cell_type": "code",
   "execution_count": 6,
   "id": "2537906d-b21c-4635-bb5d-7a9fca7942e1",
   "metadata": {},
   "outputs": [
    {
     "name": "stderr",
     "output_type": "stream",
     "text": [
      "Line_5.jupyter-kts (1:4 - 8) Unresolved reference: item"
     ]
    }
   ],
   "source": [
    "l3.item // l3의 정적 타입은 GList이므로 GList.Cons의 속성 참조 불가"
   ]
  },
  {
   "cell_type": "code",
   "execution_count": 7,
   "id": "6dcb8361-b085-4a4d-9da2-1492d0dd445f",
   "metadata": {},
   "outputs": [
    {
     "data": {
      "text/plain": [
       "30"
      ]
     },
     "execution_count": 7,
     "metadata": {},
     "output_type": "execute_result"
    }
   ],
   "source": [
    "(l3 as MyList.Cons).item // 다운캐스팅은 as로"
   ]
  },
  {
   "cell_type": "code",
   "execution_count": 8,
   "id": "41099723-6699-41dc-b64a-3b7733ab10f2",
   "metadata": {},
   "outputs": [
    {
     "name": "stderr",
     "output_type": "stream",
     "text": [
      "Line_0$MyList$Cons cannot be cast to Line_0$MyList$Nil\n",
      "java.lang.ClassCastException: Line_0$MyList$Cons cannot be cast to Line_0$MyList$Nil\n",
      "\tat Line_7.<init>(Line_7.jupyter-kts:1)\n",
      "\tat sun.reflect.NativeConstructorAccessorImpl.newInstance0(Native Method)\n",
      "\tat sun.reflect.NativeConstructorAccessorImpl.newInstance(NativeConstructorAccessorImpl.java:62)\n",
      "\tat sun.reflect.DelegatingConstructorAccessorImpl.newInstance(DelegatingConstructorAccessorImpl.java:45)\n",
      "\tat java.lang.reflect.Constructor.newInstance(Constructor.java:423)\n",
      "\tat kotlin.script.experimental.jvm.BasicJvmScriptEvaluator.evalWithConfigAndOtherScriptsResults(BasicJvmScriptEvaluator.kt:100)\n",
      "\tat kotlin.script.experimental.jvm.BasicJvmScriptEvaluator.invoke$suspendImpl(BasicJvmScriptEvaluator.kt:47)\n",
      "\tat kotlin.script.experimental.jvm.BasicJvmScriptEvaluator.invoke(BasicJvmScriptEvaluator.kt)\n",
      "\tat kotlin.script.experimental.jvm.BasicJvmReplEvaluator.eval(BasicJvmReplEvaluator.kt:49)\n",
      "\tat org.jetbrains.kotlinx.jupyter.repl.impl.InternalEvaluatorImpl$eval$resultWithDiagnostics$1.invokeSuspend(InternalEvaluatorImpl.kt:99)\n",
      "\tat kotlin.coroutines.jvm.internal.BaseContinuationImpl.resumeWith(ContinuationImpl.kt:33)\n",
      "\tat kotlinx.coroutines.DispatchedTask.run(DispatchedTask.kt:106)\n",
      "\tat kotlinx.coroutines.EventLoopImplBase.processNextEvent(EventLoop.common.kt:274)\n",
      "\tat kotlinx.coroutines.BlockingCoroutine.joinBlocking(Builders.kt:85)\n",
      "\tat kotlinx.coroutines.BuildersKt__BuildersKt.runBlocking(Builders.kt:59)\n",
      "\tat kotlinx.coroutines.BuildersKt.runBlocking(Unknown Source)\n",
      "\tat kotlinx.coroutines.BuildersKt__BuildersKt.runBlocking$default(Builders.kt:38)\n",
      "\tat kotlinx.coroutines.BuildersKt.runBlocking$default(Unknown Source)\n",
      "\tat org.jetbrains.kotlinx.jupyter.repl.impl.InternalEvaluatorImpl.eval(InternalEvaluatorImpl.kt:99)\n",
      "\tat org.jetbrains.kotlinx.jupyter.repl.impl.CellExecutorImpl$execute$1$result$1.invoke(CellExecutorImpl.kt:64)\n",
      "\tat org.jetbrains.kotlinx.jupyter.repl.impl.CellExecutorImpl$execute$1$result$1.invoke(CellExecutorImpl.kt:63)\n",
      "\tat org.jetbrains.kotlinx.jupyter.ReplForJupyterImpl.withHost(repl.kt:603)\n",
      "\tat org.jetbrains.kotlinx.jupyter.repl.impl.CellExecutorImpl.execute(CellExecutorImpl.kt:63)\n",
      "\tat org.jetbrains.kotlinx.jupyter.repl.CellExecutor$DefaultImpls.execute$default(CellExecutor.kt:13)\n",
      "\tat org.jetbrains.kotlinx.jupyter.ReplForJupyterImpl$evalEx$1.invoke(repl.kt:423)\n",
      "\tat org.jetbrains.kotlinx.jupyter.ReplForJupyterImpl$evalEx$1.invoke(repl.kt:412)\n",
      "\tat org.jetbrains.kotlinx.jupyter.ReplForJupyterImpl.withEvalContext(repl.kt:376)\n",
      "\tat org.jetbrains.kotlinx.jupyter.ReplForJupyterImpl.evalEx(repl.kt:412)\n",
      "\tat org.jetbrains.kotlinx.jupyter.ReplForJupyterImpl.eval(repl.kt:460)\n",
      "\tat org.jetbrains.kotlinx.jupyter.ProtocolKt$shellMessagesHandler$res$1.invoke(protocol.kt:291)\n",
      "\tat org.jetbrains.kotlinx.jupyter.ProtocolKt$shellMessagesHandler$res$1.invoke(protocol.kt:290)\n",
      "\tat org.jetbrains.kotlinx.jupyter.JupyterConnection$runExecution$execThread$1.invoke(connection.kt:166)\n",
      "\tat org.jetbrains.kotlinx.jupyter.JupyterConnection$runExecution$execThread$1.invoke(connection.kt:164)\n",
      "\tat kotlin.concurrent.ThreadsKt$thread$thread$1.run(Thread.kt:30)\n"
     ]
    }
   ],
   "source": [
    "l3 as MyList.Nil // 함부로 as를 사용하면 위험!!!"
   ]
  },
  {
   "cell_type": "code",
   "execution_count": 9,
   "id": "e7de1e16-e9b9-4dec-b54c-fbe5d1c8f1d5",
   "metadata": {},
   "outputs": [
    {
     "data": {
      "text/plain": [
       "first item: 30"
      ]
     },
     "execution_count": 9,
     "metadata": {},
     "output_type": "execute_result"
    }
   ],
   "source": [
    "when (l3) {\n",
    "    is MyList.Cons -> \"first item: ${l3.item}\" // l3가 이 범위에서는 KyList.Cons로 smart cast 됨\n",
    "    is MyList.Nil  -> \"MyList.Nil의 인스턴스\"\n",
    "}"
   ]
  },
  {
   "cell_type": "code",
   "execution_count": 10,
   "id": "1a11faff-b1be-44b9-93ba-6f8c42e2499d",
   "metadata": {},
   "outputs": [
    {
     "name": "stdout",
     "output_type": "stream",
     "text": [
      "first item: 30"
     ]
    }
   ],
   "source": [
    "if (l3 is MyList.Cons) {\n",
    "    print( \"first item: ${l3.item}\" ) // l3가 이 범위에서는 KyList.Cons로 smart cast 됨\n",
    "}"
   ]
  },
  {
   "cell_type": "code",
   "execution_count": 11,
   "id": "9614c6e8-48e1-469b-af81-62956a0b9355",
   "metadata": {},
   "outputs": [
    {
     "name": "stdout",
     "output_type": "stream",
     "text": [
      "30 20 10 "
     ]
    }
   ],
   "source": [
    "var p = l3\n",
    "// 반복문으로 하려면 이런 식으로\n",
    "while (p is MyList.Cons) {\n",
    "    val pp = p\n",
    "    when (pp) {\n",
    "        is MyList.Cons -> {\n",
    "            print(\"${pp.item} \")\n",
    "            p = pp.next\n",
    "        }\n",
    "        is MyList.Nil -> {\n",
    "            print(\"이곳은 실행이 될 일이 없겠죠 ...\")\n",
    "        }\n",
    "    }\n",
    "}"
   ]
  },
  {
   "cell_type": "code",
   "execution_count": 12,
   "id": "74dac41f-7e68-4069-8369-c4aabd1ca64e",
   "metadata": {},
   "outputs": [
    {
     "name": "stdout",
     "output_type": "stream",
     "text": [
      "30 20 10 "
     ]
    }
   ],
   "source": [
    "var p = l3\n",
    "// 반복문으로 하려면 이런 식으로\n",
    "while (p is MyList.Cons) { // 사실 여기서 검사를 했으니까\n",
    "    // 이 사이에 아무 코드가 없다면 웬만하면 안전 (멀티스레드니 이런 거 아니면)\n",
    "    val pp = p as MyList.Cons // 무조건 다운캐스팅\n",
    "    print(\"${pp.item} \")\n",
    "    p = pp.next\n",
    "}"
   ]
  },
  {
   "cell_type": "code",
   "execution_count": 13,
   "id": "c9e3547a-268e-4bf3-a77e-6b96455408a3",
   "metadata": {},
   "outputs": [],
   "source": [
    "// 미완성 TODO 제네릭 버전의 GList"
   ]
  },
  {
   "cell_type": "code",
   "execution_count": 14,
   "id": "e2c20d48-ae5a-41db-92ff-4f45385d28b8",
   "metadata": {},
   "outputs": [],
   "source": [
    "sealed class GList<out T>() {\n",
    "    abstract fun size() : Int\n",
    "    \n",
    "    data class Cons<out T>(val item: T, val next: GList<T>) : GList<T>() {\n",
    "        override fun size() = 1 + next.size()\n",
    "    }\n",
    "    object Nil: GList<Nothing>() {\n",
    "        override fun toString() = \"Nil\"\n",
    "        override fun size() = 0\n",
    "    }\n",
    "}"
   ]
  },
  {
   "cell_type": "code",
   "execution_count": 15,
   "id": "db976d0d-13a0-4ec8-a66a-2dbf1d6cd04c",
   "metadata": {},
   "outputs": [],
   "source": [
    "val l2: GList<Int> = GList.Cons(1, GList.Cons(2, GList.Nil) )"
   ]
  },
  {
   "cell_type": "code",
   "execution_count": null,
   "id": "62061247-47da-4a88-ac93-db97f0b68a64",
   "metadata": {},
   "outputs": [],
   "source": []
  }
 ],
 "metadata": {
  "kernelspec": {
   "display_name": "Kotlin",
   "language": "kotlin",
   "name": "kotlin"
  },
  "language_info": {
   "codemirror_mode": "text/x-kotlin",
   "file_extension": ".kt",
   "mimetype": "text/x-kotlin",
   "name": "kotlin",
   "nbconvert_exporter": "",
   "pygments_lexer": "kotlin",
   "version": "1.6.20-dev-6372"
  }
 },
 "nbformat": 4,
 "nbformat_minor": 5
}
