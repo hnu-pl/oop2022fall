{
 "cells": [
  {
   "cell_type": "markdown",
   "id": "f3549593-19ee-4086-8681-6590030c38ab",
   "metadata": {},
   "source": [
    "# Delegation"
   ]
  },
  {
   "cell_type": "code",
   "execution_count": 1,
   "id": "f159d028-338b-4639-8cbf-741e9e680b2c",
   "metadata": {},
   "outputs": [],
   "source": [
    "// https://codechacha.com/ko/kotlin-deligation-using-by/ 의 예제를 참고로 변경\n",
    "// 근데 window 예제가 delegate 설명할 때 거의 표준적인 예제인듯 여기 말고도 비슷한 예제로 많이들 설명\n",
    "interface IWindow {\n",
    "    fun getWidth() : Int\n",
    "    fun getHeight() : Int\n",
    "}\n",
    "\n",
    "open class TransparentWindow() : IWindow {\n",
    "    override fun getWidth() = 100\n",
    "    override fun getHeight() = this.getWidth() + 50\n",
    "}\n",
    "\n",
    "class InheritedUI() : TransparentWindow() {\n",
    "    override fun getWidth() = 150\n",
    "}\n",
    "\n",
    "class DelegatedUI(window: IWindow) : IWindow by window {\n",
    "    override fun getWidth() = 150; // delegate의 override는 상속과 다르다\n",
    "}"
   ]
  },
  {
   "cell_type": "code",
   "execution_count": 2,
   "id": "1c446a45-a32c-41ab-b5b8-94570dc03906",
   "metadata": {},
   "outputs": [
    {
     "name": "stdout",
     "output_type": "stream",
     "text": [
      "iUI - width: 150, height: 200\n",
      "dUI - width: 150, height: 150\n"
     ]
    }
   ],
   "source": [
    "val iUI = InheritedUI()\n",
    "System.out.println(\"iUI - width: ${iUI.getWidth()}, height: ${iUI.getHeight()}\")\n",
    "\n",
    "val window: IWindow = TransparentWindow()\n",
    "val dUI = DelegatedUI(window)\n",
    "System.out.println(\"dUI - width: ${dUI.getWidth()}, height: ${dUI.getHeight()}\")"
   ]
  },
  {
   "cell_type": "markdown",
   "id": "bedfa289-8257-4be4-8022-0c5e1f8b5b2e",
   "metadata": {},
   "source": [
    "----\n",
    "    \n",
    "부모님의 회사를 직접 **상속**(inherit)받으려고 생각해 봤더니 ...\n",
    "\n",
    "그동안 하던 업무 프로세스가 한눈에 파악하기도 힘들고 구식인 거 같아 그대로 따르기는 싫고 변경해 보고 싶은 것도 있지만\n",
    "\n",
    "그렇다고 경험이 부족한 내가 당장 뭘 건드리면 기존에 잘 돌아가던 업무들에 어떤 영향을 미칠지 모르니 답답한 노릇이다.\n",
    "\n",
    "이럴 때는 작은 사무실에 간판만 걸고 하나 새로 차려서 대부분의 일은 예전부터 부모님이 운영하시는 회사에 **위임**(delegate)해 버리고\n",
    "내가 내 사무실 사정에 일단 맞는 만큼만 바꿔보고 싶은 것만 조금 바꿔서 처리해 보는 게 나을 수 있다."
   ]
  },
  {
   "cell_type": "code",
   "execution_count": 3,
   "id": "4f0fb825-523e-4a3c-9ad6-471e82c13661",
   "metadata": {},
   "outputs": [],
   "source": [
    "interface Company {\n",
    "    fun order()\n",
    "    fun orderMany(n: Int)\n",
    "}\n",
    "\n",
    "open class OldCompany() : Company {\n",
    "    override fun order() {\n",
    "        println(\"김밥 나왔습니다\")\n",
    "    }\n",
    "    override fun orderMany(n: Int) {\n",
    "        println(\"<<< 단체주문 처리 시작\")\n",
    "        for (i in 1..n) order()\n",
    "        println(\">>> 단체주문 처리 종료\")\n",
    "    }\n",
    "}"
   ]
  },
  {
   "cell_type": "code",
   "execution_count": 4,
   "id": "1ac6370a-79d6-4671-a761-ab8257eee379",
   "metadata": {},
   "outputs": [],
   "source": [
    "val oldC = OldCompany()"
   ]
  },
  {
   "cell_type": "code",
   "execution_count": 5,
   "id": "376a423c-500c-4d8b-b321-23dcb72edbc9",
   "metadata": {},
   "outputs": [
    {
     "name": "stdout",
     "output_type": "stream",
     "text": [
      "김밥 나왔습니다\n"
     ]
    }
   ],
   "source": [
    "oldC.order()"
   ]
  },
  {
   "cell_type": "code",
   "execution_count": 6,
   "id": "4fc0eaf3-945f-4e8c-be1d-3a92268fc861",
   "metadata": {},
   "outputs": [
    {
     "name": "stdout",
     "output_type": "stream",
     "text": [
      "<<< 단체주문 처리 시작\n",
      "김밥 나왔습니다\n",
      "김밥 나왔습니다\n",
      "김밥 나왔습니다\n",
      "김밥 나왔습니다\n",
      "김밥 나왔습니다\n",
      "김밥 나왔습니다\n",
      "김밥 나왔습니다\n",
      "김밥 나왔습니다\n",
      "김밥 나왔습니다\n",
      "김밥 나왔습니다\n",
      ">>> 단체주문 처리 종료\n"
     ]
    }
   ],
   "source": [
    "oldC.orderMany(10)"
   ]
  },
  {
   "cell_type": "code",
   "execution_count": 7,
   "id": "42a7ae16-de74-4720-a3ce-bba0f49a4254",
   "metadata": {},
   "outputs": [],
   "source": [
    "class InheritedCompany() : OldCompany() {\n",
    "    override fun order() {\n",
    "        println(\"컴밥/김밥 중에 고르시는 대로 나갑니다\")\n",
    "    }\n",
    "}"
   ]
  },
  {
   "cell_type": "code",
   "execution_count": 8,
   "id": "d1b0249b-fb6d-4dd4-a8f1-479727642780",
   "metadata": {},
   "outputs": [],
   "source": [
    "val inhC = InheritedCompany()"
   ]
  },
  {
   "cell_type": "code",
   "execution_count": 9,
   "id": "c9ef9830-6a5a-44b8-8e0e-7cf3c5f3577c",
   "metadata": {},
   "outputs": [
    {
     "name": "stdout",
     "output_type": "stream",
     "text": [
      "컴밥/김밥 중에 고르시는 대로 나갑니다\n"
     ]
    }
   ],
   "source": [
    "inhC.order() // 드디어 신메뉴를 개인 고객에게 출시!"
   ]
  },
  {
   "cell_type": "code",
   "execution_count": 10,
   "id": "e833d22b-001e-4875-ab39-611bc49aa335",
   "metadata": {},
   "outputs": [
    {
     "name": "stdout",
     "output_type": "stream",
     "text": [
      "<<< 단체주문 처리 시작\n",
      "컴밥/김밥 중에 고르시는 대로 나갑니다\n",
      "컴밥/김밥 중에 고르시는 대로 나갑니다\n",
      "컴밥/김밥 중에 고르시는 대로 나갑니다\n",
      "컴밥/김밥 중에 고르시는 대로 나갑니다\n",
      "컴밥/김밥 중에 고르시는 대로 나갑니다\n",
      "컴밥/김밥 중에 고르시는 대로 나갑니다\n",
      "컴밥/김밥 중에 고르시는 대로 나갑니다\n",
      "컴밥/김밥 중에 고르시는 대로 나갑니다\n",
      "컴밥/김밥 중에 고르시는 대로 나갑니다\n",
      "컴밥/김밥 중에 고르시는 대로 나갑니다\n",
      ">>> 단체주문 처리 종료\n"
     ]
    }
   ],
   "source": [
    "inhC.orderMany(10) // 아 단체주문 작업까지 바꾸려던 건 아닌데 ..."
   ]
  },
  {
   "cell_type": "code",
   "execution_count": 11,
   "id": "5be82bfb-d559-478c-a5e3-528ae29d04ed",
   "metadata": {},
   "outputs": [],
   "source": [
    "class MyCompany(val c: Company) : Company by c {\n",
    "    override fun order() {\n",
    "        println(\"컴밥/김밥 중에 고르시는 대로 나갑니다\")\n",
    "    }\n",
    "}"
   ]
  },
  {
   "cell_type": "code",
   "execution_count": 12,
   "id": "de9a3dc1-533e-4eda-96cc-d909927c751d",
   "metadata": {},
   "outputs": [],
   "source": [
    "val myC = MyCompany( oldC )"
   ]
  },
  {
   "cell_type": "code",
   "execution_count": 13,
   "id": "b38aebb2-ffbc-4435-a70b-1d47cc98d0c1",
   "metadata": {},
   "outputs": [
    {
     "name": "stdout",
     "output_type": "stream",
     "text": [
      "컴밥/김밥 중에 고르시는 대로 나갑니다\n"
     ]
    }
   ],
   "source": [
    "myC.order() // 드디어 신메뉴를 개인 고객에게 출시!"
   ]
  },
  {
   "cell_type": "code",
   "execution_count": 14,
   "id": "33862861-e5ab-4dcd-bc8d-d3840487cffe",
   "metadata": {},
   "outputs": [
    {
     "name": "stdout",
     "output_type": "stream",
     "text": [
      "<<< 단체주문 처리 시작\n",
      "김밥 나왔습니다\n",
      "김밥 나왔습니다\n",
      "김밥 나왔습니다\n",
      "김밥 나왔습니다\n",
      "김밥 나왔습니다\n",
      "김밥 나왔습니다\n",
      "김밥 나왔습니다\n",
      "김밥 나왔습니다\n",
      "김밥 나왔습니다\n",
      "김밥 나왔습니다\n",
      ">>> 단체주문 처리 종료\n"
     ]
    }
   ],
   "source": [
    "myC.orderMany(10) // 단체주문은 안정적인 예전 프로세스 유지"
   ]
  },
  {
   "cell_type": "code",
   "execution_count": null,
   "id": "c0aae0a6-ce0b-409c-9aea-4580d6c3e305",
   "metadata": {},
   "outputs": [],
   "source": []
  }
 ],
 "metadata": {
  "kernelspec": {
   "display_name": "Kotlin",
   "language": "kotlin",
   "name": "kotlin"
  },
  "language_info": {
   "codemirror_mode": "text/x-kotlin",
   "file_extension": ".kt",
   "mimetype": "text/x-kotlin",
   "name": "kotlin",
   "nbconvert_exporter": "",
   "pygments_lexer": "kotlin",
   "version": "1.6.20-dev-6372"
  }
 },
 "nbformat": 4,
 "nbformat_minor": 5
}
