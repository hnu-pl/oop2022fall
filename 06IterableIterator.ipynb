{
 "cells": [
  {
   "cell_type": "markdown",
   "metadata": {},
   "source": [
    "# Iterable, Iterator\n",
    "\n",
    "https://docs.oracle.com/en/java/javase/11/docs/api/java.base/java/lang/Iterable.html\n",
    "\n",
    "https://docs.oracle.com/en/java/javase/11/docs/api/java.base/java/util/Iterator.html"
   ]
  },
  {
   "cell_type": "code",
   "execution_count": 1,
   "metadata": {},
   "outputs": [
    {
     "name": "stdout",
     "output_type": "stream",
     "text": [
      "1\n",
      "2\n",
      "3\n"
     ]
    }
   ],
   "source": [
    "int[] a = {1,2,3};\n",
    "\n",
    "for (var x: a)\n",
    "    System.out.println(x)"
   ]
  },
  {
   "cell_type": "markdown",
   "metadata": {},
   "source": [
    "## Iterable 인터페이스를 구현하면 배열처럼 for문 활용 가능"
   ]
  },
  {
   "cell_type": "code",
   "execution_count": 2,
   "metadata": {},
   "outputs": [
    {
     "data": {
      "text/plain": [
       "true"
      ]
     },
     "execution_count": 2,
     "metadata": {},
     "output_type": "execute_result"
    }
   ],
   "source": [
    "var l = List.of(1,2,3);\n",
    "\n",
    "l instanceof Iterable"
   ]
  },
  {
   "cell_type": "code",
   "execution_count": 3,
   "metadata": {},
   "outputs": [
    {
     "name": "stdout",
     "output_type": "stream",
     "text": [
      "1 2 3 "
     ]
    }
   ],
   "source": [
    "for (var x: l)\n",
    "    System.out.print(x + \" \");"
   ]
  },
  {
   "cell_type": "code",
   "execution_count": 4,
   "metadata": {},
   "outputs": [
    {
     "name": "stdout",
     "output_type": "stream",
     "text": [
      "1 2 3 "
     ]
    }
   ],
   "source": [
    "var it = l.iterator(); \n",
    "while ( it.hasNext() ) {\n",
    "    var x = it.next();\n",
    "    System.out.print(x + \" \");\n",
    "}"
   ]
  },
  {
   "cell_type": "code",
   "execution_count": 5,
   "metadata": {},
   "outputs": [
    {
     "data": {
      "text/plain": [
       "true"
      ]
     },
     "execution_count": 5,
     "metadata": {},
     "output_type": "execute_result"
    }
   ],
   "source": [
    "var ll = new LinkedList<>( List.of(4,5,6) );\n",
    "\n",
    "ll instanceof Iterable"
   ]
  },
  {
   "cell_type": "code",
   "execution_count": 6,
   "metadata": {},
   "outputs": [
    {
     "name": "stdout",
     "output_type": "stream",
     "text": [
      "4 5 6 "
     ]
    }
   ],
   "source": [
    "for (var x: ll)\n",
    "    System.out.print(x + \" \");"
   ]
  },
  {
   "cell_type": "code",
   "execution_count": 7,
   "metadata": {},
   "outputs": [
    {
     "name": "stdout",
     "output_type": "stream",
     "text": [
      "4 5 6 "
     ]
    }
   ],
   "source": [
    "var it = ll.iterator(); \n",
    "while ( it.hasNext() ) {\n",
    "    var x = it.next();\n",
    "    System.out.print(x + \" \");\n",
    "}"
   ]
  },
  {
   "cell_type": "code",
   "execution_count": 8,
   "metadata": {},
   "outputs": [
    {
     "data": {
      "text/plain": [
       "true"
      ]
     },
     "execution_count": 8,
     "metadata": {},
     "output_type": "execute_result"
    }
   ],
   "source": [
    "var al = new ArrayList<>( List.of(7,8,9) );\n",
    "\n",
    "al instanceof Iterable"
   ]
  },
  {
   "cell_type": "code",
   "execution_count": 9,
   "metadata": {},
   "outputs": [
    {
     "name": "stdout",
     "output_type": "stream",
     "text": [
      "7 8 9 "
     ]
    }
   ],
   "source": [
    "for (var x: al)\n",
    "    System.out.print(x + \" \");"
   ]
  },
  {
   "cell_type": "markdown",
   "metadata": {},
   "source": [
    "## 간단한 데이터 구조에 대한 Iterable 구현 및 Iterator 작성"
   ]
  },
  {
   "cell_type": "code",
   "execution_count": 10,
   "metadata": {},
   "outputs": [],
   "source": [
    "class MyTriple<E> implements Iterable<E> {\n",
    "    E x, y, z;\n",
    "    \n",
    "    MyTriple(E x, E y, E z) {\n",
    "        this.x = x;\n",
    "        this.y = y;\n",
    "        this.z = z;\n",
    "    }\n",
    "    \n",
    "    @Override public Iterator<E> iterator() {\n",
    "        return new MyTripleIterator<>(this); \n",
    "    }\n",
    "}"
   ]
  },
  {
   "cell_type": "code",
   "execution_count": 11,
   "metadata": {},
   "outputs": [],
   "source": [
    "class MyTripleIterator<E> implements Iterator<E> {\n",
    "    MyTriple<E> t;\n",
    "    int counter = 0;\n",
    "    \n",
    "    MyTripleIterator(MyTriple<E> t) { this.t = t; }\n",
    "    @Override\n",
    "    public boolean hasNext() { return counter < 3; }\n",
    "    @Override\n",
    "    public E next() {\n",
    "        switch(counter++) {\n",
    "            case 0: return t.x;\n",
    "            case 1: return t.y;\n",
    "            case 2: return t.z;\n",
    "            default: return t.z; // 제대로 하려면 익셉션 처리해야 ...\n",
    "        }\n",
    "    }\n",
    "}"
   ]
  },
  {
   "cell_type": "code",
   "execution_count": 12,
   "metadata": {},
   "outputs": [
    {
     "name": "stdout",
     "output_type": "stream",
     "text": [
      "11 22 33 "
     ]
    }
   ],
   "source": [
    "var t1 = new MyTriple<>(11,22,33);\n",
    "\n",
    "for (var x: t1)\n",
    "    System.out.print(x + \" \");"
   ]
  },
  {
   "cell_type": "code",
   "execution_count": 13,
   "metadata": {},
   "outputs": [
    {
     "name": "stdout",
     "output_type": "stream",
     "text": [
      "hello triple bye "
     ]
    }
   ],
   "source": [
    "var t2 = new MyTriple<>(\"hello\",\"triple\",\"bye\");\n",
    "\n",
    "for (var x: t2)\n",
    "    System.out.print(x + \" \");"
   ]
  }
 ],
 "metadata": {
  "kernelspec": {
   "display_name": "Java",
   "language": "java",
   "name": "java"
  },
  "language_info": {
   "name": "java"
  }
 },
 "nbformat": 4,
 "nbformat_minor": 4
}
