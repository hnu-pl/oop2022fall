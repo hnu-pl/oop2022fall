{
 "cells": [
  {
   "cell_type": "markdown",
   "metadata": {},
   "source": [
    "# 04 Method Chaining\n",
    "20년도 넘은 민속놀이 장면을 하나 감상해 보자"
   ]
  },
  {
   "cell_type": "markdown",
   "metadata": {},
   "source": [
    "![캐리어](https://i.imgur.com/wjB8g6N.gif)"
   ]
  },
  {
   "cell_type": "code",
   "execution_count": 1,
   "metadata": {},
   "outputs": [],
   "source": [
    "class Missile {\n",
    "}\n",
    "\n",
    "class Intercepter { // 요격기\n",
    "     Missile launch() { return new Missile(); } // 미사일 발사\n",
    "}\n",
    "\n",
    "class Carrier { // 모함\n",
    "    Intercepter eject() { return new Intercepter(); } // 요격기 출격\n",
    "}\n",
    "\n",
    "class Stargate { // 우주관문: 공중(우주) 전투 부대 소환 장치\n",
    "    Carrier warpIn() { return new Carrier(); }    // 모함 소환\n",
    "}"
   ]
  },
  {
   "cell_type": "code",
   "execution_count": 2,
   "metadata": {},
   "outputs": [
    {
     "data": {
      "text/plain": [
       "REPL.$JShell$12$Missile@361e4a4e"
      ]
     },
     "execution_count": 2,
     "metadata": {},
     "output_type": "execute_result"
    }
   ],
   "source": [
    "Stargate sg1 = new Stargate();\n",
    "Carrier carrier = sg1.warpIn(); // 모함을 하나 소환해서 carrier 변수에 대입\n",
    "Intercepter intercepter = carrier.eject(); // 요격기 하나 출격해서 intercepter 변수에 대입\n",
    "intercepter.launch() // 미사일 발사"
   ]
  },
  {
   "cell_type": "code",
   "execution_count": 3,
   "metadata": {},
   "outputs": [
    {
     "data": {
      "text/plain": [
       "REPL.$JShell$12$Missile@2b69af0"
      ]
     },
     "execution_count": 3,
     "metadata": {},
     "output_type": "execute_result"
    }
   ],
   "source": [
    "Stargate sg2 = new Stargate();\n",
    "// 위에서 carrier나 intercepter같은 변수로 다시 참조할 일이 없고 미사일만 발사하는 데만 관심이 있다면\n",
    "\n",
    "// 이런 식으로 연달아서 메소드 호출을 하는 것을 거창하게 있어보이는 말로 메소드 체이닝 이라고\n",
    "sg2.warpIn().eject().launch(); // 우주관문에서 모함을 소환해서, 그 모함에서 요격기 출격시키고, 그 요격기에서 미사일 발사!"
   ]
  },
  {
   "cell_type": "markdown",
   "metadata": {},
   "source": [
    "<br>\n",
    "\n",
    "메소드 체이닝이과 비슷한 일을 우리는 초등학교 때부터 사실 하고 있었다.\n",
    "\n",
    "`1 + 2 + 3 + 4` 를 계산한다고 칠때\n",
    " - `1 + 2`를 해서 `x`에 3을 저장하고\n",
    " - `x + 3`을 해서 `y`에 6을 저장하고\n",
    " - `y + 4`를 해서 10을 구하지 않죠!\n",
    " \n",
    "물론 이렇게 중간값을 `x`나 `y`같은 변수로 각 단계마다 이름붙여 가면서 지정해도 되긴 한데 ... 굳이 그럴 필요 없죠 보통은\n",
    "\n",
    "이미 초등학교 때부터 이렇게 했죠\n",
    " - `1 + 2 + 3 + 4 = 3 + 3 + 4 = 6 + 4 = 10` 이러고 끝"
   ]
  },
  {
   "cell_type": "markdown",
   "metadata": {},
   "source": [
    "----\n",
    "## `this`를 리턴하는 메소드 체이닝\n",
    "\n",
    "메소드 체이닝은 한 클래스의 메소드로도 계속 진행이 가능"
   ]
  },
  {
   "cell_type": "code",
   "execution_count": 4,
   "metadata": {},
   "outputs": [],
   "source": [
    "class Point { // 2차원 좌표 위치\n",
    "    final int x; // 불변 속성\n",
    "    final int y; // 불변 속성\n",
    "    Point(int x, int y) { this.x = x; this.y = y; }\n",
    "    @Override public String toString() { return \"(\"+x+\",\"+y+\")\"; }\n",
    "    \n",
    "    Point move(int dx, int dy) { // 이런 식으로 객체의 내용을 변경하지 않는 메소드만 있는 경우 내용(멤버변수)를 불변으로\n",
    "        return new Point(x+dx, y+dy);\n",
    "    }\n",
    "}"
   ]
  },
  {
   "cell_type": "code",
   "execution_count": 5,
   "metadata": {},
   "outputs": [],
   "source": [
    "Point p = new Point(1,1);"
   ]
  },
  {
   "cell_type": "code",
   "execution_count": 6,
   "metadata": {},
   "outputs": [
    {
     "data": {
      "text/plain": [
       "(1,1)"
      ]
     },
     "execution_count": 6,
     "metadata": {},
     "output_type": "execute_result"
    }
   ],
   "source": [
    "p"
   ]
  },
  {
   "cell_type": "code",
   "execution_count": 7,
   "metadata": {},
   "outputs": [
    {
     "data": {
      "text/plain": [
       "(4,6)"
      ]
     },
     "execution_count": 7,
     "metadata": {},
     "output_type": "execute_result"
    }
   ],
   "source": [
    "p.move(3,5)"
   ]
  },
  {
   "cell_type": "code",
   "execution_count": 8,
   "metadata": {},
   "outputs": [
    {
     "data": {
      "text/plain": [
       "(14,26)"
      ]
     },
     "execution_count": 8,
     "metadata": {},
     "output_type": "execute_result"
    }
   ],
   "source": [
    "p.move(3,5).move(10,20)"
   ]
  },
  {
   "cell_type": "code",
   "execution_count": 9,
   "metadata": {},
   "outputs": [
    {
     "data": {
      "text/plain": [
       "(10,20)"
      ]
     },
     "execution_count": 9,
     "metadata": {},
     "output_type": "execute_result"
    }
   ],
   "source": [
    "p.move(3,5).move(10,20).move(-4,-6)"
   ]
  },
  {
   "cell_type": "code",
   "execution_count": 10,
   "metadata": {},
   "outputs": [
    {
     "data": {
      "text/plain": [
       "(1,1)"
      ]
     },
     "execution_count": 10,
     "metadata": {},
     "output_type": "execute_result"
    }
   ],
   "source": [
    "p"
   ]
  },
  {
   "cell_type": "markdown",
   "metadata": {},
   "source": [
    "<br>\n",
    "비슷하지만 move 메소드를 조금 다르게 정의한 클래스를 살펴보자."
   ]
  },
  {
   "cell_type": "code",
   "execution_count": 11,
   "metadata": {},
   "outputs": [],
   "source": [
    "class Point2 {\n",
    "    int x;\n",
    "    int y;\n",
    "    Point2(int x, int y) { this.x = x; this.y = y; }\n",
    "    @Override public String toString() { return \"(\"+x+\",\"+y+\")\"; }\n",
    "    \n",
    "    Point2 move(int dx, int dy) { // 객체의 내용(멤버변수)를 변경(다시 대입)할 경우에는 불변으로 하면 안됨\n",
    "        x += dx;\n",
    "        y += dy;\n",
    "        return this;\n",
    "    }\n",
    "}"
   ]
  },
  {
   "cell_type": "code",
   "execution_count": 12,
   "metadata": {},
   "outputs": [],
   "source": [
    "Point2 p2 = new Point2(1,1);"
   ]
  },
  {
   "cell_type": "code",
   "execution_count": 13,
   "metadata": {},
   "outputs": [
    {
     "data": {
      "text/plain": [
       "(1,1)"
      ]
     },
     "execution_count": 13,
     "metadata": {},
     "output_type": "execute_result"
    }
   ],
   "source": [
    "p2"
   ]
  },
  {
   "cell_type": "code",
   "execution_count": 14,
   "metadata": {},
   "outputs": [
    {
     "data": {
      "text/plain": [
       "(4,6)"
      ]
     },
     "execution_count": 14,
     "metadata": {},
     "output_type": "execute_result"
    }
   ],
   "source": [
    "p2.move(3,5)"
   ]
  },
  {
   "cell_type": "code",
   "execution_count": 15,
   "metadata": {},
   "outputs": [
    {
     "data": {
      "text/plain": [
       "(4,6)"
      ]
     },
     "execution_count": 15,
     "metadata": {},
     "output_type": "execute_result"
    }
   ],
   "source": [
    "p2"
   ]
  },
  {
   "cell_type": "code",
   "execution_count": 16,
   "metadata": {},
   "outputs": [],
   "source": [
    "Point2 p3 = new Point2(1,1);"
   ]
  },
  {
   "cell_type": "code",
   "execution_count": 17,
   "metadata": {},
   "outputs": [
    {
     "data": {
      "text/plain": [
       "(1,1)"
      ]
     },
     "execution_count": 17,
     "metadata": {},
     "output_type": "execute_result"
    }
   ],
   "source": [
    "p3"
   ]
  },
  {
   "cell_type": "code",
   "execution_count": 18,
   "metadata": {},
   "outputs": [
    {
     "data": {
      "text/plain": [
       "(10,20)"
      ]
     },
     "execution_count": 18,
     "metadata": {},
     "output_type": "execute_result"
    }
   ],
   "source": [
    "p3.move(3,5).move(10,20).move(-4,-6)"
   ]
  },
  {
   "cell_type": "code",
   "execution_count": 19,
   "metadata": {},
   "outputs": [
    {
     "data": {
      "text/plain": [
       "(10,20)"
      ]
     },
     "execution_count": 19,
     "metadata": {},
     "output_type": "execute_result"
    }
   ],
   "source": [
    "p3"
   ]
  },
  {
   "cell_type": "code",
   "execution_count": null,
   "metadata": {},
   "outputs": [],
   "source": []
  }
 ],
 "metadata": {
  "kernelspec": {
   "display_name": "Java",
   "language": "java",
   "name": "java"
  },
  "language_info": {
   "codemirror_mode": "java",
   "file_extension": ".jshell",
   "mimetype": "text/x-java-source",
   "name": "Java",
   "pygments_lexer": "java",
   "version": "11.0.8+10-LTS"
  }
 },
 "nbformat": 4,
 "nbformat_minor": 5
}
