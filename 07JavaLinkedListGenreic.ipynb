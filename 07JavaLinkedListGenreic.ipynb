{
 "cells": [
  {
   "cell_type": "markdown",
   "id": "3b0f41f4-6150-43e2-bf61-feed8f1b9ff0",
   "metadata": {},
   "source": [
    "# Java Linked List Genreic"
   ]
  },
  {
   "cell_type": "code",
   "execution_count": 28,
   "id": "ca1c487f-13d9-427e-b163-ce88f7c7fdf3",
   "metadata": {},
   "outputs": [],
   "source": [
    "class Cons<T> { // 자기 자신과 같은 구조의 부분을 1개 포함하는 1진트리 = 리스트\n",
    "    T data;\n",
    "    Cons<T> next;\n",
    "    Cons(T d, Cons<T> n) { data = d; next = n; }\n",
    "}"
   ]
  },
  {
   "cell_type": "markdown",
   "id": "6acff6be-faa0-495f-ac95-bb5a85a3e561",
   "metadata": {},
   "source": [
    "다형성(polymorhpism) 굉장히 다양한 의미, 어떤 다형성?\n",
    "- 상속/인터페이스 ... subtype polymorphsism\n",
    "- 제네릭과 관련 (모든 타입에 대해 같은 구조의 동작) parametric polymorphism\n",
    "\n",
    "제네릭 파라메터\n",
    "- 공변 covariant:  `T1 <: T2` 이면 `C<T1> <: C<T2>`\n",
    "   - `Apple <: Fruit`  이므로 `Basket<Apple> <: Basket<Fruit>` (단, 바구니에 있는 물건을 바꿔치지 않는다는 가정하에)\n",
    "   - 아무 과일바구니를 주문했을 때 사과바구니를 제공해도 불만 없음\n",
    "   - Java에서 불변 컬렉션 Immutable Collection에 대한 인터페이스를 바탕으로 공변으로 정의할 수 있을 거다 (실제 표준 Java API에서도 이미 그렇게 제공되지 않는다. 왜냐하면 이미 읽기 쓰기 둘다 가능한 인터페이스를 표준 API 상위 인터페이스로 만들어 놓았기 때문에 ...)\n",
    "- 반(공)변 contravariant:  `T1 <: T2` 이면 `C<T2> <: C<T1>` \n",
    "   - 쓰레기통/분리수거 `Aluminum <: Metal` 이면 `Bin<Metal> <: Bin<Aluminum>`\n",
    "   - 알루미늄 캔 분리수거통이 필요한 곳에 아무 금속이나 재활용 가능한 분리수거통을 놓아도 불만 없음\n",
    "- 무(공)변 invariant <=== 기본은 이거 `T1 <: T2`이더라도 `C<T1>`과 `C<T2>`는 상하관계 성립 안함\n",
    "   - Java의 읽기 쓰기 가능한 불변이 아닌 컬렉션(및 그에 대한 인터페이스)\n",
    "   - 읽기 쓰기 가능한 배열 무공변이어야 하는데 개념적으로는\n",
    "   - Java의 경우는 역사적인 실수로 공변(covariant)이라고 해버리고 단, 초기화 이후 배열에 대입을 하는 코드가 포함되어 있는지 컴파일러가 열심히 분석을 해서 그런 가능성이 있는 코드가 한줄이라도 포함되어 있으면 예외적으로 뭔가 무변 비슷하게 처리 ... 를 한다고 함 ..."
   ]
  },
  {
   "cell_type": "code",
   "execution_count": 51,
   "id": "7197775d-43dc-4688-a1ed-c0b29227e21b",
   "metadata": {},
   "outputs": [],
   "source": [
    "var l1 = new Cons<>(10,null);\n",
    "var l2 = new Cons<>(20,l1);\n",
    "var l3 = new Cons<>(30,l2);"
   ]
  },
  {
   "cell_type": "code",
   "execution_count": 52,
   "id": "7757a0fa-c22b-44f7-813f-0055571053db",
   "metadata": {},
   "outputs": [
    {
     "name": "stdout",
     "output_type": "stream",
     "text": [
      "30 20 10 "
     ]
    }
   ],
   "source": [
    "for (var l = l3; l != nil; l = l.next)\n",
    "    System.out.print(l.data + \" \");"
   ]
  },
  {
   "cell_type": "code",
   "execution_count": 57,
   "id": "24987def-307b-4829-a330-8dabb0f7fee1",
   "metadata": {},
   "outputs": [
    {
     "ename": "CompilationException",
     "evalue": "",
     "output_type": "error",
     "traceback": [
      "\u001b[1m\u001b[30m|   \u001b[1m\u001b[30mvar l30 = \u001b[0m\u001b[1m\u001b[30m\u001b[41mnew Cons<>(\"three\",l2)\u001b[0m\u001b[1m\u001b[30m;\u001b[0m",
      "\u001b[1m\u001b[31mcannot infer type arguments for Cons<>\u001b[0m",
      "\u001b[1m\u001b[31m  reason: inference variable T has incompatible bounds\u001b[0m",
      "\u001b[1m\u001b[31m    equality constraints: java.lang.Integer\u001b[0m",
      "\u001b[1m\u001b[31m    lower bounds: java.lang.String\u001b[0m",
      ""
     ]
    }
   ],
   "source": [
    "var l10 = new Cons<>(\"one\",null);\n",
    "var l20 = new Cons<>(\"two\",l10);\n",
    "var l30 = new Cons<>(\"three\",l2);"
   ]
  },
  {
   "cell_type": "code",
   "execution_count": 56,
   "id": "a85bc7fa-f34e-47e2-8176-7c4a66830f11",
   "metadata": {},
   "outputs": [
    {
     "ename": "CompilationException",
     "evalue": "",
     "output_type": "error",
     "traceback": [
      "\u001b[1m\u001b[30m|   \u001b[1m\u001b[30ml30.next.data = \u001b[0m\u001b[1m\u001b[30m\u001b[41m20\u001b[0m\u001b[1m\u001b[30m\u001b[0m",
      "\u001b[1m\u001b[31mincompatible types: int cannot be converted to java.lang.String\u001b[0m",
      ""
     ]
    }
   ],
   "source": [
    "l30.next.data = 20"
   ]
  },
  {
   "cell_type": "code",
   "execution_count": null,
   "id": "330f05fa-f4b9-4c63-ab0c-cd180e061f33",
   "metadata": {},
   "outputs": [],
   "source": []
  }
 ],
 "metadata": {
  "kernelspec": {
   "display_name": "Java",
   "language": "java",
   "name": "java"
  },
  "language_info": {
   "codemirror_mode": "java",
   "file_extension": ".jshell",
   "mimetype": "text/x-java-source",
   "name": "Java",
   "pygments_lexer": "java",
   "version": "11.0.8+10-LTS"
  }
 },
 "nbformat": 4,
 "nbformat_minor": 5
}
