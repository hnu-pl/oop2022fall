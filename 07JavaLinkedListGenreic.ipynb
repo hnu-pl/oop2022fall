{
 "cells": [
  {
   "cell_type": "markdown",
   "metadata": {},
   "source": [
    "# Java Linked List Genreic"
   ]
  },
  {
   "cell_type": "code",
   "execution_count": 1,
   "metadata": {},
   "outputs": [],
   "source": [
    "class Cons<T> { // 자기 자신과 같은 구조의 부분을 1개 포함하는 1진트리 = 리스트\n",
    "    T data;\n",
    "    Cons<T> next;\n",
    "    Cons(T d, Cons<T> n) { data = d; next = n; }\n",
    "}"
   ]
  },
  {
   "cell_type": "markdown",
   "metadata": {},
   "source": [
    "다형성(polymorhpism) 굉장히 다양한 의미, 어떤 다형성?\n",
    "- 상속/인터페이스 ... subtype polymorphsism\n",
    "- 제네릭과 관련 (모든 타입에 대해 같은 구조의 동작) parametric polymorphism\n",
    "\n",
    "제네릭 파라메터\n",
    "- 공변 covariant:  `T1 <: T2` 이면 `C<T1> <: C<T2>`\n",
    "   - `Apple <: Fruit`  이므로 `Basket<Apple> <: Basket<Fruit>` (단, 바구니에 있는 물건을 바꿔치지 않는다는 가정하에)\n",
    "   - 아무 과일바구니를 주문했을 때 사과바구니를 제공해도 불만 없음\n",
    "   - Java에서 불변 컬렉션 Immutable Collection에 대한 인터페이스가 개념적으로는 공변임 (실제 표준 Java API에서도 이미 그렇게 제공되지 않는다. 왜냐하면 이미 읽기 쓰기 둘다 가능한 인터페이스를 표준 API 상위 인터페이스로 만들어 놓았기 때문에 ...)\n",
    "- 반(공)변 contravariant:  `T1 <: T2` 이면 `C<T2> <: C<T1>` \n",
    "   - 쓰레기통/분리수거 `Aluminum <: Metal` 이면 `Bin<Metal> <: Bin<Aluminum>`\n",
    "   - 알루미늄 캔 분리수거통이 필요한 곳에 아무 금속이나 재활용 가능한 분리수거통을 놓아도 불만 없음\n",
    "- 무(공)변 invariant <=== 기본은 이거 `T1 <: T2`이더라도 `C<T1>`과 `C<T2>`는 상하관계 성립 안함\n",
    "   - Java의 읽기 쓰기 가능한 불변이 아닌 컬렉션(및 그에 대한 인터페이스)\n",
    "   - 읽기 쓰기 가능한 배열 무공변이어야 하는데 개념적으로는\n",
    "   - Java의 경우는 역사적인 실수로 공변(covariant)이라고 해버리고 단, 초기화 이후 배열에 대입을 하는 코드가 포함되어 있는지 컴파일러가 열심히 분석을 해서 그런 가능성이 있는 코드가 한줄이라도 포함되어 있으면 예외적으로 뭔가 무변 비슷하게 처리 ... 를 한다고 함 ..."
   ]
  },
  {
   "cell_type": "code",
   "execution_count": 2,
   "metadata": {},
   "outputs": [],
   "source": [
    "var l1 = new Cons<>(10,null);\n",
    "var l2 = new Cons<>(20,l1);\n",
    "var l3 = new Cons<>(30,l2);"
   ]
  },
  {
   "cell_type": "code",
   "execution_count": 3,
   "metadata": {},
   "outputs": [
    {
     "ename": "CompilationException",
     "evalue": "",
     "output_type": "error",
     "traceback": [
      "\u001b[1m\u001b[30m|   \u001b[1m\u001b[30mfor (var l = l3; l != \u001b[0m\u001b[1m\u001b[30m\u001b[41mnil\u001b[0m\u001b[1m\u001b[30m; l = l.next)\u001b[0m",
      "\u001b[1m\u001b[31mcannot find symbol\u001b[0m",
      "\u001b[1m\u001b[31m  symbol:   variable nil\u001b[0m",
      ""
     ]
    }
   ],
   "source": [
    "for (var l = l3; l != nil; l = l.next)\n",
    "    System.out.print(l.data + \" \");"
   ]
  },
  {
   "cell_type": "code",
   "execution_count": 4,
   "metadata": {},
   "outputs": [
    {
     "ename": "CompilationException",
     "evalue": "",
     "output_type": "error",
     "traceback": [
      "\u001b[1m\u001b[30m|   \u001b[1m\u001b[30mvar l30 = \u001b[0m\u001b[1m\u001b[30m\u001b[41mnew Cons<>(\"three\",l2)\u001b[0m\u001b[1m\u001b[30m;\u001b[0m",
      "\u001b[1m\u001b[31mcannot infer type arguments for Cons<>\u001b[0m",
      "\u001b[1m\u001b[31m  reason: inference variable T has incompatible bounds\u001b[0m",
      "\u001b[1m\u001b[31m    equality constraints: java.lang.Integer\u001b[0m",
      "\u001b[1m\u001b[31m    lower bounds: java.lang.String\u001b[0m",
      ""
     ]
    }
   ],
   "source": [
    "var l10 = new Cons<>(\"one\",null);\n",
    "var l20 = new Cons<>(\"two\",l10);\n",
    "var l30 = new Cons<>(\"three\",l2);"
   ]
  },
  {
   "cell_type": "code",
   "execution_count": 5,
   "metadata": {},
   "outputs": [
    {
     "ename": "CompilationException",
     "evalue": "",
     "output_type": "error",
     "traceback": [
      "\u001b[1m\u001b[30m|   \u001b[1m\u001b[30m\u001b[0m\u001b[1m\u001b[30m\u001b[41ml30.next\u001b[0m\u001b[1m\u001b[30m.data = 20\u001b[0m",
      "\u001b[1m\u001b[31mpackage l30 does not exist\u001b[0m",
      ""
     ]
    }
   ],
   "source": [
    "l30.next.data = 20"
   ]
  },
  {
   "cell_type": "markdown",
   "metadata": {},
   "source": [
    "## Java에서 공변/반변을 코드에 나타내는 방법\n",
    "직접적으로 제너릭 클래스의 성질 자체를 \"공변\" 또는 \"반변\"으로 설정하기는 곤란\n",
    "\n",
    "그 제네릭 클래스를 활용하는 메소드를 작성할 때 `C<? extends T>` 또는 `C<? super T>`라는 표현으로 제네릭 파라메터의 범위를 지정함으로써, 활용하는 메소드에서 일관성 있게 작성할 책임이 코드를 작성하는 사람에게 있다. Java 컴파일러가 개념적인 공변/반변 일관성을 검사해 주지는 않음\n",
    "\n",
    "Java API에서 대표적인 사례로는 자바의 람다를 구현하기 위한 인터페이스인\n",
    "`Function<T1,T2>`의 경우 개념적으로 `T1`이 반변 `T2`가 공변이므로\n",
    "메소드에서 활용할 때 `Function<? super T1, ? extends T2>` 이런 식으로 활용하게 됨"
   ]
  },
  {
   "cell_type": "code",
   "execution_count": 6,
   "metadata": {},
   "outputs": [],
   "source": [
    "class Food { }\n",
    "class Fruit extends Food { }\n",
    "class Apple extends Fruit { }\n",
    "\n",
    "class Basket<T> { } // 이거는 개념적으로 공변이니까 활용할 때 아래와 같은 식으로 일관되게\n",
    "\n",
    "class C1 {\n",
    "    static void deliver(Basket<? extends Fruit> b) { } // 아무 과일바구니 배달보내요\n",
    "}"
   ]
  },
  {
   "cell_type": "code",
   "execution_count": 7,
   "metadata": {},
   "outputs": [],
   "source": [
    "Basket<Food> foodBsk; // 아무 음식바구니 \n",
    "Basket<Fruit> fruitBsk; // 아무 과일바구니\n",
    "Basket<Apple> appleBsk; // 사과바구니"
   ]
  },
  {
   "cell_type": "code",
   "execution_count": 8,
   "metadata": {},
   "outputs": [
    {
     "ename": "CompilationException",
     "evalue": "",
     "output_type": "error",
     "traceback": [
      "\u001b[1m\u001b[30m|   \u001b[1m\u001b[30mC1.deliver(\u001b[0m\u001b[1m\u001b[30m\u001b[41mfoodBsk\u001b[0m\u001b[1m\u001b[30m); // error\u001b[0m",
      "\u001b[1m\u001b[31mincompatible types: Basket<Food> cannot be converted to Basket<? extends Fruit>\u001b[0m",
      ""
     ]
    }
   ],
   "source": [
    "C1.deliver(foodBsk); // error"
   ]
  },
  {
   "cell_type": "code",
   "execution_count": 9,
   "metadata": {},
   "outputs": [],
   "source": [
    "C1.deliver(fruitBsk); // ok"
   ]
  },
  {
   "cell_type": "code",
   "execution_count": 10,
   "metadata": {},
   "outputs": [],
   "source": [
    "C1.deliver(appleBsk); // ok"
   ]
  },
  {
   "cell_type": "code",
   "execution_count": 11,
   "metadata": {},
   "outputs": [],
   "source": [
    "class Recyclable { } // 아무 재활용가능한 물건\n",
    "class Metal extends Recyclable { } // 재활용가능한 금속\n",
    "class Aluminum extends Metal { } // 재활용가능한 알루미늄\n",
    "\n",
    "class Bin<T> { } // 이거는 개념적으로 반변이니까 활용할 때 아래와 같은 식으로 일관되게\n",
    "\n",
    "class C2 {\n",
    "    static void dumpMetal(Bin<? super Metal> b) { } // 금속 재활용 쓰레기통 필요\n",
    "}"
   ]
  },
  {
   "cell_type": "code",
   "execution_count": 12,
   "metadata": {},
   "outputs": [],
   "source": [
    "Bin<Recyclable> rBin; // 아무 재활용가능한 물건 쓰레기통\n",
    "Bin<Metal>     mBin; // 금속 재활용 쓰레기통\n",
    "Bin<Aluminum> aBin; // 알루미늄 재활용 쓰레기통"
   ]
  },
  {
   "cell_type": "code",
   "execution_count": 13,
   "metadata": {},
   "outputs": [],
   "source": [
    "C2.dumpMetal(rBin); // ok"
   ]
  },
  {
   "cell_type": "code",
   "execution_count": 14,
   "metadata": {},
   "outputs": [],
   "source": [
    "C2.dumpMetal(mBin); // ok"
   ]
  },
  {
   "cell_type": "code",
   "execution_count": 15,
   "metadata": {},
   "outputs": [
    {
     "ename": "CompilationException",
     "evalue": "",
     "output_type": "error",
     "traceback": [
      "\u001b[1m\u001b[30m|   \u001b[1m\u001b[30mC2.dumpMetal(\u001b[0m\u001b[1m\u001b[30m\u001b[41maBin\u001b[0m\u001b[1m\u001b[30m); // error\u001b[0m",
      "\u001b[1m\u001b[31mincompatible types: Bin<Aluminum> cannot be converted to Bin<? super Metal>\u001b[0m",
      ""
     ]
    }
   ],
   "source": [
    "C2.dumpMetal(aBin); // error"
   ]
  },
  {
   "cell_type": "code",
   "execution_count": null,
   "metadata": {},
   "outputs": [],
   "source": []
  }
 ],
 "metadata": {
  "kernelspec": {
   "display_name": "Java",
   "language": "java",
   "name": "java"
  },
  "language_info": {
   "codemirror_mode": "java",
   "file_extension": ".jshell",
   "mimetype": "text/x-java-source",
   "name": "Java",
   "pygments_lexer": "java",
   "version": "11.0.8+10-LTS"
  }
 },
 "nbformat": 4,
 "nbformat_minor": 5
}
