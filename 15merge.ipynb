{
 "cells": [
  {
   "cell_type": "code",
   "execution_count": 62,
   "id": "337c8927-1125-4725-a457-39250ce244fc",
   "metadata": {},
   "outputs": [],
   "source": [
    "sealed class MyList() { // sealed가 아닐때와 차이점에 대해서 교재 참고\n",
    "    abstract fun size() : Int // 추상 메소드\n",
    "    abstract fun show() : String // MyList의 내용을 적절한 문자열로\n",
    "\n",
    "    data class Cons(val item: Int, val next: MyList) : MyList() {\n",
    "        override fun size() = 1 + next.size()\n",
    "        override fun show() = \"(${item})->\" + next.show()\n",
    "    }\n",
    "    // 참고로 Kotlin 1.7.20의 실험적 기능으로 data object가 추가됨\n",
    "    object Null : MyList() {\n",
    "        override fun toString() = \"Null\"\n",
    "        override fun size() = 0\n",
    "        override fun show() = \".\"\n",
    "    }\n",
    "}"
   ]
  },
  {
   "cell_type": "code",
   "execution_count": 56,
   "id": "0e233dbf-4b47-4a1a-a2ae-e52d183a66c1",
   "metadata": {},
   "outputs": [],
   "source": [
    "val l0: MyList = MyList.Null\n",
    "val l1: MyList = MyList.Cons(10, l0)\n",
    "val l2: MyList = MyList.Cons(20, l1)\n",
    "val l3: MyList = MyList.Cons(30, l2)"
   ]
  },
  {
   "cell_type": "code",
   "execution_count": 57,
   "id": "b683abdc-b1f5-41d8-a02a-380c4de630ff",
   "metadata": {},
   "outputs": [
    {
     "data": {
      "text/plain": [
       "."
      ]
     },
     "execution_count": 57,
     "metadata": {},
     "output_type": "execute_result"
    }
   ],
   "source": [
    "l0.show()"
   ]
  },
  {
   "cell_type": "code",
   "execution_count": 58,
   "id": "301b9884-4cf1-4354-97bf-6d3bff530bf9",
   "metadata": {},
   "outputs": [
    {
     "data": {
      "text/plain": [
       "(10)->."
      ]
     },
     "execution_count": 58,
     "metadata": {},
     "output_type": "execute_result"
    }
   ],
   "source": [
    "l1.show()"
   ]
  },
  {
   "cell_type": "code",
   "execution_count": 59,
   "id": "f7c27003-3cd5-436e-b0db-3cd63f81afb8",
   "metadata": {},
   "outputs": [
    {
     "data": {
      "text/plain": [
       "(20)->(10)->."
      ]
     },
     "execution_count": 59,
     "metadata": {},
     "output_type": "execute_result"
    }
   ],
   "source": [
    "l2.show()"
   ]
  },
  {
   "cell_type": "code",
   "execution_count": 60,
   "id": "daf4bdaf-ead5-4316-96b5-7089a1c2b026",
   "metadata": {},
   "outputs": [
    {
     "data": {
      "text/plain": [
       "(30)->(20)->(10)->."
      ]
     },
     "execution_count": 60,
     "metadata": {},
     "output_type": "execute_result"
    }
   ],
   "source": [
    "l3.show()"
   ]
  },
  {
   "cell_type": "code",
   "execution_count": 43,
   "id": "419993ab-b44f-4e2b-9bd4-344060c86d01",
   "metadata": {},
   "outputs": [
    {
     "data": {
      "text/plain": [
       "true"
      ]
     },
     "execution_count": 43,
     "metadata": {},
     "output_type": "execute_result"
    }
   ],
   "source": [
    "l0 is MyList"
   ]
  },
  {
   "cell_type": "code",
   "execution_count": 44,
   "id": "e69384a6-c711-4ed5-9107-2d7fdfa73947",
   "metadata": {},
   "outputs": [
    {
     "data": {
      "text/plain": [
       "false"
      ]
     },
     "execution_count": 44,
     "metadata": {},
     "output_type": "execute_result"
    }
   ],
   "source": [
    "l0 is MyList.Cons"
   ]
  },
  {
   "cell_type": "code",
   "execution_count": 45,
   "id": "996eb757-1617-4429-a765-c9700b754a90",
   "metadata": {},
   "outputs": [
    {
     "data": {
      "text/plain": [
       "true"
      ]
     },
     "execution_count": 45,
     "metadata": {},
     "output_type": "execute_result"
    }
   ],
   "source": [
    "l0 is MyList.Null"
   ]
  },
  {
   "cell_type": "code",
   "execution_count": 46,
   "id": "5642b152-5702-4ac0-a38b-57f7054a264b",
   "metadata": {},
   "outputs": [
    {
     "data": {
      "text/plain": [
       "true"
      ]
     },
     "execution_count": 46,
     "metadata": {},
     "output_type": "execute_result"
    }
   ],
   "source": [
    "l3 is MyList"
   ]
  },
  {
   "cell_type": "code",
   "execution_count": 47,
   "id": "9c345552-86ca-4762-846e-ab490cc53944",
   "metadata": {},
   "outputs": [
    {
     "data": {
      "text/plain": [
       "true"
      ]
     },
     "execution_count": 47,
     "metadata": {},
     "output_type": "execute_result"
    }
   ],
   "source": [
    "l3 is MyList.Cons"
   ]
  },
  {
   "cell_type": "code",
   "execution_count": 48,
   "id": "4709565b-3aba-4a3f-b9b3-967bf2dfb87a",
   "metadata": {},
   "outputs": [
    {
     "data": {
      "text/plain": [
       "false"
      ]
     },
     "execution_count": 48,
     "metadata": {},
     "output_type": "execute_result"
    }
   ],
   "source": [
    "l3 is MyList.Null"
   ]
  },
  {
   "cell_type": "code",
   "execution_count": 49,
   "id": "13f3c77e-d403-4192-8520-38b4835ebb99",
   "metadata": {},
   "outputs": [
    {
     "name": "stdout",
     "output_type": "stream",
     "text": [
      "30\n",
      "20\n",
      "10\n"
     ]
    }
   ],
   "source": [
    "var p: MyList = l3\n",
    "while (p != MyList.Null) {\n",
    "    val pp = p as MyList.Cons // 강제로 무조건 다운캐스팅\n",
    "    println( pp.item )\n",
    "    p = pp.next\n",
    "}"
   ]
  },
  {
   "cell_type": "code",
   "execution_count": 52,
   "id": "248203e4-7561-4ec7-9415-6c2085d3c460",
   "metadata": {},
   "outputs": [
    {
     "name": "stdout",
     "output_type": "stream",
     "text": [
      "first item: 30\n"
     ]
    }
   ],
   "source": [
    "val p: MyList = l3\n",
    "\n",
    "if (p is MyList.Cons) { // 이 범위에서는 p가 자동으로 성공한 타입으로 다운캐스팅됨\n",
    "    val x = p.item // smart cast\n",
    "    // val x = (p as MyList.Cons).item // 캐스팅 생략 가능\n",
    "    println(\"first item: ${x}\")\n",
    "} else {\n",
    "    println(\"no items in my list\")\n",
    "}"
   ]
  },
  {
   "cell_type": "code",
   "execution_count": 53,
   "id": "5e360fe5-ee1f-4e56-b2fe-739dc605684d",
   "metadata": {},
   "outputs": [
    {
     "data": {
      "text/plain": [
       "non empty list first item is 30"
      ]
     },
     "execution_count": 53,
     "metadata": {},
     "output_type": "execute_result"
    }
   ],
   "source": [
    "when (l3) {\n",
    "    is MyList.Cons -> { // 이 범위에서는 p가 자동으로 성공한 타입으로 다운캐스팅됨\n",
    "        val x = l3.item // smart cast\n",
    "        \"non empty list first item is ${x}\"\n",
    "    }\n",
    "    is MyList.Null -> \"empty list\"\n",
    "}"
   ]
  },
  {
   "cell_type": "code",
   "execution_count": 10,
   "id": "e7ac32fa-c10f-40f0-9dd3-4c9de3eb3758",
   "metadata": {},
   "outputs": [
    {
     "data": {
      "text/plain": [
       "0"
      ]
     },
     "execution_count": 10,
     "metadata": {},
     "output_type": "execute_result"
    }
   ],
   "source": [
    "l0.size()"
   ]
  },
  {
   "cell_type": "code",
   "execution_count": 11,
   "id": "9fe3ce73-599c-406f-8703-24a17569a480",
   "metadata": {},
   "outputs": [
    {
     "data": {
      "text/plain": [
       "3"
      ]
     },
     "execution_count": 11,
     "metadata": {},
     "output_type": "execute_result"
    }
   ],
   "source": [
    "l3.size()"
   ]
  },
  {
   "cell_type": "code",
   "execution_count": 16,
   "id": "ef1cfbaa-d60a-427f-9120-d276aa880597",
   "metadata": {},
   "outputs": [
    {
     "name": "stdout",
     "output_type": "stream",
     "text": [
      "1\n",
      "2\n",
      "3\n",
      "4\n",
      "5\n"
     ]
    }
   ],
   "source": [
    "val list = listOf(1,2,3,4,5)\n",
    "for (x in list)\n",
    "    println(x)"
   ]
  },
  {
   "cell_type": "code",
   "execution_count": 17,
   "id": "81203cd3-a076-4374-b04c-629e49479f28",
   "metadata": {},
   "outputs": [
    {
     "name": "stdout",
     "output_type": "stream",
     "text": [
      "0\n",
      "1\n",
      "2\n",
      "3\n",
      "4\n",
      "5\n",
      "6\n",
      "7\n",
      "8\n",
      "9\n"
     ]
    }
   ],
   "source": [
    "for (i in 0..9)\n",
    "    println(i)"
   ]
  },
  {
   "cell_type": "code",
   "execution_count": 72,
   "id": "8dea09ee-3414-4f5e-b172-e23a1dfeaf31",
   "metadata": {},
   "outputs": [],
   "source": [
    "sealed class GList<T>() { // sealed가 아닐때와 차이점에 대해서 교재 참고\n",
    "    abstract fun size() : Int // 추상 메소드\n",
    "    abstract fun show() : String // MyList의 내용을 적절한 문자열로\n",
    "\n",
    "    data class Cons<T>(val item: T, val next: GList<T>) : GList<T>() {\n",
    "        override fun size() = 1 + next.size()\n",
    "        override fun show() = \"(${item})->\" + next.show()\n",
    "    }\n",
    "    // 싱글턴 object와 제네릭을 함께 사용하려면 생각해야 할 것이 더 많다\n",
    "    class Null<T> : GList<T>() { \n",
    "        override fun toString() = \"Null\"\n",
    "        override fun size() = 0\n",
    "        override fun show() = \".\"\n",
    "    }\n",
    "}"
   ]
  },
  {
   "cell_type": "code",
   "execution_count": 75,
   "id": "913df378-fb17-497f-a115-262b09fa05b9",
   "metadata": {},
   "outputs": [],
   "source": [
    "val il0: GList<Int> = GList.Null()\n",
    "val il1: GList<Int> = GList.Cons(10, il0)\n",
    "val il2: GList<Int> = GList.Cons(20, il1)\n",
    "val il3: GList<Int> = GList.Cons(30, il2)"
   ]
  },
  {
   "cell_type": "code",
   "execution_count": 76,
   "id": "34105286-41ad-48ef-a5bc-a217a05f81a0",
   "metadata": {},
   "outputs": [
    {
     "data": {
      "text/plain": [
       "(30)->(20)->(10)->."
      ]
     },
     "execution_count": 76,
     "metadata": {},
     "output_type": "execute_result"
    }
   ],
   "source": [
    "il3.show()"
   ]
  },
  {
   "cell_type": "code",
   "execution_count": 79,
   "id": "7fa7148b-0528-4cbf-9dde-c613d0ba6933",
   "metadata": {},
   "outputs": [],
   "source": [
    "val sl0: GList<String> = GList.Null()\n",
    "val sl1: GList<String> = GList.Cons(\"one\", sl0)\n",
    "val sl2: GList<String> = GList.Cons(\"two\", sl1)\n",
    "val sl3: GList<String> = GList.Cons(\"three\", sl2)"
   ]
  },
  {
   "cell_type": "code",
   "execution_count": 80,
   "id": "5cd5635a-c476-4d31-9dcf-da66e6e9f43c",
   "metadata": {},
   "outputs": [
    {
     "data": {
      "text/plain": [
       "(three)->(two)->(one)->."
      ]
     },
     "execution_count": 80,
     "metadata": {},
     "output_type": "execute_result"
    }
   ],
   "source": [
    "sl3.show()"
   ]
  },
  {
   "cell_type": "code",
   "execution_count": 106,
   "id": "b6969b80-fa52-4371-bd0e-67f4b68f8a3a",
   "metadata": {},
   "outputs": [],
   "source": [
    "data class Person(val age: Int, val name: String)"
   ]
  },
  {
   "cell_type": "code",
   "execution_count": 107,
   "id": "95d113ce-223f-4905-9968-5431eeb2d9ad",
   "metadata": {},
   "outputs": [],
   "source": [
    "val p = Person(33,\"홍길동\")"
   ]
  },
  {
   "cell_type": "code",
   "execution_count": 108,
   "id": "34f273e6-e55e-4715-9c06-a1cf7d2b73a2",
   "metadata": {},
   "outputs": [
    {
     "data": {
      "text/plain": [
       "Person(age=33, name=홍길동)"
      ]
     },
     "execution_count": 108,
     "metadata": {},
     "output_type": "execute_result"
    }
   ],
   "source": [
    "p"
   ]
  },
  {
   "cell_type": "code",
   "execution_count": 109,
   "id": "c108ff72-0653-46af-9157-6c97c4d15da4",
   "metadata": {},
   "outputs": [],
   "source": [
    "// val hongAge = p.age\n",
    "// val hongName = p.name\n",
    "val (hongAge, honeName) = p"
   ]
  },
  {
   "cell_type": "code",
   "execution_count": 110,
   "id": "8151b490-516b-434e-8061-e3cc23cc7b00",
   "metadata": {},
   "outputs": [
    {
     "data": {
      "text/plain": [
       "33"
      ]
     },
     "execution_count": 110,
     "metadata": {},
     "output_type": "execute_result"
    }
   ],
   "source": [
    "hongAge"
   ]
  },
  {
   "cell_type": "code",
   "execution_count": 111,
   "id": "62a6af49-26f1-4b66-9d2e-2f2e9a024734",
   "metadata": {},
   "outputs": [
    {
     "data": {
      "text/plain": [
       "홍길동"
      ]
     },
     "execution_count": 111,
     "metadata": {},
     "output_type": "execute_result"
    }
   ],
   "source": [
    "hongName"
   ]
  },
  {
   "cell_type": "code",
   "execution_count": null,
   "id": "d2116b18-5b8c-46b4-8ab0-863f6a579c03",
   "metadata": {},
   "outputs": [],
   "source": []
  }
 ],
 "metadata": {
  "kernelspec": {
   "display_name": "Kotlin",
   "language": "kotlin",
   "name": "kotlin"
  },
  "language_info": {
   "codemirror_mode": "text/x-kotlin",
   "file_extension": ".kt",
   "mimetype": "text/x-kotlin",
   "name": "kotlin",
   "nbconvert_exporter": "",
   "pygments_lexer": "kotlin",
   "version": "1.6.20-dev-6372"
  }
 },
 "nbformat": 4,
 "nbformat_minor": 5
}
