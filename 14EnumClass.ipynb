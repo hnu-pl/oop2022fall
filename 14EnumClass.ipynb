{
 "cells": [
  {
   "cell_type": "markdown",
   "id": "dc972228-f2ce-4f79-9f93-ea2e0dfb9504",
   "metadata": {},
   "source": [
    "# Enum class"
   ]
  },
  {
   "cell_type": "markdown",
   "id": "bcaa664f-01bf-438e-a52d-05c25ee6f45d",
   "metadata": {},
   "source": [
    "## 요일 예제"
   ]
  },
  {
   "cell_type": "code",
   "execution_count": 1,
   "id": "e747b0a5-bc2b-4642-a556-d505ee11c636",
   "metadata": {},
   "outputs": [],
   "source": [
    "/*\n",
    "val SUN = 0\n",
    "val MON = 1\n",
    "val TUE = 2\n",
    "val WED = 3\n",
    "val THR = 4\n",
    "val FRI = 5\n",
    "val SAT = 6\n",
    "\n",
    "val day :Int = TUE // 99가 들어오면?\n",
    "\n",
    "when(day) {\n",
    "    SUN -> \"일요일\"\n",
    "    MON -> \"월요일\"\n",
    "    TUE -> \"화요일\"\n",
    "    WED -> \"수요일\"\n",
    "    THR -> \"목요일\"\n",
    "    FRI -> \"금요일\"\n",
    "    SAT -> \"토요일\"\n",
    "    else -> \"잘못된 범위의 요일 값\"\n",
    "}\n",
    "*/"
   ]
  },
  {
   "cell_type": "code",
   "execution_count": 2,
   "id": "d49c5f2c-ddd3-472e-a65c-2901e7875bfb",
   "metadata": {},
   "outputs": [],
   "source": [
    "enum class Day(val koname : String) {\n",
    "    SUN(\"일\"), MON(\"월\"), TUE(\"화\"), WED(\"수\"), THR(\"목\"), FRI(\"금\"), SAT(\"토\");\n",
    "    // 필요하다면 메소드도 추가 가능\n",
    "}\n",
    "/*\n",
    "sealed class Day() {\n",
    "    object SUN : Day()\n",
    "    object MON : Day()\n",
    "    object TUE : Day()\n",
    "    object WED : Day()\n",
    "    object THR : Day()\n",
    "    object FRI : Day()\n",
    "    object SAT : Day()\n",
    "}\n",
    "*/"
   ]
  },
  {
   "cell_type": "code",
   "execution_count": 3,
   "id": "d3ad02ba-a843-4230-a9ae-400a46a2e2ff",
   "metadata": {},
   "outputs": [
    {
     "data": {
      "text/plain": [
       "SUN"
      ]
     },
     "execution_count": 3,
     "metadata": {},
     "output_type": "execute_result"
    }
   ],
   "source": [
    "Day.SUN"
   ]
  },
  {
   "cell_type": "code",
   "execution_count": 4,
   "id": "86607e07-7fdc-4008-b072-aa392942379d",
   "metadata": {},
   "outputs": [
    {
     "data": {
      "text/plain": [
       "0"
      ]
     },
     "execution_count": 4,
     "metadata": {},
     "output_type": "execute_result"
    }
   ],
   "source": [
    "Day.SUN.ordinal"
   ]
  },
  {
   "cell_type": "code",
   "execution_count": 5,
   "id": "ebdd1a5c-71ca-433c-b159-ffe33a046bb2",
   "metadata": {},
   "outputs": [
    {
     "data": {
      "text/plain": [
       "1"
      ]
     },
     "execution_count": 5,
     "metadata": {},
     "output_type": "execute_result"
    }
   ],
   "source": [
    "Day.MON.ordinal"
   ]
  },
  {
   "cell_type": "code",
   "execution_count": 6,
   "id": "a4d4625b-23c4-46cd-a736-3195715f9322",
   "metadata": {},
   "outputs": [
    {
     "data": {
      "text/plain": [
       "일"
      ]
     },
     "execution_count": 6,
     "metadata": {},
     "output_type": "execute_result"
    }
   ],
   "source": [
    "Day.SUN.koname"
   ]
  },
  {
   "cell_type": "code",
   "execution_count": 7,
   "id": "a33cf20b-12cc-4507-9e1a-1db5ae5e1607",
   "metadata": {},
   "outputs": [
    {
     "data": {
      "text/plain": [
       "화요일"
      ]
     },
     "execution_count": 7,
     "metadata": {},
     "output_type": "execute_result"
    }
   ],
   "source": [
    "val day : Day = Day.TUE // 99가 들어오면?\n",
    "\n",
    "when(day) {\n",
    "    Day.SUN -> \"일요일\"\n",
    "    Day.MON -> \"월요일\"\n",
    "    Day.TUE -> \"화요일\"\n",
    "    Day.WED -> \"수요일\"\n",
    "    Day.THR -> \"목요일\"\n",
    "    Day.FRI -> \"금요일\"\n",
    "    Day.SAT -> \"토요일\"\n",
    "}"
   ]
  },
  {
   "cell_type": "markdown",
   "id": "f97d026a-8492-4174-a012-409ed621788f",
   "metadata": {},
   "source": [
    "## Playing Cards (우리나라에서는 트럼프 카드라고 보통)"
   ]
  },
  {
   "cell_type": "code",
   "execution_count": 32,
   "id": "e45187a3-7499-438c-a2ec-97c8c72a3304",
   "metadata": {},
   "outputs": [],
   "source": [
    "enum class Symbol { SPADE, HEART, DIA, CLUB; } // 모양\n",
    "\n",
    "enum class Card(val face: String, val back: String = \"🂠\") { // 카드의 종류\n",
    "    SA(\"🂡\"),S2(\"🂢\"),S3(\"🂣\"),S4(\"🂤\"),S5(\"🂥\"),S6(\"🂦\"),\n",
    "    S7(\"🂧\"),S8(\"🂨\"),S9(\"🂩\"),S0(\"🂪\"),SJ(\"🂫\"),SQ(\"🂭\"),SK(\"🂮\"),\n",
    "    HA(\"🂱\"),H2(\"🂲\"),H3(\"🂳\"),H4(\"🂴\"),H5(\"🂵\"),H6(\"🂶\"),\n",
    "    H7(\"🂷\"),H8(\"🂸\"),H9(\"🂹\"),H0(\"🂺\"),HJ(\"🂻\"),HQ(\"🂽\"),HK(\"🂾\"),\n",
    "    DA(\"🃁\"),D2(\"🃂\"),D3(\"🃃\"),D4(\"🃄\"),D5(\"🃅\"),D6(\"🃆\"),\n",
    "    D7(\"🃇\"),D8(\"🃈\"),D9(\"🃉\"),D0(\"🃊\"),DJ(\"🃋\"),DQ(\"🃍\"),DK(\"🃎\"),\n",
    "    CA(\"🃑\"),C2(\"🃒\"),C3(\"🃓\"),C4(\"🃔\"),C5(\"🃕\"),C6(\"🃖\"),\n",
    "    C7(\"🃗\"),C8(\"🃘\"),C9(\"🃙\"),C0(\"🃚\"),CJ(\"🃛\"),CQ(\"🃝\"),CK(\"🃞\");\n",
    "    \n",
    "    fun symbol() = when(this) {\n",
    "        in SA..SK -> Symbol.SPADE\n",
    "        in HA..HK -> Symbol.HEART\n",
    "        in DA..DK -> Symbol.DIA\n",
    "        else      -> Symbol.CLUB // 나머지 경우는 \n",
    "    }\n",
    "    \n",
    "    fun color() = when(symbol()) {\n",
    "        Symbol.SPADE -> \"black\"\n",
    "        Symbol.HEART -> \"red\"\n",
    "        Symbol.DIA   -> \"red\"\n",
    "        Symbol.CLUB  -> \"black\"\n",
    "    }\n",
    "    \n",
    "    fun rank() = this.ordinal % 13 + 1 // A가 1, 숫자는 숫자값, J,Q,K는 11,12,13\n",
    "}"
   ]
  },
  {
   "cell_type": "code",
   "execution_count": 33,
   "id": "9abeebd4-6605-404f-8ecd-b4cc300721a7",
   "metadata": {},
   "outputs": [
    {
     "data": {
      "text/plain": [
       "CLUB"
      ]
     },
     "execution_count": 33,
     "metadata": {},
     "output_type": "execute_result"
    }
   ],
   "source": [
    "Card.C3.symbol()"
   ]
  },
  {
   "cell_type": "code",
   "execution_count": 34,
   "id": "c38bef10-12b0-4115-a2d6-943a3a4a3fb5",
   "metadata": {},
   "outputs": [
    {
     "data": {
      "text/plain": [
       "41"
      ]
     },
     "execution_count": 34,
     "metadata": {},
     "output_type": "execute_result"
    }
   ],
   "source": [
    "Card.C3.ordinal"
   ]
  },
  {
   "cell_type": "code",
   "execution_count": 35,
   "id": "f4d6a0ac-368e-4c66-9395-437b51c64764",
   "metadata": {},
   "outputs": [
    {
     "data": {
      "text/plain": [
       "3"
      ]
     },
     "execution_count": 35,
     "metadata": {},
     "output_type": "execute_result"
    }
   ],
   "source": [
    "Card.C3.rank() // 1"
   ]
  },
  {
   "cell_type": "code",
   "execution_count": 36,
   "id": "6429e0fe-311e-4ba5-9bcb-93208c61ee95",
   "metadata": {},
   "outputs": [
    {
     "data": {
      "text/plain": [
       "12"
      ]
     },
     "execution_count": 36,
     "metadata": {},
     "output_type": "execute_result"
    }
   ],
   "source": [
    "Card.DQ.rank()"
   ]
  },
  {
   "cell_type": "code",
   "execution_count": 37,
   "id": "63a39620-77d0-4a59-b604-63fe04c49acf",
   "metadata": {},
   "outputs": [
    {
     "data": {
      "text/plain": [
       "hello 7 world"
      ]
     },
     "execution_count": 37,
     "metadata": {},
     "output_type": "execute_result"
    }
   ],
   "source": [
    "\"hello ${3 + 4} world\""
   ]
  },
  {
   "cell_type": "code",
   "execution_count": 38,
   "id": "544bc080-7ac6-478a-9e6f-8e5acd821302",
   "metadata": {},
   "outputs": [
    {
     "data": {
      "text/html": [
       "<span style='font-size:60pt'>🃓</span>"
      ]
     },
     "execution_count": 38,
     "metadata": {},
     "output_type": "execute_result"
    }
   ],
   "source": [
    "HTML(\"<span style='font-size:60pt'>${Card.C3.face}</span>\")"
   ]
  },
  {
   "cell_type": "code",
   "execution_count": 39,
   "id": "9fbe0e33-b5f2-4b2a-80eb-81b8b81151e6",
   "metadata": {},
   "outputs": [
    {
     "data": {
      "text/html": [
       "aaa<b>ccc</b>dddd"
      ]
     },
     "execution_count": 39,
     "metadata": {},
     "output_type": "execute_result"
    }
   ],
   "source": [
    "HTML(\"aaa<b>ccc</b>dddd\")"
   ]
  },
  {
   "cell_type": "code",
   "execution_count": 44,
   "id": "406778ee",
   "metadata": {},
   "outputs": [
    {
     "data": {
      "text/html": [
       "<span style='font-size:60pt;color:black'>🃓</span>"
      ]
     },
     "execution_count": 44,
     "metadata": {},
     "output_type": "execute_result"
    }
   ],
   "source": [
    "HTML(\"<span style='font-size:60pt;color:${Card.C3.color()}'>${Card.C3.face}</span>\")"
   ]
  },
  {
   "cell_type": "code",
   "execution_count": 43,
   "id": "0820e2f2-eeb8-42f6-9e09-c85c433e9a3d",
   "metadata": {},
   "outputs": [
    {
     "data": {
      "text/html": [
       "<span style='font-size:60pt;color:red'>🂳</span>"
      ]
     },
     "execution_count": 43,
     "metadata": {},
     "output_type": "execute_result"
    }
   ],
   "source": [
    "HTML(\"<span style='font-size:60pt;color:${Card.H3.color()}'>${Card.H3.face}</span>\")"
   ]
  },
  {
   "cell_type": "code",
   "execution_count": 17,
   "id": "8980a84f-36bb-4d72-9b5e-cb6094f6b2aa",
   "metadata": {},
   "outputs": [
    {
     "data": {
      "text/plain": [
       "[SA, S2, S3, S4, S5, S6, S7, S8, S9, S0, SJ, SQ, SK, HA, H2, H3, H4, H5, H6, H7, H8, H9, H0, HJ, HQ, HK, DA, D2, D3, D4, D5, D6, D7, D8, D9, D0, DJ, DQ, DK, CA, C2, C3, C4, C5, C6, C7, C8, C9, C0, CJ, CQ, CK]"
      ]
     },
     "execution_count": 17,
     "metadata": {},
     "output_type": "execute_result"
    }
   ],
   "source": [
    "Card.values()"
   ]
  },
  {
   "cell_type": "code",
   "execution_count": 48,
   "id": "513f30be-dab2-4401-8d29-2fd2177159df",
   "metadata": {},
   "outputs": [],
   "source": [
    "data class CardItem(val card: Card, var up: Boolean = false) { // 카드 한장\n",
    "    fun symbol() = card.symbol()\n",
    "    fun color() = card.color()\n",
    "    fun rank() = card.rank()\n",
    "    fun show() = if(up) card.face else card.back\n",
    "}"
   ]
  },
  {
   "cell_type": "code",
   "execution_count": 26,
   "id": "b0a471f2-96ce-4d52-a471-7bc5cb1c849b",
   "metadata": {},
   "outputs": [
    {
     "data": {
      "text/plain": [
       "[🂠, 🂠, 🂠, 🂠, 🂠, 🂠, 🂠, 🂠, 🂠, 🂠, 🂠, 🂠, 🂠, 🂠, 🂠, 🂠, 🂠, 🂠, 🂠, 🂠, 🂠, 🂠, 🂠, 🂠, 🂠, 🂠, 🂠, 🂠, 🂠, 🂠, 🂠, 🂠, 🂠, 🂠, 🂠, 🂠, 🂠, 🂠, 🂠, 🂠, 🂠, 🂠, 🂠, 🂠, 🂠, 🂠, 🂠, 🂠, 🂠, 🂠, 🂠, 🂠]"
      ]
     },
     "execution_count": 26,
     "metadata": {},
     "output_type": "execute_result"
    }
   ],
   "source": [
    "Card.values().map { CardItem(it).show() }"
   ]
  },
  {
   "cell_type": "code",
   "execution_count": 27,
   "id": "fe6b04a3-dc3b-4ae4-94b4-3843fc2d86f8",
   "metadata": {},
   "outputs": [
    {
     "data": {
      "text/plain": [
       "[🂡, 🂢, 🂣, 🂤, 🂥, 🂦, 🂧, 🂨, 🂩, 🂪, 🂫, 🂭, 🂮, 🂱, 🂲, 🂳, 🂴, 🂵, 🂶, 🂷, 🂸, 🂹, 🂺, 🂻, 🂽, 🂾, 🃁, 🃂, 🃃, 🃄, 🃅, 🃆, 🃇, 🃈, 🃉, 🃊, 🃋, 🃍, 🃎, 🃑, 🃒, 🃓, 🃔, 🃕, 🃖, 🃗, 🃘, 🃙, 🃚, 🃛, 🃝, 🃞]"
      ]
     },
     "execution_count": 27,
     "metadata": {},
     "output_type": "execute_result"
    }
   ],
   "source": [
    "Card.values().map { CardItem(it,true).show() }"
   ]
  },
  {
   "cell_type": "code",
   "execution_count": null,
   "id": "5e8ead39-b4bd-435d-a9c4-1febadb09d7f",
   "metadata": {},
   "outputs": [],
   "source": []
  }
 ],
 "metadata": {
  "kernelspec": {
   "display_name": "Kotlin",
   "language": "kotlin",
   "name": "kotlin"
  },
  "language_info": {
   "codemirror_mode": "text/x-kotlin",
   "file_extension": ".kt",
   "mimetype": "text/x-kotlin",
   "name": "kotlin",
   "nbconvert_exporter": "",
   "pygments_lexer": "kotlin",
   "version": "1.6.20-dev-6372"
  }
 },
 "nbformat": 4,
 "nbformat_minor": 5
}
