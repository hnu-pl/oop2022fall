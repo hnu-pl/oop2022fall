{
 "cells": [
  {
   "cell_type": "markdown",
   "metadata": {
    "datalore": {
     "hide_input_from_viewers": false,
     "hide_output_from_viewers": false,
     "node_id": "Q9CxweMun5a0XbsUBZrDlS",
     "report_properties": {},
     "type": "MD"
    }
   },
   "source": [
    "# HWcards (HNU CE 2022년 2학기 객체지향프로그래밍 과제)"
   ]
  },
  {
   "cell_type": "markdown",
   "metadata": {},
   "source": [
    "- 이름: ???\n",
    "- 학번: ????????"
   ]
  },
  {
   "cell_type": "markdown",
   "metadata": {},
   "source": [
    "Playing Cards로 하는 SPOONS같은 게임을 만들기 위한 준비작업을 하는 과제다.\n",
    "\n",
    "- `Deck` 인터페이스를 구현하는 `GameDeck` 클래스 작성\n",
    "  - `GameDeck`에 포함된 `CardItem`객체는 up 속성을 `false`로 하여 카드 뒷면이 보이게\n",
    "- `Player` 인터페이스를 구현하는 두 종류의 클래스 `HumanPlayer`와 `ComputerPlayer`를 작성\n",
    "  - `HumanPlayer`는\n",
    "    - `hand`에 든 `CardItem`객체를 `up` 속성을 `true`로 하여 카드 앞면이 드러나 보이게\n",
    "    - `put`메소드에서 표준입력으로 0부터 시작하는 정수 형태의 인덱스 값을 사용자에게 입력받아 `hand`의 해당 인덱스 위치의 카드를 내려놓도록 작성\n",
    "  - `ComputerPlayer`는\n",
    "    - `hand`에 든 `CardItem`객체의 `up` 속성을 `false`로 하여 카드 뒷면이 보이게\n",
    "    - 일단 이 과제에서는 `ComputerPlayer`는 무조건 `hand`의 첫 카드(즉 인덱스 0)를 내려놓도록 `put`메소드 작성\n",
    "- `GameDeck`, `HumanPlayer`, `ComputerPlayer` 모두 보기좋게 보여주기 위해 `ToHTML` 인터페이스도 구현하라 "
   ]
  },
  {
   "cell_type": "code",
   "execution_count": 1,
   "metadata": {
    "datalore": {
     "hide_input_from_viewers": false,
     "hide_output_from_viewers": false,
     "node_id": "mmYzBeSDttiKvvKH3ysclM",
     "report_properties": {},
     "type": "CODE"
    }
   },
   "outputs": [],
   "source": [
    "enum class Symbol { SPADE, HEART, DIA, CLUB; } // 모양\n",
    "\n",
    "enum class Card(val face: String, val back: String = \"🂠\") { // 카드의 종류\n",
    "    SA(\"🂡\"),S2(\"🂢\"),S3(\"🂣\"),S4(\"🂤\"),S5(\"🂥\"),S6(\"🂦\"),\n",
    "    S7(\"🂧\"),S8(\"🂨\"),S9(\"🂩\"),S0(\"🂪\"),SJ(\"🂫\"),SQ(\"🂭\"),SK(\"🂮\"),\n",
    "    HA(\"🂱\"),H2(\"🂲\"),H3(\"🂳\"),H4(\"🂴\"),H5(\"🂵\"),H6(\"🂶\"),\n",
    "    H7(\"🂷\"),H8(\"🂸\"),H9(\"🂹\"),H0(\"🂺\"),HJ(\"🂻\"),HQ(\"🂽\"),HK(\"🂾\"),\n",
    "    DA(\"🃁\"),D2(\"🃂\"),D3(\"🃃\"),D4(\"🃄\"),D5(\"🃅\"),D6(\"🃆\"),\n",
    "    D7(\"🃇\"),D8(\"🃈\"),D9(\"🃉\"),D0(\"🃊\"),DJ(\"🃋\"),DQ(\"🃍\"),DK(\"🃎\"),\n",
    "    CA(\"🃑\"),C2(\"🃒\"),C3(\"🃓\"),C4(\"🃔\"),C5(\"🃕\"),C6(\"🃖\"),\n",
    "    C7(\"🃗\"),C8(\"🃘\"),C9(\"🃙\"),C0(\"🃚\"),CJ(\"🃛\"),CQ(\"🃝\"),CK(\"🃞\");\n",
    "    \n",
    "    fun symbol() = when(this) {\n",
    "        in SA..SK -> Symbol.SPADE\n",
    "        in HA..HK -> Symbol.HEART\n",
    "        in DA..DK -> Symbol.DIA\n",
    "        else      -> Symbol.CLUB // 나머지 경우는 \n",
    "    }\n",
    "    \n",
    "    fun color() = when(symbol()) {\n",
    "        Symbol.SPADE -> \"black\"\n",
    "        Symbol.HEART -> \"red\"\n",
    "        Symbol.DIA   -> \"red\"\n",
    "        Symbol.CLUB  -> \"black\"\n",
    "    }\n",
    "    \n",
    "    fun rank() = this.ordinal % 13 + 1 // A가 1, 숫자는 숫자값, J,Q,K는 11,12,13\n",
    "}"
   ]
  },
  {
   "cell_type": "code",
   "execution_count": 2,
   "metadata": {
    "datalore": {
     "hide_input_from_viewers": false,
     "hide_output_from_viewers": false,
     "node_id": "3jDt4ATfeQ1pPDCu2tdPG3",
     "report_properties": {},
     "type": "CODE"
    }
   },
   "outputs": [],
   "source": [
    "data class CardItem(val card: Card, var up: Boolean = false) { // 카드 한장\n",
    "    fun symbol() = card.symbol()\n",
    "    fun color() = card.color()\n",
    "    fun rank() = card.rank()\n",
    "    fun show() = if(up) card.face else card.back\n",
    "}"
   ]
  },
  {
   "cell_type": "code",
   "execution_count": 3,
   "metadata": {},
   "outputs": [
    {
     "data": {
      "text/html": [
       "\n",
       "<style>\n",
       "@import url('https://fonts.googleapis.com/css2?family=Noto+Sans+Symbols+2&display=swap');\n",
       ".card {\n",
       "    display: inline-block; \n",
       "    font-size: 60pt;\n",
       "    font-family: \"Noto Sans Symbols 2\", sans-serif;\n",
       "    background: rgba(255,255,255, 1) !important;\n",
       "}\n",
       ".deck { margin-right:-32pt; }\n",
       "</style>\n"
      ]
     },
     "execution_count": 3,
     "metadata": {},
     "output_type": "execute_result"
    }
   ],
   "source": [
    "HTML(\"\"\"\n",
    "<style>\n",
    "@import url('https://fonts.googleapis.com/css2?family=Noto+Sans+Symbols+2&display=swap');\n",
    ".card {\n",
    "    display: inline-block; \n",
    "    font-size: 60pt;\n",
    "    font-family: \"Noto Sans Symbols 2\", sans-serif;\n",
    "    background: rgba(255,255,255, 1) !important;\n",
    "}\n",
    ".deck { margin-right:-32pt; }\n",
    "</style>\n",
    "\"\"\")"
   ]
  },
  {
   "cell_type": "code",
   "execution_count": 4,
   "metadata": {
    "datalore": {
     "hide_input_from_viewers": false,
     "hide_output_from_viewers": false,
     "node_id": "MDSjBgZvJZM4dPvW995YqG",
     "report_properties": {},
     "type": "CODE"
    }
   },
   "outputs": [
    {
     "data": {
      "text/html": [
       "<span class='card deck'\n",
       "        style='color: red;'>🃈</span><span class='card deck'\n",
       "        style='color: black;'>🃙</span><span class='card deck'\n",
       "        style='color: black;'>🂩</span><span class='card deck'\n",
       "        style='color: red;'>🃄</span><span class='card deck'\n",
       "        style='color: red;'>🃋</span><span class='card deck'\n",
       "        style='color: black;'>🂮</span><span class='card deck'\n",
       "        style='color: red;'>🂱</span><span class='card deck'\n",
       "        style='color: black;'>🃒</span><span class='card deck'\n",
       "        style='color: black;'>🃖</span><span class='card deck'\n",
       "        style='color: red;'>🃍</span><span class='card deck'\n",
       "        style='color: black;'>🃚</span><span class='card deck'\n",
       "        style='color: black;'>🂥</span><span class='card deck'\n",
       "        style='color: red;'>🃃</span><span class='card deck'\n",
       "        style='color: red;'>🃆</span><span class='card deck'\n",
       "        style='color: red;'>🂺</span><span class='card deck'\n",
       "        style='color: red;'>🂴</span><span class='card deck'\n",
       "        style='color: black;'>🂫</span><span class='card deck'\n",
       "        style='color: red;'>🂸</span><span class='card deck'\n",
       "        style='color: red;'>🂳</span><span class='card deck'\n",
       "        style='color: black;'>🃑</span><span class='card deck'\n",
       "        style='color: red;'>🂹</span><span class='card deck'\n",
       "        style='color: black;'>🃘</span><span class='card deck'\n",
       "        style='color: black;'>🂢</span><span class='card deck'\n",
       "        style='color: black;'>🂭</span><span class='card deck'\n",
       "        style='color: black;'>🃗</span><span class='card deck'\n",
       "        style='color: red;'>🃅</span><span class='card deck'\n",
       "        style='color: black;'>🃔</span><span class='card deck'\n",
       "        style='color: red;'>🃉</span><span class='card deck'\n",
       "        style='color: red;'>🃎</span><span class='card deck'\n",
       "        style='color: black;'>🃞</span><span class='card deck'\n",
       "        style='color: red;'>🃇</span><span class='card deck'\n",
       "        style='color: black;'>🃛</span><span class='card deck'\n",
       "        style='color: red;'>🂷</span><span class='card deck'\n",
       "        style='color: red;'>🂾</span><span class='card deck'\n",
       "        style='color: red;'>🃊</span><span class='card deck'\n",
       "        style='color: black;'>🂨</span><span class='card deck'\n",
       "        style='color: black;'>🂣</span><span class='card deck'\n",
       "        style='color: red;'>🂻</span><span class='card deck'\n",
       "        style='color: red;'>🂵</span><span class='card deck'\n",
       "        style='color: red;'>🃂</span><span class='card deck'\n",
       "        style='color: black;'>🂤</span><span class='card deck'\n",
       "        style='color: black;'>🃓</span><span class='card deck'\n",
       "        style='color: black;'>🂦</span><span class='card deck'\n",
       "        style='color: black;'>🂧</span><span class='card deck'\n",
       "        style='color: black;'>🂪</span><span class='card deck'\n",
       "        style='color: black;'>🃕</span><span class='card deck'\n",
       "        style='color: red;'>🂶</span><span class='card deck'\n",
       "        style='color: red;'>🂽</span><span class='card deck'\n",
       "        style='color: black;'>🃝</span><span class='card deck'\n",
       "        style='color: red;'>🃁</span><span class='card deck'\n",
       "        style='color: red;'>🂲</span><span class='card deck'\n",
       "        style='color: black;'>🂡</span>"
      ]
     },
     "execution_count": 4,
     "metadata": {},
     "output_type": "execute_result"
    }
   ],
   "source": [
    "HTML(\n",
    "    Card.values().toList().shuffled()\n",
    "        .map { CardItem(it,true) }\n",
    "        .fold(\"\") { acc, c -> acc +\n",
    "\"\"\"<span class='card deck'\n",
    "        style='color: ${if (c.up) c.color() else \"black\"};'>${c.show()}</span>\"\"\"\n",
    "        }\n",
    ")"
   ]
  },
  {
   "cell_type": "code",
   "execution_count": 5,
   "metadata": {
    "datalore": {
     "hide_input_from_viewers": true,
     "hide_output_from_viewers": true,
     "node_id": "9uo2kDhjtwPyMpKTM1Ml04",
     "type": "CODE"
    }
   },
   "outputs": [],
   "source": [
    "interface Deck {\n",
    "    fun size(): Int\n",
    "    fun draw(): CardItem // 덱에서 카드를 뽑기\n",
    "    fun put(c: CardItem) // 덱에 카드 c를 놓기\n",
    "}\n",
    "\n",
    "interface Player {\n",
    "    val hand: MutableList<CardItem> // 이것도 가능!!\n",
    "    fun draw(d: Deck) // 덱 d로부터 카드 하나 뽑기\n",
    "    fun put(d: Deck)  // 카드 하나를 덱 d에 놓기\n",
    "}\n",
    "\n",
    "interface ToHTML {\n",
    "    fun toHTML(): String // 해당 객체를 표현하는 HTML 소스코드 문자열 생성\n",
    "}"
   ]
  },
  {
   "cell_type": "code",
   "execution_count": 6,
   "metadata": {},
   "outputs": [],
   "source": [
    "// 여기서부터"
   ]
  },
  {
   "cell_type": "code",
   "execution_count": 7,
   "metadata": {},
   "outputs": [],
   "source": [
    "// 적절한 코드로 작성하고 잘 동작하는지 보여주는 테스트도 실행하라"
   ]
  }
 ],
 "metadata": {
  "datalore": {
   "base_environment": "default",
   "computation_mode": "JUPYTER",
   "package_manager": "pip",
   "packages": [],
   "version": 1
  },
  "kernelspec": {
   "display_name": "Kotlin",
   "language": "kotlin",
   "name": "kotlin"
  },
  "language_info": {
   "codemirror_mode": "text/x-kotlin",
   "file_extension": ".kt",
   "mimetype": "text/x-kotlin",
   "name": "kotlin",
   "nbconvert_exporter": "",
   "pygments_lexer": "kotlin",
   "version": "1.6.20-dev-6372"
  }
 },
 "nbformat": 4,
 "nbformat_minor": 4
}
