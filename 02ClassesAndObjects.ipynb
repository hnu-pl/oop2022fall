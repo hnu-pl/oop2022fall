{
 "cells": [
  {
   "cell_type": "markdown",
   "metadata": {},
   "source": [
    "# 02 Classes and Objects\n",
    "\n",
    "수업 진행 내용\n",
    "- 교재 05장과 06장 관련 내용들\n",
    "- 콜택시를 활용하는 승객에 대한 객체 모댈링\n",
    "- equals, toStrong, 생성자\n",
    "접근권한 등 다른 내용들은 교재 등 참고."
   ]
  },
  {
   "cell_type": "markdown",
   "metadata": {},
   "source": [
    "---\n",
    "## 콜택시를 활용하는 시나리오를 승객과 택시의 대화로 모델링\n",
    "객체 모델링은 어떤 종류의 객체들끼리 어떤 **대화**를 하는지 정리하는 것이라 이해하면 좋다.\n",
    "\n",
    "택시를 호출해 승객을 목적지까지 이동시키는 시나리오를 생각해 보자.\n",
    "\n",
    "- 택시야 여기로 와 - 호출(`call`) 메시지에는 승객의 위치를 제공\n",
    "  - 호출 메시지에 대한 택시의 동작은\n",
    "    - 택시는 승객의 위치로 이동\n",
    "      - 즉, 택시의 위치를 승객의 위치로 설정\n",
    "- 택시야 이제 탈께 - 탑승(`ride`) 메시지에는 승객 자신을 제공\n",
    "  - 탑승 메시지에 대한 택시의 동작은\n",
    "    - 택시가 승객의 목적지 위치로 이동하여\n",
    "      - 즉, 택시의 위치를 승객의 목적지 위치로 설정\n",
    "    - 승객을 목적지 위치에 내려줌\n",
    "      - 즉, 승객의 위치를 택시의 위치로 설정\n",
    "      \n",
    "위의 시나리오에서\n",
    " - 객체의 종류(클래스)는 2가지: 승객, 택시\n",
    " - 각 종류의 메시지를 그 메시지를 받아서 처리하는 클래스의 `메소드`(멤버 함수)로 정의\n",
    " - 위치와 같은 정보들은 각 클래스의 속성이므로 필드(멤버 변수)로 정의\n",
    "   - 승객은 두 개의 속성(현재 위치, 목적지)\n",
    "   - 택시는 한 개의 속성(현재 위치)"
   ]
  },
  {
   "cell_type": "code",
   "execution_count": 1,
   "metadata": {},
   "outputs": [],
   "source": [
    "// 위치라는 것도 별도의 클래스로 모델링할 수도 있지만 그냥 간단하게 String으로 처리합시다\n",
    "\n",
    "class Passenger { // 승객이라는 개념을 나타내는 클래스\n",
    "    String loc;  // 현재 위치\n",
    "    String dest; // 목적지\n",
    "}\n",
    "\n",
    "class Taxi { // 택시라는 개념을 나타내는 클래스\n",
    "    String loc; // 현재 위치\n",
    "    \n",
    "    void call(String l) { // 승객의 위치 정보를 l을 통해 제공해야 함\n",
    "        loc = l; // 택시는 승객의 위치로 이동\n",
    "    }\n",
    "    void ride(Passenger p) { // 승객이라는 정보를 p를 통해 제공해야 함\n",
    "        loc = p.dest;  // 택시가 승객의 목적지 위치로 이동\n",
    "        p.loc = loc;   // 승객을 목적지 위치(즉 택시의 현재 위치)에 내려줌\n",
    "    }\n",
    "}\n",
    "\n",
    "// 객체지향 프로그래밍의 객체 모델링(객체의 종류, 속성, 상호작용) 단계까지 된것"
   ]
  },
  {
   "cell_type": "code",
   "execution_count": 2,
   "metadata": {},
   "outputs": [
    {
     "name": "stdout",
     "output_type": "stream",
     "text": [
      "호출 전\n",
      "p1의 현재 위치: 한남대\n",
      "t1의 현재 위치: 대덕구청\n",
      "호출 후 택시가 와서 탑승 직전\n",
      "p1의 현재 위치: 한남대\n",
      "t1의 현재 위치: 한남대\n",
      "탑승해 운행 후 목적지 도착해서\n",
      "p1의 현재 위치: 대전역\n",
      "t1의 현재 위치: 대전역\n"
     ]
    }
   ],
   "source": [
    "// 시나리오처럼 동작하는 프로그램을 작성하기 위해서는 클래스의 인스턴스인 객체를 생성해야 한다\n",
    "\n",
    "Passenger p1 = new Passenger(); // 승객 객체를 하나 생성해 p1이라는 이름으로 접근하자\n",
    "// 승객 p1의 속성 지정\n",
    "p1.loc = \"한남대\";\n",
    "p1.dest = \"대전역\";\n",
    "\n",
    "Taxi t1 = new Taxi(); // 택시 객체를 하나 생성해 t1이라는 이름으로 접근하자\n",
    "// 택시 t1의 속성 지정\n",
    "t1.loc = \"대덕구청\";\n",
    "\n",
    "\n",
    "///////////////////////////////////////////////////////////////\n",
    "System.out.println(\"호출 전\");\n",
    "System.out.println(\"p1의 현재 위치: \" + p1.loc);\n",
    "System.out.println(\"t1의 현재 위치: \" + t1.loc);\n",
    "\n",
    "t1.call( p1.loc ); // 택시 t1을 승객 p1의 위치로 호출\n",
    "\n",
    "System.out.println(\"호출 후 택시가 와서 탑승 직전\");\n",
    "System.out.println(\"p1의 현재 위치: \" + p1.loc);\n",
    "System.out.println(\"t1의 현재 위치: \" + t1.loc);\n",
    "\n",
    "t1.ride( p1 );     // 택시 t1에 승객 p1이 탑승해서 운행\n",
    "\n",
    "System.out.println(\"탑승해 운행 후 목적지 도착해서\");\n",
    "System.out.println(\"p1의 현재 위치: \" + p1.loc);\n",
    "System.out.println(\"t1의 현재 위치: \" + t1.loc);"
   ]
  },
  {
   "cell_type": "markdown",
   "metadata": {},
   "source": [
    "---\n",
    "### 동전(Coin) 클래스의 equals 메소드\n",
    "\n",
    "동전의 속성 두가지\n",
    " - 액면가\n",
    " - 발행연도\n",
    " \n",
    "그러면 동전을 equals로 **내용이 같다**고 비교하는 개념은 정확히 뭘까?\n",
    "\n",
    "내가 어떤 내용을 중요하게 관심을 가지고 보느냐에 따라 다르게 정의할 수 있다! \n",
    " - 동전을 화폐 고유의 목적(지불 수단)으로 생각하면 액면가만 기준으로 비교해도 됨\n",
    " - 내 관심이 동전 수집이라면 액면가 뿐만 아니라 발행 연도도 중요해 진다!\n",
    "\n",
    "그러니까 같은 속성으로 이루어진/정의된 클래스라 하더라도 equals의 의미가 미리 딱 하나로 정해져 있지는 않다!\n",
    "\n",
    "같은 속성들로 정의된 클래스라도 `equals`를 활용 의도에 따라 다르게 정의할 수 있어야 ...\n",
    "\n",
    "그래서 Java의 경우에 `equals`의 기본 동작은 그냥 `==`랑 똑같이 해놨다.\n",
    "\n",
    "그래서 클래스를 정의하는 프로그래머가 필요에 따라 재정의(override)해야 함."
   ]
  },
  {
   "cell_type": "code",
   "execution_count": 3,
   "metadata": {},
   "outputs": [],
   "source": [
    "class Coin {\n",
    "    int value; // 액면가\n",
    "    int year;  // 발행연도\n",
    "    \n",
    "    Coin(int v, int y) {\n",
    "        value = v;\n",
    "        year = y;\n",
    "    }\n",
    "    \n",
    "    /* // equals의 기본동작\n",
    "    public boolean equals(Object o) {\n",
    "        return this == o;\n",
    "    }\n",
    "    */\n",
    "    \n",
    "    /* // 동전을 화폐 고유의 목적(지불 수단)으로 생각하면 액면가만 기준으로 비교\n",
    "    public boolean equals(Object o) {\n",
    "        return value == ((Coin)o).value; // 액면가가 같은 동전끼리 equals가 성립하도록 정의\n",
    "    }\n",
    "    */\n",
    "    \n",
    "    // 내 관심이 동전 수집이라면 액면가 뿐만 아니라 발행 연도도\n",
    "    public boolean equals(Object o) {\n",
    "        return value == ((Coin)o).value\n",
    "            && year == ((Coin)o).year;\n",
    "    }\n",
    "}"
   ]
  },
  {
   "cell_type": "code",
   "execution_count": 4,
   "metadata": {},
   "outputs": [
    {
     "data": {
      "text/plain": [
       "false"
      ]
     },
     "execution_count": 4,
     "metadata": {},
     "output_type": "execute_result"
    }
   ],
   "source": [
    "Coin c1 = new Coin(100,1999);\n",
    "/*\n",
    "Coin c1 = new Coin();\n",
    "c1.value = 100;\n",
    "c1.year = 1999;\n",
    "*/\n",
    "\n",
    "Coin c2 = new Coin(100,1999);\n",
    "/*\n",
    "Coin c2 = new Coin();\n",
    "c2.value = 100;\n",
    "c2.year = 1999;\n",
    "*/\n",
    "\n",
    "c1 == c2"
   ]
  },
  {
   "cell_type": "code",
   "execution_count": 5,
   "metadata": {},
   "outputs": [
    {
     "data": {
      "text/plain": [
       "true"
      ]
     },
     "execution_count": 5,
     "metadata": {},
     "output_type": "execute_result"
    }
   ],
   "source": [
    "c1.equals(c2) // 같은 100원짜리 동전이네 그리고 발행 연도도 같았고"
   ]
  },
  {
   "cell_type": "code",
   "execution_count": 6,
   "metadata": {},
   "outputs": [
    {
     "data": {
      "text/plain": [
       "false"
      ]
     },
     "execution_count": 6,
     "metadata": {},
     "output_type": "execute_result"
    }
   ],
   "source": [
    "Coin c3 = new Coin(100,2010);\n",
    "/*\n",
    "Coin c3 = new Coin();\n",
    "c3.value = 100;\n",
    "c3.year = 2010;\n",
    "*/\n",
    "\n",
    "c1.equals(c3) // 발행 연도는 다르지만 같은 100원짜리 동전"
   ]
  },
  {
   "cell_type": "markdown",
   "metadata": {},
   "source": [
    "----\n",
    "### toString 메소드\n",
    "equals 처럼 기본적으로 클래스를 정의하면 제공되는 메소드.\n",
    "\n",
    "equals와 마찬가지로 기본적으로 제공되는 toString의 동작은 그다지 영양가 있는 정보가 아니기 때문에 재정의(override)해서 쓰는 경우가 많다. 특히나 equals를 재정의하는 상황이라면 toString도 알맞게 재정의하는 것이 좋다."
   ]
  },
  {
   "cell_type": "code",
   "execution_count": 7,
   "metadata": {},
   "outputs": [
    {
     "name": "stdout",
     "output_type": "stream",
     "text": [
      "hello world\n"
     ]
    }
   ],
   "source": [
    "System.out.println(\"hello world\") // 문자열 출력"
   ]
  },
  {
   "cell_type": "code",
   "execution_count": 8,
   "metadata": {},
   "outputs": [
    {
     "name": "stdout",
     "output_type": "stream",
     "text": [
      "123\n"
     ]
    }
   ],
   "source": [
    "System.out.println(123) // 정수 출력"
   ]
  },
  {
   "cell_type": "code",
   "execution_count": 9,
   "metadata": {},
   "outputs": [
    {
     "name": "stdout",
     "output_type": "stream",
     "text": [
      "REPL.$JShell$30$Coin@6397d8d9\n"
     ]
    }
   ],
   "source": [
    "System.out.println(c3) // 레퍼런스 타입의 객체(오브젝트)도 출력 가능"
   ]
  },
  {
   "cell_type": "markdown",
   "metadata": {},
   "source": [
    "레퍼런스 타입의 객체가 출력 가능한 이유?\n",
    "- toString()의 메소드가 리턴하는 문자열을 출력하기 때문!"
   ]
  },
  {
   "cell_type": "code",
   "execution_count": 10,
   "metadata": {},
   "outputs": [
    {
     "data": {
      "text/plain": [
       "REPL.$JShell$30$Coin@6397d8d9"
      ]
     },
     "execution_count": 10,
     "metadata": {},
     "output_type": "execute_result"
    }
   ],
   "source": [
    "c3.toString()"
   ]
  },
  {
   "cell_type": "markdown",
   "metadata": {},
   "source": [
    "레퍼런스 타입의 객체 `c3`를 `System.out.println`을 한다는 것은\n",
    "`c3.toString()`해서 나오는 문자열을 출력하도록 되어 있다. \n",
    "(두잇 자바 교재 p.151 관련 내용 참고)"
   ]
  },
  {
   "cell_type": "code",
   "execution_count": 11,
   "metadata": {},
   "outputs": [
    {
     "name": "stdout",
     "output_type": "stream",
     "text": [
      "REPL.$JShell$30$Coin@6397d8d9\n"
     ]
    }
   ],
   "source": [
    "System.out.println( c3.toString() ) "
   ]
  },
  {
   "cell_type": "markdown",
   "metadata": {},
   "source": [
    "Coin클래스의 객체인 c3에 대해서 액면가나 발행연도 같은 내용을 보통 더 알고 싶다.\n",
    "그래서 toString을 재정의하면 원하는 내용을 출력하게 할 수 있다.\n",
    "\n",
    "앞의 지난 영상에서 작성한 코드와 헷갈리지 않기 위해서 Coin2라는 별도의 이름으로 클래스를 정의해서 toString을 재정의(override) 하겠다."
   ]
  },
  {
   "cell_type": "code",
   "execution_count": 12,
   "metadata": {},
   "outputs": [],
   "source": [
    "class Coin2 {\n",
    "    int value; // 액면가\n",
    "    int year;  // 발행연도\n",
    "    \n",
    "    Coin2(int v, int y) {\n",
    "        value = v;\n",
    "        year = y;\n",
    "    }\n",
    "    \n",
    "    // 내 관심이 동전 수집이라면 액면가 뿐만 아니라 발행 연도도\n",
    "    public boolean equals(Object o) {\n",
    "        return value == ((Coin)o).value\n",
    "            && year == ((Coin)o).year;\n",
    "    }\n",
    "    \n",
    "    public String toString() {\n",
    "        return \"액면가: \" + value + \", 발행연도: \" + year;\n",
    "    }\n",
    "}"
   ]
  },
  {
   "cell_type": "code",
   "execution_count": 13,
   "metadata": {},
   "outputs": [
    {
     "data": {
      "text/plain": [
       "11.0.4"
      ]
     },
     "execution_count": 13,
     "metadata": {},
     "output_type": "execute_result"
    }
   ],
   "source": [
    "// https://docs.oracle.com/ 에서 자바 버전에 맞는 문서를 검색\n",
    "System.getProperty(\"java.version\") // 자바 11 버전"
   ]
  },
  {
   "cell_type": "code",
   "execution_count": 14,
   "metadata": {},
   "outputs": [
    {
     "data": {
      "text/plain": [
       "153"
      ]
     },
     "execution_count": 14,
     "metadata": {},
     "output_type": "execute_result"
    }
   ],
   "source": [
    "// 정수를 String으로 변환하는 간단한 방법\n",
    "\"\" + 153"
   ]
  },
  {
   "cell_type": "code",
   "execution_count": 15,
   "metadata": {},
   "outputs": [],
   "source": [
    "// toString으로 재정의한 Coin2 클래스의 객체를 생성\n",
    "Coin2 c4 = new Coin2(500,2020);"
   ]
  },
  {
   "cell_type": "code",
   "execution_count": 16,
   "metadata": {},
   "outputs": [
    {
     "data": {
      "text/plain": [
       "액면가: 500, 발행연도: 2020"
      ]
     },
     "execution_count": 16,
     "metadata": {},
     "output_type": "execute_result"
    }
   ],
   "source": [
    "c4 // 주피터 환경에서 출력되는 내용도 toString의 내용을 그대로 출력하는 경우가 대부분"
   ]
  },
  {
   "cell_type": "code",
   "execution_count": 17,
   "metadata": {},
   "outputs": [
    {
     "data": {
      "text/plain": [
       "액면가: 500, 발행연도: 2020"
      ]
     },
     "execution_count": 17,
     "metadata": {},
     "output_type": "execute_result"
    }
   ],
   "source": [
    "c4.toString()"
   ]
  },
  {
   "cell_type": "code",
   "execution_count": 18,
   "metadata": {},
   "outputs": [
    {
     "name": "stdout",
     "output_type": "stream",
     "text": [
      "액면가: 500, 발행연도: 2020\n"
     ]
    }
   ],
   "source": [
    "System.out.println(c4)"
   ]
  },
  {
   "cell_type": "markdown",
   "metadata": {},
   "source": [
    "----\n",
    "### 생성자에 대해 조금 더\n",
    "- 어떤 클래스 `C`의 기본 생성자는 `new C()` 처럼 파라메터 없이 호출하는 생성자\n",
    "- 기본 생성자는 기본적으로 제공되지만 생성자를 직접 정의하기 시작하면 없어짐\n",
    "- 그래서 필요하다면 기본 생성자를 직접 정의하는 것이 가능"
   ]
  },
  {
   "cell_type": "code",
   "execution_count": 19,
   "metadata": {},
   "outputs": [],
   "source": [
    "// 앞의 예제와 헷갈려서 꼬이지 않기 위해서 C라는 이름으로\n",
    "class C {\n",
    "    int value; // 액면가\n",
    "    int year;  // 발행연도\n",
    "    \n",
    "    // 내 관심이 동전 수집이라면 액면가 뿐만 아니라 발행 연도도\n",
    "    public boolean equals(Object o) {\n",
    "        // 참고로 이건 최대한 간단히 개념만 보여주기 위한거고\n",
    "        // 조금 더 까다롭게 신경써야 할 부분들이 있으므로\n",
    "        // 실제로는  equals를 이것보다 좀더 신경써서 작성해야 함!!! (교재)\n",
    "        return value == ((C)o).value\n",
    "            && year == ((C)o).year;\n",
    "    }\n",
    "    \n",
    "    public String toString() {\n",
    "        return \"액면가: \" + value + \", 발행연도: \" + year;\n",
    "    }\n",
    "}"
   ]
  },
  {
   "cell_type": "code",
   "execution_count": 20,
   "metadata": {},
   "outputs": [],
   "source": [
    "// 생성자를 전혀 정의하지 않은 C 클래스는 기본 생성자가 제공\n",
    "C c10 = new C();"
   ]
  },
  {
   "cell_type": "code",
   "execution_count": 21,
   "metadata": {},
   "outputs": [
    {
     "data": {
      "text/plain": [
       "액면가: 0, 발행연도: 0"
      ]
     },
     "execution_count": 21,
     "metadata": {},
     "output_type": "execute_result"
    }
   ],
   "source": [
    "c10 // 기본적으로 제공되는 기본 생성자는 모든 속성(멤버 변수를) 기본값으로 초기화"
   ]
  },
  {
   "cell_type": "code",
   "execution_count": 22,
   "metadata": {},
   "outputs": [
    {
     "name": "stdout",
     "output_type": "stream",
     "text": [
      "0\n"
     ]
    }
   ],
   "source": [
    "int v10; // 초기화되지 않은 int 변수 v10의 값을 실제로 알아보면\n",
    "\n",
    "System.out.println(v10)"
   ]
  },
  {
   "cell_type": "code",
   "execution_count": 23,
   "metadata": {},
   "outputs": [
    {
     "name": "stdout",
     "output_type": "stream",
     "text": [
      "null\n"
     ]
    }
   ],
   "source": [
    "// 참고로 레퍼런스 타입의 변수는 초기화하지 않으면 null로 초기화됨\n",
    "String s10; // 초기화 안한 String 변수 s10\n",
    "\n",
    "System.out.println(s10);"
   ]
  },
  {
   "cell_type": "code",
   "execution_count": 24,
   "metadata": {},
   "outputs": [],
   "source": [
    "// 앞의 예제와 헷갈려서 꼬이지 않기 위해서 C2라는 이름으로\n",
    "class C2 {\n",
    "    int value; // 액면가\n",
    "    int year;  // 발행연도\n",
    "    \n",
    "    // 기본 생성자가 아닌 (즉 파라메터를 받는) 생성자를 직접 클래스 안에 정의 \n",
    "    C2(int v, int y) { value = v; year = y; }\n",
    "    \n",
    "    // 내 관심이 동전 수집이라면 액면가 뿐만 아니라 발행 연도도\n",
    "    public boolean equals(Object o) {\n",
    "        // 참고로 이건 최대한 간단히 개념만 보여주기 위한거고\n",
    "        // 조금 더 까다롭게 신경써야 할 부분들이 있으므로\n",
    "        // 실제로는  equals를 이것보다 좀더 신경써서 작성해야 함!!! (교재)\n",
    "        return value == ((C)o).value\n",
    "            && year == ((C)o).year;\n",
    "    }\n",
    "    \n",
    "    public String toString() {\n",
    "        return \"액면가: \" + value + \", 발행연도: \" + year;\n",
    "    }\n",
    "}"
   ]
  },
  {
   "cell_type": "code",
   "execution_count": 25,
   "metadata": {},
   "outputs": [
    {
     "data": {
      "text/plain": [
       "액면가: 50, 발행연도: 1998"
      ]
     },
     "execution_count": 25,
     "metadata": {},
     "output_type": "execute_result"
    }
   ],
   "source": [
    "new C2(50,1998) // 직접 정의한 생성자로 객체를 만들 수 있다"
   ]
  },
  {
   "cell_type": "code",
   "execution_count": 26,
   "metadata": {},
   "outputs": [
    {
     "ename": "CompilationException",
     "evalue": "",
     "output_type": "error",
     "traceback": [
      "\u001b[1m\u001b[30m|   \u001b[1m\u001b[30m\u001b[0m\u001b[1m\u001b[30m\u001b[41mnew C2()\u001b[0m\u001b[1m\u001b[30m // 기본 생성자는 사라지므로 더 이상 사용할 수 없다\u001b[0m",
      "\u001b[1m\u001b[31mconstructor C2 in class C2 cannot be applied to given types;\u001b[0m",
      "\u001b[1m\u001b[31m  required: int,int\u001b[0m",
      "\u001b[1m\u001b[31m  found: no arguments\u001b[0m",
      "\u001b[1m\u001b[31m  reason: actual and formal argument lists differ in length\u001b[0m",
      ""
     ]
    }
   ],
   "source": [
    "new C2() // 기본 생성자는 사라지므로 더 이상 사용할 수 없다"
   ]
  },
  {
   "cell_type": "code",
   "execution_count": 27,
   "metadata": {},
   "outputs": [],
   "source": [
    "// 앞의 예제와 헷갈려서 꼬이지 않기 위해서 C3라는 이름으로\n",
    "class C3 {\n",
    "    int value; // 액면가\n",
    "    int year;  // 발행연도\n",
    "    \n",
    "    // 기본 생성자가 아닌 (즉 파라메터를 받는) 생성자를 직접 클래스 안에 정의 \n",
    "    C3(int v, int y) { value = v; year = y; }\n",
    "    \n",
    "    // 기본 생성자를 올해 발행 10원 동전을 생성하도록 다시 정의하고 싶다면\n",
    "    C3() {\n",
    "        value = 10;\n",
    "        year = Calendar.getInstance().get(Calendar.YEAR);\n",
    "    }\n",
    "    \n",
    "    // 내 관심이 동전 수집이라면 액면가 뿐만 아니라 발행 연도도\n",
    "    public boolean equals(Object o) {\n",
    "        // 참고로 이건 최대한 간단히 개념만 보여주기 위한거고\n",
    "        // 조금 더 까다롭게 신경써야 할 부분들이 있으므로\n",
    "        // 실제로는  equals를 이것보다 좀더 신경써서 작성해야 함!!! (교재9장에도 자세히 설명하진 않음)\n",
    "        return value == ((C)o).value\n",
    "            && year == ((C)o).year;\n",
    "    }\n",
    "    \n",
    "    public String toString() {\n",
    "        return \"액면가: \" + value + \", 발행연도: \" + year;\n",
    "    }\n",
    "}"
   ]
  },
  {
   "cell_type": "code",
   "execution_count": 28,
   "metadata": {},
   "outputs": [
    {
     "data": {
      "text/plain": [
       "2022"
      ]
     },
     "execution_count": 28,
     "metadata": {},
     "output_type": "execute_result"
    }
   ],
   "source": [
    "// https://stackoverflow.com/questions/136419/get-integer-value-of-the-current-year-in-java\n",
    "Calendar.getInstance().get(Calendar.YEAR)"
   ]
  },
  {
   "cell_type": "code",
   "execution_count": 29,
   "metadata": {},
   "outputs": [
    {
     "data": {
      "text/plain": [
       "액면가: 10, 발행연도: 1995"
      ]
     },
     "execution_count": 29,
     "metadata": {},
     "output_type": "execute_result"
    }
   ],
   "source": [
    "new C3(10,1995) // 직접 정의한 생성자로 객체를 만들 수도 있고"
   ]
  },
  {
   "cell_type": "code",
   "execution_count": 30,
   "metadata": {},
   "outputs": [
    {
     "data": {
      "text/plain": [
       "액면가: 10, 발행연도: 2022"
      ]
     },
     "execution_count": 30,
     "metadata": {},
     "output_type": "execute_result"
    }
   ],
   "source": [
    "new C3() // 기본 생성자로도 객체를 만들 수 있음"
   ]
  },
  {
   "cell_type": "markdown",
   "metadata": {},
   "source": [
    "참고로 C3의 생성자들은 오버로드(overload)되어 있다고 합니다."
   ]
  },
  {
   "cell_type": "markdown",
   "metadata": {},
   "source": [
    "----\n",
    "## 실습 가이드라인\n",
    "교재를 찾아보면 this를 사용해서\n",
    "\n",
    "\n",
    "교재에서 클래스 외부로부터 필드(멤버 변수)에 직접 접근을 막고\n",
    "클래스를 getter, setter를 활용하도록 변경한 것처럼 Passenger, Taxi 클래스 변경해보기.\n",
    "- 멤버 변수를 private으로\n",
    "- getLoc, setLoc, getDest, setDest 메소드 작성\n",
    "- 기존에 작성된 코드도 그에 맞게 변경\n",
    "\n",
    "그리고 생성자도 추가해 보기"
   ]
  },
  {
   "cell_type": "code",
   "execution_count": null,
   "metadata": {},
   "outputs": [],
   "source": []
  }
 ],
 "metadata": {
  "kernelspec": {
   "display_name": "Java",
   "language": "java",
   "name": "java"
  },
  "language_info": {
   "codemirror_mode": "java",
   "file_extension": ".jshell",
   "mimetype": "text/x-java-source",
   "name": "Java",
   "pygments_lexer": "java",
   "version": "11.0.8+10-LTS"
  }
 },
 "nbformat": 4,
 "nbformat_minor": 5
}
