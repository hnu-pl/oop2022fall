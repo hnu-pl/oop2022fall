{
 "cells": [
  {
   "cell_type": "markdown",
   "id": "7de54f39-fb6d-409a-94cf-a9046ea00324",
   "metadata": {},
   "source": [
    "# Channel 실습"
   ]
  },
  {
   "cell_type": "code",
   "execution_count": 7,
   "id": "1aca70e3-f25a-478b-922b-b5d77b0b3344",
   "metadata": {},
   "outputs": [],
   "source": [
    "@file:DependsOn(\"org.jetbrains.kotlinx:kotlinx-coroutines-core:1.6.4\")"
   ]
  },
  {
   "cell_type": "code",
   "execution_count": 2,
   "id": "9d9fe1f9-462f-48b3-b198-d080ae80e1f8",
   "metadata": {},
   "outputs": [
    {
     "name": "stdout",
     "output_type": "stream",
     "text": [
      "2\n",
      "1\n",
      "4\n",
      "6\n",
      "3\n",
      "8\n",
      "sending even number done\n",
      "10\n",
      "5\n",
      "7\n",
      "sending odd number done\n",
      "9\n",
      "Done!\n"
     ]
    }
   ],
   "source": [
    "import kotlinx.coroutines.*\n",
    "import kotlinx.coroutines.channels.*\n",
    "\n",
    "runBlocking {\n",
    "    val channel = Channel<Int>()\n",
    "    val controlChannel = Channel<Int>()\n",
    "    launch { // this might be heavy CPU-consuming computation or async logic, we'll just send five squares\n",
    "        for (x in 1..5) { delay(400); channel.send(2 * x); }\n",
    "        controlChannel.send(0) // 감독관한테 나 일 다했어\n",
    "        println(\"sending even number done\")\n",
    "    }\n",
    "    launch { // this might be heavy CPU-consuming computation or async logic, we'll just send five squares\n",
    "        for (x in 1..5) { delay(800); channel.send(2 * x - 1) }\n",
    "        channel.close()\n",
    "        controlChannel.send(1) // 감독관한테 나 일 다했어\n",
    "        println(\"sending odd number done\")\n",
    "    }\n",
    "    launch { // 감독관 작업?\n",
    "        controlChannel.receive()\n",
    "        controlChannel.receive()\n",
    "        channel.close()\n",
    "        controlChannel.close()\n",
    "    }\n",
    "    // here we print five received integers:\n",
    "    for(x in 1..10) { println(channel.receive()) }\n",
    "    println(\"Done!\")\n",
    "}"
   ]
  },
  {
   "cell_type": "code",
   "execution_count": 3,
   "id": "f065eefc-7f7b-46ac-bcff-d3f89cc6b28c",
   "metadata": {},
   "outputs": [
    {
     "name": "stdout",
     "output_type": "stream",
     "text": [
      "1\n",
      "2\n",
      "3\n",
      "4\n",
      "5\n",
      "6\n",
      "7\n",
      "8\n",
      "9\n",
      "10\n",
      "Done!\n"
     ]
    }
   ],
   "source": [
    "import kotlinx.coroutines.*\n",
    "import kotlinx.coroutines.channels.*\n",
    "\n",
    "runBlocking {\n",
    "    val channel = Channel<Int>()\n",
    "    \n",
    "    launch {\n",
    "        // this might be heavy CPU-consuming computation or async logic, we'll just send five squares\n",
    "        for (x in 1..10) { delay(400); channel.send(x) }\n",
    "        channel.close();\n",
    "    }\n",
    "    \n",
    "    // here we print five received integers:\n",
    "    for (x in channel) { println(x) }\n",
    "    // for(x in 1..5) { println(channel.receive()) }\n",
    "    println(\"Done!\")\n",
    "}"
   ]
  },
  {
   "cell_type": "code",
   "execution_count": 4,
   "id": "8ede1862-e8ee-4ddb-9292-a2855c3d273f",
   "metadata": {},
   "outputs": [
    {
     "name": "stdout",
     "output_type": "stream",
     "text": [
      "1\n",
      "2\n",
      "3\n",
      "4\n",
      "5\n",
      "6\n",
      "7\n",
      "8\n",
      "9\n",
      "10\n",
      "Done!\n"
     ]
    }
   ],
   "source": [
    "import kotlinx.coroutines.*\n",
    "import kotlinx.coroutines.channels.*\n",
    "\n",
    "val channel = Channel<Int>()\n",
    "\n",
    "runBlocking {\n",
    "    \n",
    "    launch {\n",
    "        // this might be heavy CPU-consuming computation or async logic, we'll just send five squares\n",
    "        for (x in 1..10) { channel.send(x) }\n",
    "        channel.close();\n",
    "    }\n",
    "    \n",
    "    // here we print five received integers:\n",
    "    for (x in channel) { delay(400); println(x) }\n",
    "    println(\"Done!\")\n",
    "}"
   ]
  },
  {
   "cell_type": "code",
   "execution_count": 5,
   "id": "eca7c01a-b43a-494e-8100-1ff0e7a425f9",
   "metadata": {},
   "outputs": [
    {
     "name": "stdout",
     "output_type": "stream",
     "text": [
      "count 1\n",
      "count 2\n",
      "count 3\n",
      "count 4\n",
      "count 5\n",
      "count 6\n",
      "count 7\n",
      "count 8\n",
      "count 9\n",
      "count 10\n",
      "received 1, channel has 9 items\n",
      "received 2, channel has 8 items\n",
      "received 3, channel has 7 items\n",
      "received 4, channel has 6 items\n",
      "received 5, channel has 5 items\n",
      "received 6, channel has 4 items\n",
      "received 7, channel has 3 items\n",
      "received 8, channel has 2 items\n",
      "received 9, channel has 1 items\n",
      "received 10, channel has 0 items\n",
      "Done!\n"
     ]
    }
   ],
   "source": [
    "import kotlinx.coroutines.*\n",
    "import kotlinx.coroutines.channels.*\n",
    "import kotlinx.coroutines.flow.*\n",
    "\n",
    "// 채널 안에 메모리가 허락하는 한 무한정의 버퍼를 두어 데이터를 많이 쌓아둘 수 있음 \n",
    "val channel = Channel<Int>( Channel.UNLIMITED )\n",
    "val count = MutableStateFlow<Int>(0) // for MT-safe(multi-thread safe) counter\n",
    "\n",
    "runBlocking {\n",
    "    \n",
    "    launch {\n",
    "        // this might be heavy CPU-consuming computation or async logic, we'll just send five squares\n",
    "        for (x in 1..10) {\n",
    "            // delay(100); // 주석을 처리했다 풀었다, 그리고 50 으로도 해보라\n",
    "            channel.send(x)\n",
    "            count.update { it -> it+1 }\n",
    "            println(\"count ${count.value}\")\n",
    "        }\n",
    "        channel.close();\n",
    "    }\n",
    "    \n",
    "    // here we print five received integers:\n",
    "    for (x in channel) {\n",
    "        /// delay(100); // 주석을 처리했다 풀었다, 그리고 50 으로도 해보라\n",
    "        count.update { it -> it-1 }\n",
    "        println(\"received ${x}, channel has ${count.value} items\")\n",
    "    }\n",
    "    // for(x in 1..5) { println(channel.receive()) }\n",
    "    println(\"Done!\")\n",
    "}"
   ]
  },
  {
   "cell_type": "code",
   "execution_count": 6,
   "id": "09b198f3-a155-43d3-b8d9-74782e9f64a4",
   "metadata": {},
   "outputs": [
    {
     "name": "stdout",
     "output_type": "stream",
     "text": [
      "cnt0--\n",
      "cnt0: 8, cnt1:0\n",
      "cnt1++\n",
      "cnt0--\n",
      "cnt1--\n",
      "cnt0: 7, cnt1:0\n",
      "cnt1++\n",
      "cnt0--\n",
      "cnt0: 6, cnt1:1\n",
      "cnt0++\n",
      "cnt0++\n",
      "cnt1--\n",
      "cnt0: 7, cnt1:0\n",
      "cnt1++\n",
      "cnt0--\n",
      "cnt0: 6, cnt1:1\n",
      "cnt0++\n",
      "cnt0++\n",
      "cnt1--\n",
      "cnt1++\n",
      "cnt0--\n",
      "cnt0: 6, cnt1:1\n",
      "cnt0: 6, cnt1:1\n",
      "cnt1++\n",
      "cnt0--\n",
      "cnt0++\n",
      "cnt0++\n",
      "cnt1--\n",
      "cnt0: 6, cnt1:1\n",
      "cnt1++\n",
      "cnt0--\n",
      "cnt0: 5, cnt1:2\n",
      "cnt0++\n",
      "cnt0++\n",
      "cnt1--\n",
      "cnt0: 6, cnt1:1\n",
      "cnt1++\n",
      "cnt0--\n",
      "cnt0: 5, cnt1:2\n",
      "cnt0++\n",
      "cnt0++\n",
      "cnt1--\n",
      "cnt1++\n",
      "cnt0--\n",
      "cnt0: 5, cnt1:2\n",
      "cnt0: 5, cnt1:2\n",
      "cnt1++\n",
      "cnt0--\n",
      "cnt0++\n",
      "cnt0++\n",
      "cnt1--\n",
      "cnt0: 5, cnt1:2\n",
      "cnt1++\n",
      "cnt0: 5, cnt1:3\n",
      "cnt0++\n",
      "cnt0++\n",
      "cnt1--\n",
      "cnt0: 6, cnt1:2\n",
      "cnt0: 6, cnt1:2\n",
      "cnt0++\n",
      "cnt0++\n",
      "cnt1--\n",
      "cnt0: 7, cnt1:1\n",
      "cnt0: 7, cnt1:1\n",
      "cnt0++\n",
      "cnt0++\n",
      "cnt1--\n",
      "cnt0: 8, cnt1:0\n",
      "cnt0: 8, cnt1:0\n",
      "cnt0++\n",
      "cnt0++\n",
      "cnt0: 9, cnt1:0\n",
      "cnt0: 9, cnt1:0\n",
      "cnt0: 9, cnt1:0\n",
      "cnt0: 9, cnt1:0\n",
      "cnt0: 9, cnt1:0\n",
      "Done!\n"
     ]
    }
   ],
   "source": [
    "import kotlinx.coroutines.*\n",
    "import kotlinx.coroutines.channels.*\n",
    "import kotlinx.coroutines.flow.*\n",
    "\n",
    "val chan0 = Channel<Int>( Channel.UNLIMITED ) // 카드게임에서 deck의 역할에 해당\n",
    "val cnt0 = MutableStateFlow<Int>(0)\n",
    "val hand0 = ArrayDeque( listOf(10,11,12,13) )\n",
    "\n",
    "val chan1 = Channel<Int>( Channel.UNLIMITED ) // 카드게임에서 deck의 역할에 해당\n",
    "val cnt1 = MutableStateFlow<Int>(0)\n",
    "val hand1 = ArrayDeque( listOf(20,21,22,23) )\n",
    "\n",
    "runBlocking {\n",
    "    for (i in 0..9) chan0.send(i) // 10개의 정수를 chan0에 채워놓고 시작\n",
    "    cnt0.update { it -> 9 }\n",
    "    \n",
    "    launch { // player 0\n",
    "        for (i in 0..9) {\n",
    "            hand0.addFirst( chan0.receive() )\n",
    "            cnt0.update { it -> it-1 }.also { println(\"cnt0--\") }\n",
    "            delay(150) // 다음에는 이걸 200으로, 그리고 \n",
    "            chan1.send( hand0.removeLast() )\n",
    "            cnt1.update { it -> it+1 }.also { println(\"cnt1++\") }\n",
    "        }\n",
    "    }\n",
    "    \n",
    "    launch { // player 1\n",
    "        for (i in 0..9) {\n",
    "            hand1.addFirst( chan1.receive() )\n",
    "            cnt1.update { it -> it-1 }.also { println(\"cnt1--\") }\n",
    "            delay(200) // 반대로 이걸 150으로 바꿔서 실습해 보라\n",
    "            chan0.send( hand1.removeLast() )\n",
    "            cnt0.update { it -> it+1 }.also { println(\"cnt0++\") }\n",
    "            println(\"cnt0++\")\n",
    "        }\n",
    "    }\n",
    "    \n",
    "    for (i in 0..25) { // 일정 시간 간격으로 각 채널에 들어있는 데이터 개수를 출력\n",
    "        delay(100)\n",
    "        println(\"cnt0: ${cnt0.value}, cnt1:${cnt1.value}\")\n",
    "    }\n",
    "\n",
    "    println(\"Done!\")\n",
    "}"
   ]
  },
  {
   "cell_type": "code",
   "execution_count": 8,
   "id": "a4dd69de-e207-41d1-b283-b9b4eceb8e91",
   "metadata": {},
   "outputs": [
    {
     "data": {
      "text/html": [
       "z"
      ]
     },
     "metadata": {},
     "output_type": "display_data"
    },
    {
     "data": {
      "text/html": [
       "Z"
      ]
     },
     "metadata": {},
     "output_type": "display_data"
    }
   ],
   "source": [
    "DISPLAY( HTML(\"hello0\").withId(\"player0\") )\n",
    "DISPLAY( HTML(\"hello1\").withId(\"player1\") )"
   ]
  },
  {
   "cell_type": "code",
   "execution_count": 9,
   "id": "d6923c90-cdb9-4e40-a7cc-940379ba93a9",
   "metadata": {},
   "outputs": [
    {
     "name": "stdout",
     "output_type": "stream",
     "text": [
      "Done!\n"
     ]
    }
   ],
   "source": [
    "import kotlinx.coroutines.*\n",
    "/*\n",
    "val d0 = CGameDeck(..)\n",
    "val d1 = CGameDeck(..)\n",
    "val p0 = CCPlayer(..)\n",
    "val p1 = CCPlayer(..)\n",
    "*/\n",
    "runBlocking {\n",
    "    launch {\n",
    "        for (x in 'a'..'z') {\n",
    "            // p0.draw(d0)\n",
    "            // delay(200)\n",
    "            // UPDATE_DISPLAY( HTML(x.toString()), \"player0\")\n",
    "            // p0.put(d1)\n",
    "            delay(200)\n",
    "            UPDATE_DISPLAY( HTML(x.toString()), \"player0\")\n",
    "        }\n",
    "    }\n",
    "\n",
    "    launch {\n",
    "        for (x in 'A'..'Z') {\n",
    "            // p1.draw(d1)\n",
    "            // delay(200)\n",
    "            // UPDATE_DISPLAY( HTML(x.toString()), \"player1\")\n",
    "            // p1.put(d0)\n",
    "            delay(150)\n",
    "            UPDATE_DISPLAY( HTML(x.toString()), \"player1\")\n",
    "        }\n",
    "    }\n",
    "    \n",
    "    // 메인 작업이 바로 게임 마스터\n",
    "    delay(5000)\n",
    "    println(\"Done!\")\n",
    "}"
   ]
  },
  {
   "cell_type": "code",
   "execution_count": null,
   "id": "938b930a-aabe-49cd-97e7-d67bc2986a7a",
   "metadata": {},
   "outputs": [],
   "source": []
  }
 ],
 "metadata": {
  "kernelspec": {
   "display_name": "Kotlin",
   "language": "kotlin",
   "name": "kotlin"
  },
  "language_info": {
   "codemirror_mode": "text/x-kotlin",
   "file_extension": ".kt",
   "mimetype": "text/x-kotlin",
   "name": "kotlin",
   "nbconvert_exporter": "",
   "pygments_lexer": "kotlin",
   "version": "1.6.20-dev-6372"
  }
 },
 "nbformat": 4,
 "nbformat_minor": 5
}
