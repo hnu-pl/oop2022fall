{
 "cells": [
  {
   "cell_type": "code",
   "execution_count": 1,
   "id": "1aca70e3-f25a-478b-922b-b5d77b0b3344",
   "metadata": {},
   "outputs": [],
   "source": [
    "@file:DependsOn(\"org.jetbrains.kotlinx:kotlinx-coroutines-core:1.6.4\")"
   ]
  },
  {
   "cell_type": "code",
   "execution_count": 2,
   "id": "9d9fe1f9-462f-48b3-b198-d080ae80e1f8",
   "metadata": {},
   "outputs": [
    {
     "name": "stdout",
     "output_type": "stream",
     "text": [
      "2\n",
      "1\n",
      "4\n",
      "6\n",
      "3\n",
      "8\n",
      "sending even number done\n",
      "10\n",
      "5\n",
      "7\n",
      "sending odd number done\n",
      "9\n",
      "Done!\n"
     ]
    }
   ],
   "source": [
    "import kotlinx.coroutines.*\n",
    "import kotlinx.coroutines.channels.*\n",
    "\n",
    "runBlocking {\n",
    "    val channel = Channel<Int>()\n",
    "    val controlChannel = Channel<Int>()\n",
    "    launch { // this might be heavy CPU-consuming computation or async logic, we'll just send five squares\n",
    "        for (x in 1..5) { delay(400); channel.send(2 * x); }\n",
    "        controlChannel.send(0) // 감독관한테 나 일 다했어\n",
    "        println(\"sending even number done\")\n",
    "    }\n",
    "    launch { // this might be heavy CPU-consuming computation or async logic, we'll just send five squares\n",
    "        for (x in 1..5) { delay(800); channel.send(2 * x - 1) }\n",
    "        channel.close()\n",
    "        controlChannel.send(1) // 감독관한테 나 일 다했어\n",
    "        println(\"sending odd number done\")\n",
    "    }\n",
    "    launch { // 감독관 작업?\n",
    "        controlChannel.receive()\n",
    "        controlChannel.receive()\n",
    "        channel.close()\n",
    "        controlChannel.close()\n",
    "    }\n",
    "    // here we print five received integers:\n",
    "    for(x in 1..10) { println(channel.receive()) }\n",
    "    println(\"Done!\")\n",
    "}"
   ]
  },
  {
   "cell_type": "code",
   "execution_count": 3,
   "id": "f065eefc-7f7b-46ac-bcff-d3f89cc6b28c",
   "metadata": {},
   "outputs": [
    {
     "name": "stdout",
     "output_type": "stream",
     "text": [
      "1\n",
      "2\n",
      "3\n",
      "4\n",
      "5\n",
      "6\n",
      "7\n",
      "8\n",
      "9\n",
      "10\n",
      "Done!\n"
     ]
    }
   ],
   "source": [
    "import kotlinx.coroutines.*\n",
    "import kotlinx.coroutines.channels.*\n",
    "\n",
    "runBlocking {\n",
    "    val channel = Channel<Int>()\n",
    "    \n",
    "    launch {\n",
    "        // this might be heavy CPU-consuming computation or async logic, we'll just send five squares\n",
    "        for (x in 1..10) { delay(400); channel.send(x) }\n",
    "        channel.close();\n",
    "    }\n",
    "    \n",
    "    // here we print five received integers:\n",
    "    for (x in channel) { println(x) }\n",
    "    // for(x in 1..5) { println(channel.receive()) }\n",
    "    println(\"Done!\")\n",
    "}"
   ]
  },
  {
   "cell_type": "code",
   "execution_count": 4,
   "id": "8ede1862-e8ee-4ddb-9292-a2855c3d273f",
   "metadata": {},
   "outputs": [
    {
     "name": "stdout",
     "output_type": "stream",
     "text": [
      "1\n",
      "2\n",
      "3\n",
      "4\n",
      "5\n",
      "6\n",
      "7\n",
      "8\n",
      "9\n",
      "10\n",
      "Done!\n"
     ]
    }
   ],
   "source": [
    "import kotlinx.coroutines.*\n",
    "import kotlinx.coroutines.channels.*\n",
    "\n",
    "val channel = Channel<Int>()\n",
    "\n",
    "runBlocking {\n",
    "    \n",
    "    launch {\n",
    "        // this might be heavy CPU-consuming computation or async logic, we'll just send five squares\n",
    "        for (x in 1..10) { channel.send(x) }\n",
    "        channel.close();\n",
    "    }\n",
    "    \n",
    "    // here we print five received integers:\n",
    "    for (x in channel) { delay(400); println(x) }\n",
    "    println(\"Done!\")\n",
    "}"
   ]
  },
  {
   "cell_type": "code",
   "execution_count": 5,
   "id": "eca7c01a-b43a-494e-8100-1ff0e7a425f9",
   "metadata": {},
   "outputs": [
    {
     "name": "stdout",
     "output_type": "stream",
     "text": [
      "count 1\n",
      "count 2\n",
      "count 3\n",
      "count 4\n",
      "count 5\n",
      "count 6\n",
      "count 7\n",
      "count 8\n",
      "count 9\n",
      "count 10\n",
      "received 1, channel has 9 items\n",
      "received 2, channel has 8 items\n",
      "received 3, channel has 7 items\n",
      "received 4, channel has 6 items\n",
      "received 5, channel has 5 items\n",
      "received 6, channel has 4 items\n",
      "received 7, channel has 3 items\n",
      "received 8, channel has 2 items\n",
      "received 9, channel has 1 items\n",
      "received 10, channel has 0 items\n",
      "Done!\n"
     ]
    }
   ],
   "source": [
    "import kotlinx.coroutines.*\n",
    "import kotlinx.coroutines.channels.*\n",
    "import kotlinx.coroutines.flow.*\n",
    "\n",
    "// 채널 안에 메모리가 허락하는 한 무한정의 버퍼를 두어 데이터를 많이 쌓아둘 수 있음 \n",
    "val channel = Channel<Int>( Channel.UNLIMITED )\n",
    "val count = MutableStateFlow<Int>(0) // multi-thread safe한 카운터를 용도\n",
    "\n",
    "runBlocking {\n",
    "    \n",
    "    launch {\n",
    "        // this might be heavy CPU-consuming computation or async logic, we'll just send five squares\n",
    "        for (x in 1..10) {\n",
    "            // delay(100); // 주석을 처리했다 풀었다, 그리고 50 으로도 해보라\n",
    "            channel.send(x)\n",
    "            count.update{it -> it+1}\n",
    "            println(\"count ${count.value}\")\n",
    "        }\n",
    "        channel.close();\n",
    "    }\n",
    "    \n",
    "    // here we print five received integers:\n",
    "    for (x in channel) {\n",
    "        /// delay(100); // 주석을 처리했다 풀었다, 그리고 50 으로도 해보라\n",
    "        count.update{it -> it-1}\n",
    "        println(\"received ${x}, channel has ${count.value} items\")\n",
    "    }\n",
    "    // for(x in 1..5) { println(channel.receive()) }\n",
    "    println(\"Done!\")\n",
    "}"
   ]
  },
  {
   "cell_type": "code",
   "execution_count": null,
   "id": "09b198f3-a155-43d3-b8d9-74782e9f64a4",
   "metadata": {},
   "outputs": [],
   "source": []
  },
  {
   "cell_type": "code",
   "execution_count": null,
   "id": "d6923c90-cdb9-4e40-a7cc-940379ba93a9",
   "metadata": {},
   "outputs": [],
   "source": []
  },
  {
   "cell_type": "code",
   "execution_count": null,
   "id": "938b930a-aabe-49cd-97e7-d67bc2986a7a",
   "metadata": {},
   "outputs": [],
   "source": []
  }
 ],
 "metadata": {
  "kernelspec": {
   "display_name": "Kotlin",
   "language": "kotlin",
   "name": "kotlin"
  },
  "language_info": {
   "codemirror_mode": "text/x-kotlin",
   "file_extension": ".kt",
   "mimetype": "text/x-kotlin",
   "name": "kotlin",
   "nbconvert_exporter": "",
   "pygments_lexer": "kotlin",
   "version": "1.6.20-dev-6372"
  }
 },
 "nbformat": 4,
 "nbformat_minor": 5
}
