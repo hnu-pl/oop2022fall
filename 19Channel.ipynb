{
 "cells": [
  {
   "cell_type": "code",
   "execution_count": 1,
   "id": "1aca70e3-f25a-478b-922b-b5d77b0b3344",
   "metadata": {},
   "outputs": [],
   "source": [
    "@file:DependsOn(\"org.jetbrains.kotlinx:kotlinx-coroutines-core:1.6.4\")"
   ]
  },
  {
   "cell_type": "code",
   "execution_count": 9,
   "id": "9d9fe1f9-462f-48b3-b198-d080ae80e1f8",
   "metadata": {},
   "outputs": [
    {
     "name": "stdout",
     "output_type": "stream",
     "text": [
      "2\n",
      "1\n",
      "4\n",
      "6\n",
      "3\n",
      "8\n",
      "sending even number done\n",
      "10\n",
      "5\n",
      "7\n",
      "sending odd number done\n",
      "9\n",
      "Done!\n"
     ]
    }
   ],
   "source": [
    "import kotlinx.coroutines.*\n",
    "import kotlinx.coroutines.channels.*\n",
    "\n",
    "runBlocking {\n",
    "    val channel = Channel<Int>()\n",
    "    val controlChannel = Channel<Int>()\n",
    "    launch { // this might be heavy CPU-consuming computation or async logic, we'll just send five squares\n",
    "        for (x in 1..5) { delay(400); channel.send(2 * x); }\n",
    "        controlChannel.send(0) // 감독관한테 나 일 다했어\n",
    "        println(\"sending even number done\")\n",
    "    }\n",
    "    launch { // this might be heavy CPU-consuming computation or async logic, we'll just send five squares\n",
    "        for (x in 1..5) { delay(800); channel.send(2 * x - 1) }\n",
    "        channel.close()\n",
    "        controlChannel.send(1) // 감독관한테 나 일 다했어\n",
    "        println(\"sending odd number done\")\n",
    "    }\n",
    "    launch { // 감독관 작업?\n",
    "        controlChannel.receive()\n",
    "        controlChannel.receive()\n",
    "        channel.close()\n",
    "        controlChannel.close()\n",
    "    }\n",
    "    // here we print five received integers:\n",
    "    for(x in 1..10) { println(channel.receive()) }\n",
    "    println(\"Done!\")\n",
    "}"
   ]
  },
  {
   "cell_type": "code",
   "execution_count": 6,
   "id": "f065eefc-7f7b-46ac-bcff-d3f89cc6b28c",
   "metadata": {},
   "outputs": [
    {
     "name": "stdout",
     "output_type": "stream",
     "text": [
      "1\n",
      "2\n",
      "3\n",
      "4\n",
      "5\n",
      "6\n",
      "7\n",
      "8\n",
      "9\n",
      "10\n",
      "Done!\n"
     ]
    }
   ],
   "source": [
    "import kotlinx.coroutines.*\n",
    "import kotlinx.coroutines.channels.*\n",
    "\n",
    "runBlocking {\n",
    "    val channel = Channel<Int>()\n",
    "    \n",
    "    launch {\n",
    "        // this might be heavy CPU-consuming computation or async logic, we'll just send five squares\n",
    "        for (x in 1..10) { delay(400); channel.send(x) }\n",
    "        channel.close();\n",
    "    }\n",
    "    \n",
    "    // here we print five received integers:\n",
    "    for (x in channel) { println(x) }\n",
    "    // for(x in 1..5) { println(channel.receive()) }\n",
    "    println(\"Done!\")\n",
    "}"
   ]
  },
  {
   "cell_type": "code",
   "execution_count": null,
   "id": "8ede1862-e8ee-4ddb-9292-a2855c3d273f",
   "metadata": {},
   "outputs": [],
   "source": []
  }
 ],
 "metadata": {
  "kernelspec": {
   "display_name": "Kotlin",
   "language": "kotlin",
   "name": "kotlin"
  },
  "language_info": {
   "codemirror_mode": "text/x-kotlin",
   "file_extension": ".kt",
   "mimetype": "text/x-kotlin",
   "name": "kotlin",
   "nbconvert_exporter": "",
   "pygments_lexer": "kotlin",
   "version": "1.6.20-dev-6372"
  }
 },
 "nbformat": 4,
 "nbformat_minor": 5
}
