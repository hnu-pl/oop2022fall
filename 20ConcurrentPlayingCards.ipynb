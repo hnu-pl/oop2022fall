{
 "cells": [
  {
   "cell_type": "markdown",
   "metadata": {
    "datalore": {
     "hide_input_from_viewers": false,
     "hide_output_from_viewers": false,
     "node_id": "Q9CxweMun5a0XbsUBZrDlS",
     "report_properties": {},
     "type": "MD"
    }
   },
   "source": [
    "# Concurrent Playing Cards\n",
    "Channel과 MutableStateFlow를 활용해 덱의 기능을 구현하면\n",
    "동시에 여러 플레이어가 정신없이 카드를 하나 가져와 하나 버리는 것을 시뮬레이션할 수 있다!"
   ]
  },
  {
   "cell_type": "code",
   "execution_count": 1,
   "metadata": {
    "datalore": {
     "hide_input_from_viewers": false,
     "hide_output_from_viewers": false,
     "node_id": "mmYzBeSDttiKvvKH3ysclM",
     "report_properties": {},
     "type": "CODE"
    }
   },
   "outputs": [],
   "source": [
    "enum class Symbol { SPADE, HEART, DIA, CLUB; } // 모양\n",
    "\n",
    "enum class Card(val face: String, val back: String = \"🂠\") { // 카드의 종류\n",
    "    SA(\"🂡\"),S2(\"🂢\"),S3(\"🂣\"),S4(\"🂤\"),S5(\"🂥\"),S6(\"🂦\"),\n",
    "    S7(\"🂧\"),S8(\"🂨\"),S9(\"🂩\"),S0(\"🂪\"),SJ(\"🂫\"),SQ(\"🂭\"),SK(\"🂮\"),\n",
    "    HA(\"🂱\"),H2(\"🂲\"),H3(\"🂳\"),H4(\"🂴\"),H5(\"🂵\"),H6(\"🂶\"),\n",
    "    H7(\"🂷\"),H8(\"🂸\"),H9(\"🂹\"),H0(\"🂺\"),HJ(\"🂻\"),HQ(\"🂽\"),HK(\"🂾\"),\n",
    "    DA(\"🃁\"),D2(\"🃂\"),D3(\"🃃\"),D4(\"🃄\"),D5(\"🃅\"),D6(\"🃆\"),\n",
    "    D7(\"🃇\"),D8(\"🃈\"),D9(\"🃉\"),D0(\"🃊\"),DJ(\"🃋\"),DQ(\"🃍\"),DK(\"🃎\"),\n",
    "    CA(\"🃑\"),C2(\"🃒\"),C3(\"🃓\"),C4(\"🃔\"),C5(\"🃕\"),C6(\"🃖\"),\n",
    "    C7(\"🃗\"),C8(\"🃘\"),C9(\"🃙\"),C0(\"🃚\"),CJ(\"🃛\"),CQ(\"🃝\"),CK(\"🃞\");\n",
    "    \n",
    "    fun symbol() = when(this) {\n",
    "        in SA..SK -> Symbol.SPADE\n",
    "        in HA..HK -> Symbol.HEART\n",
    "        in DA..DK -> Symbol.DIA\n",
    "        else      -> Symbol.CLUB // 나머지 경우는 \n",
    "    }\n",
    "    \n",
    "    fun color() = when(symbol()) {\n",
    "        Symbol.SPADE -> \"black\"\n",
    "        Symbol.HEART -> \"red\"\n",
    "        Symbol.DIA   -> \"red\"\n",
    "        Symbol.CLUB  -> \"black\"\n",
    "    }\n",
    "    \n",
    "    fun rank() = this.ordinal % 13 + 1 // A가 1, 숫자는 숫자값, J,Q,K는 11,12,13\n",
    "}"
   ]
  },
  {
   "cell_type": "code",
   "execution_count": 2,
   "metadata": {
    "datalore": {
     "hide_input_from_viewers": false,
     "hide_output_from_viewers": false,
     "node_id": "3jDt4ATfeQ1pPDCu2tdPG3",
     "report_properties": {},
     "type": "CODE"
    }
   },
   "outputs": [],
   "source": [
    "data class CardItem(val card: Card, var up: Boolean = false) { // 카드 한장\n",
    "    fun symbol() = card.symbol()\n",
    "    fun color() = card.color()\n",
    "    fun rank() = card.rank()\n",
    "    fun show() = if(up) card.face else card.back\n",
    "}"
   ]
  },
  {
   "cell_type": "code",
   "execution_count": 3,
   "metadata": {},
   "outputs": [],
   "source": [
    "object MyUtil {\n",
    "    fun readLn(): String {\n",
    "        try {\n",
    "            return readln()\n",
    "        } catch (e: Exception) {\n",
    "            val msg = e.message\n",
    "            if (msg != null) {\n",
    "                val curr = msg.split('\\n').last()\n",
    "                val prefix = \"Current input: {\\\"status\\\":\\\"ok\\\",\\\"value\\\":\"\n",
    "                if ( curr.startsWith(prefix) ) {\n",
    "                    return curr.drop( prefix.length + 1 ).dropLast(1 + 1)\n",
    "                }\n",
    "            }\n",
    "            throw e\n",
    "        }\n",
    "    }\n",
    "    fun readNonNegativeIntUntilSuccess(): Int {\n",
    "        do {\n",
    "             val z = this.readLn().toIntOrNull()\n",
    "             if (z != null && z >= 0) return z\n",
    "        } while (true)\n",
    "    }\n",
    "    val style = \"\"\"\n",
    "<style>\n",
    "@import url('https://fonts.googleapis.com/css2?family=Noto+Sans+Symbols+2&display=swap');\n",
    ".card {\n",
    "    display: inline-block; \n",
    "    font-size: 60pt; height: 62pt;\n",
    "    font-family: \"Noto Sans Symbols 2\", sans-serif;\n",
    "    background: rgba(255,255,255, 1) !important;\n",
    "}\n",
    ".deck { margin-right:-32pt; }\n",
    "</style>\n",
    "\"\"\"\n",
    "}"
   ]
  },
  {
   "cell_type": "code",
   "execution_count": 4,
   "metadata": {
    "datalore": {
     "hide_input_from_viewers": false,
     "hide_output_from_viewers": false,
     "node_id": "MDSjBgZvJZM4dPvW995YqG",
     "report_properties": {},
     "type": "CODE"
    }
   },
   "outputs": [
    {
     "data": {
      "text/html": [
       "\n",
       "<style>\n",
       "@import url('https://fonts.googleapis.com/css2?family=Noto+Sans+Symbols+2&display=swap');\n",
       ".card {\n",
       "    display: inline-block; \n",
       "    font-size: 60pt; height: 62pt;\n",
       "    font-family: \"Noto Sans Symbols 2\", sans-serif;\n",
       "    background: rgba(255,255,255, 1) !important;\n",
       "}\n",
       ".deck { margin-right:-32pt; }\n",
       "</style>\n",
       "<span class='card deck'\n",
       "        style='color: red;'>🂲</span><span class='card deck'\n",
       "        style='color: black;'>🃔</span><span class='card deck'\n",
       "        style='color: red;'>🂹</span><span class='card deck'\n",
       "        style='color: red;'>🂺</span><span class='card deck'\n",
       "        style='color: black;'>🃗</span><span class='card deck'\n",
       "        style='color: black;'>🂪</span><span class='card deck'\n",
       "        style='color: red;'>🃅</span><span class='card deck'\n",
       "        style='color: black;'>🂫</span><span class='card deck'\n",
       "        style='color: red;'>🂳</span><span class='card deck'\n",
       "        style='color: black;'>🃓</span><span class='card deck'\n",
       "        style='color: black;'>🂤</span><span class='card deck'\n",
       "        style='color: red;'>🃊</span><span class='card deck'\n",
       "        style='color: red;'>🂸</span><span class='card deck'\n",
       "        style='color: red;'>🂷</span><span class='card deck'\n",
       "        style='color: red;'>🃎</span><span class='card deck'\n",
       "        style='color: red;'>🃄</span><span class='card deck'\n",
       "        style='color: black;'>🃛</span><span class='card deck'\n",
       "        style='color: black;'>🃙</span><span class='card deck'\n",
       "        style='color: red;'>🃋</span><span class='card deck'\n",
       "        style='color: red;'>🂶</span><span class='card deck'\n",
       "        style='color: black;'>🂦</span><span class='card deck'\n",
       "        style='color: red;'>🃉</span><span class='card deck'\n",
       "        style='color: red;'>🃆</span><span class='card deck'\n",
       "        style='color: red;'>🂽</span><span class='card deck'\n",
       "        style='color: red;'>🂻</span><span class='card deck'\n",
       "        style='color: black;'>🃘</span><span class='card deck'\n",
       "        style='color: black;'>🃝</span><span class='card deck'\n",
       "        style='color: black;'>🃕</span><span class='card deck'\n",
       "        style='color: black;'>🂭</span><span class='card deck'\n",
       "        style='color: red;'>🃂</span><span class='card deck'\n",
       "        style='color: black;'>🃚</span><span class='card deck'\n",
       "        style='color: black;'>🂥</span><span class='card deck'\n",
       "        style='color: black;'>🃖</span><span class='card deck'\n",
       "        style='color: red;'>🂵</span><span class='card deck'\n",
       "        style='color: black;'>🃒</span><span class='card deck'\n",
       "        style='color: black;'>🂣</span><span class='card deck'\n",
       "        style='color: black;'>🂩</span><span class='card deck'\n",
       "        style='color: black;'>🂧</span><span class='card deck'\n",
       "        style='color: red;'>🂾</span><span class='card deck'\n",
       "        style='color: red;'>🃁</span><span class='card deck'\n",
       "        style='color: black;'>🂮</span><span class='card deck'\n",
       "        style='color: red;'>🂴</span><span class='card deck'\n",
       "        style='color: black;'>🃑</span><span class='card deck'\n",
       "        style='color: red;'>🂱</span><span class='card deck'\n",
       "        style='color: black;'>🃞</span><span class='card deck'\n",
       "        style='color: red;'>🃇</span><span class='card deck'\n",
       "        style='color: red;'>🃍</span><span class='card deck'\n",
       "        style='color: red;'>🃃</span><span class='card deck'\n",
       "        style='color: red;'>🃈</span><span class='card deck'\n",
       "        style='color: black;'>🂢</span><span class='card deck'\n",
       "        style='color: black;'>🂨</span><span class='card deck'\n",
       "        style='color: black;'>🂡</span>"
      ]
     },
     "execution_count": 4,
     "metadata": {},
     "output_type": "execute_result"
    }
   ],
   "source": [
    "HTML(\n",
    "    Card.values().toList().shuffled()\n",
    "        .map { CardItem(it,true) }\n",
    "        .fold(MyUtil.style) { acc, c -> acc +\n",
    "\"\"\"<span class='card deck'\n",
    "        style='color: ${if (c.up) c.color() else \"black\"};'>${c.show()}</span>\"\"\"\n",
    "        }\n",
    ")"
   ]
  },
  {
   "cell_type": "code",
   "execution_count": 5,
   "metadata": {
    "datalore": {
     "hide_input_from_viewers": true,
     "hide_output_from_viewers": true,
     "node_id": "9uo2kDhjtwPyMpKTM1Ml04",
     "type": "CODE"
    }
   },
   "outputs": [],
   "source": [
    "interface Deck {\n",
    "    fun size(): Int\n",
    "    fun draw(): CardItem // 덱에서 카드를 뽑기\n",
    "    fun put(c: CardItem) // 덱에 카드 c를 놓기\n",
    "}\n",
    "\n",
    "interface Player {\n",
    "    val hand: MutableList<CardItem> // 이것도 가능!!\n",
    "    fun draw(d: Deck) // 덱 d로부터 카드 하나 뽑기\n",
    "    fun put(d: Deck)  // 카드 하나를 덱 d에 놓기\n",
    "}\n",
    "\n",
    "interface ToHTML {\n",
    "    fun toHTML(): String // 해당 객체를 표현하는 HTML 소스코드 문자열 생성\n",
    "}"
   ]
  },
  {
   "cell_type": "code",
   "execution_count": 6,
   "metadata": {},
   "outputs": [],
   "source": [
    "class GameDeck(val items: ArrayDeque<CardItem>) : Deck, ToHTML {\n",
    "    override public fun size() = items.size\n",
    "    override public fun draw() = items.removeLast()\n",
    "    override public fun put(c: CardItem) = items.addFirst(c).also { c.up = false }\n",
    "    override public fun toHTML() = items.fold(MyUtil.style) { acc, c -> acc +\n",
    "\"\"\"<span class='card deck'\n",
    "        style='color: ${if (c.up) c.color() else \"black\"};'>${c.show()}</span>\"\"\"\n",
    "        }\n",
    "}"
   ]
  },
  {
   "cell_type": "code",
   "execution_count": 7,
   "metadata": {},
   "outputs": [],
   "source": [
    "val d = GameDeck( ArrayDeque( listOf(Card.SA, Card.S2).map { CardItem(it) } ) )"
   ]
  },
  {
   "cell_type": "code",
   "execution_count": 8,
   "metadata": {},
   "outputs": [
    {
     "data": {
      "text/plain": [
       "2"
      ]
     },
     "execution_count": 8,
     "metadata": {},
     "output_type": "execute_result"
    }
   ],
   "source": [
    "d.size()"
   ]
  },
  {
   "cell_type": "code",
   "execution_count": 9,
   "metadata": {},
   "outputs": [
    {
     "data": {
      "text/html": [
       "\n",
       "<style>\n",
       "@import url('https://fonts.googleapis.com/css2?family=Noto+Sans+Symbols+2&display=swap');\n",
       ".card {\n",
       "    display: inline-block; \n",
       "    font-size: 60pt; height: 62pt;\n",
       "    font-family: \"Noto Sans Symbols 2\", sans-serif;\n",
       "    background: rgba(255,255,255, 1) !important;\n",
       "}\n",
       ".deck { margin-right:-32pt; }\n",
       "</style>\n",
       "<span class='card deck'\n",
       "        style='color: black;'>🂠</span><span class='card deck'\n",
       "        style='color: black;'>🂠</span>"
      ]
     },
     "execution_count": 9,
     "metadata": {},
     "output_type": "execute_result"
    }
   ],
   "source": [
    "HTML(d.toHTML())"
   ]
  },
  {
   "cell_type": "code",
   "execution_count": 10,
   "metadata": {},
   "outputs": [
    {
     "name": "stdout",
     "output_type": "stream",
     "text": [
      "3\n"
     ]
    },
    {
     "data": {
      "text/html": [
       "\n",
       "<style>\n",
       "@import url('https://fonts.googleapis.com/css2?family=Noto+Sans+Symbols+2&display=swap');\n",
       ".card {\n",
       "    display: inline-block; \n",
       "    font-size: 60pt; height: 62pt;\n",
       "    font-family: \"Noto Sans Symbols 2\", sans-serif;\n",
       "    background: rgba(255,255,255, 1) !important;\n",
       "}\n",
       ".deck { margin-right:-32pt; }\n",
       "</style>\n",
       "<span class='card deck'\n",
       "        style='color: black;'>🂠</span><span class='card deck'\n",
       "        style='color: black;'>🂠</span><span class='card deck'\n",
       "        style='color: black;'>🂠</span>"
      ]
     },
     "execution_count": 10,
     "metadata": {},
     "output_type": "execute_result"
    }
   ],
   "source": [
    "d.put( CardItem(Card.S3) )\n",
    "println(d.size())\n",
    "HTML(d.toHTML())"
   ]
  },
  {
   "cell_type": "code",
   "execution_count": 11,
   "metadata": {},
   "outputs": [
    {
     "data": {
      "text/html": [
       "\n",
       "<style>\n",
       "@import url('https://fonts.googleapis.com/css2?family=Noto+Sans+Symbols+2&display=swap');\n",
       ".card {\n",
       "    display: inline-block; \n",
       "    font-size: 60pt; height: 62pt;\n",
       "    font-family: \"Noto Sans Symbols 2\", sans-serif;\n",
       "    background: rgba(255,255,255, 1) !important;\n",
       "}\n",
       ".deck { margin-right:-32pt; }\n",
       "</style>\n",
       "<span class='card deck'\n",
       "        style='color: black;'>🂠</span><span class='card deck'\n",
       "        style='color: black;'>🂠</span>"
      ]
     },
     "execution_count": 11,
     "metadata": {},
     "output_type": "execute_result"
    }
   ],
   "source": [
    "val c2 = d.draw()\n",
    "HTML(d.toHTML())"
   ]
  },
  {
   "cell_type": "code",
   "execution_count": 12,
   "metadata": {},
   "outputs": [
    {
     "data": {
      "text/plain": [
       "CardItem(card=S2, up=false)"
      ]
     },
     "execution_count": 12,
     "metadata": {},
     "output_type": "execute_result"
    }
   ],
   "source": [
    "c2"
   ]
  },
  {
   "cell_type": "code",
   "execution_count": 13,
   "metadata": {},
   "outputs": [],
   "source": [
    "class ComputerPlayer : Player, ToHTML {\n",
    "    override val hand: MutableList<CardItem> = mutableListOf()\n",
    "    override fun draw(d: Deck) {\n",
    "        val c = d.draw()\n",
    "        c.up = false\n",
    "        hand.add( c )\n",
    "    }\n",
    "    override fun put(d: Deck) = d.put( hand.removeAt(0) )\n",
    "    override public fun toHTML() = hand.fold(MyUtil.style) { acc, c -> acc +\n",
    "\"\"\"<span class='card'\n",
    "        style='color: ${if (c.up) c.color() else \"black\"};'>${c.show()}</span>\"\"\"\n",
    "        }\n",
    "}"
   ]
  },
  {
   "cell_type": "code",
   "execution_count": 14,
   "metadata": {},
   "outputs": [],
   "source": [
    "val cp = ComputerPlayer()\n",
    "cp.draw(d)"
   ]
  },
  {
   "cell_type": "code",
   "execution_count": 15,
   "metadata": {},
   "outputs": [
    {
     "data": {
      "text/html": [
       "\n",
       "<style>\n",
       "@import url('https://fonts.googleapis.com/css2?family=Noto+Sans+Symbols+2&display=swap');\n",
       ".card {\n",
       "    display: inline-block; \n",
       "    font-size: 60pt; height: 62pt;\n",
       "    font-family: \"Noto Sans Symbols 2\", sans-serif;\n",
       "    background: rgba(255,255,255, 1) !important;\n",
       "}\n",
       ".deck { margin-right:-32pt; }\n",
       "</style>\n",
       "<span class='card deck'\n",
       "        style='color: black;'>🂠</span>"
      ]
     },
     "execution_count": 15,
     "metadata": {},
     "output_type": "execute_result"
    }
   ],
   "source": [
    "HTML( d.toHTML() )"
   ]
  },
  {
   "cell_type": "code",
   "execution_count": 16,
   "metadata": {},
   "outputs": [
    {
     "data": {
      "text/html": [
       "\n",
       "<style>\n",
       "@import url('https://fonts.googleapis.com/css2?family=Noto+Sans+Symbols+2&display=swap');\n",
       ".card {\n",
       "    display: inline-block; \n",
       "    font-size: 60pt; height: 62pt;\n",
       "    font-family: \"Noto Sans Symbols 2\", sans-serif;\n",
       "    background: rgba(255,255,255, 1) !important;\n",
       "}\n",
       ".deck { margin-right:-32pt; }\n",
       "</style>\n",
       "<span class='card'\n",
       "        style='color: black;'>🂠</span>"
      ]
     },
     "execution_count": 16,
     "metadata": {},
     "output_type": "execute_result"
    }
   ],
   "source": [
    "HTML( cp.toHTML() )"
   ]
  },
  {
   "cell_type": "code",
   "execution_count": 17,
   "metadata": {},
   "outputs": [],
   "source": [
    "cp.draw(d)"
   ]
  },
  {
   "cell_type": "code",
   "execution_count": 18,
   "metadata": {},
   "outputs": [
    {
     "data": {
      "text/html": [
       "\n",
       "<style>\n",
       "@import url('https://fonts.googleapis.com/css2?family=Noto+Sans+Symbols+2&display=swap');\n",
       ".card {\n",
       "    display: inline-block; \n",
       "    font-size: 60pt; height: 62pt;\n",
       "    font-family: \"Noto Sans Symbols 2\", sans-serif;\n",
       "    background: rgba(255,255,255, 1) !important;\n",
       "}\n",
       ".deck { margin-right:-32pt; }\n",
       "</style>\n"
      ]
     },
     "execution_count": 18,
     "metadata": {},
     "output_type": "execute_result"
    }
   ],
   "source": [
    "HTML( d.toHTML() )"
   ]
  },
  {
   "cell_type": "code",
   "execution_count": 19,
   "metadata": {},
   "outputs": [
    {
     "data": {
      "text/html": [
       "\n",
       "<style>\n",
       "@import url('https://fonts.googleapis.com/css2?family=Noto+Sans+Symbols+2&display=swap');\n",
       ".card {\n",
       "    display: inline-block; \n",
       "    font-size: 60pt; height: 62pt;\n",
       "    font-family: \"Noto Sans Symbols 2\", sans-serif;\n",
       "    background: rgba(255,255,255, 1) !important;\n",
       "}\n",
       ".deck { margin-right:-32pt; }\n",
       "</style>\n",
       "<span class='card'\n",
       "        style='color: black;'>🂠</span><span class='card'\n",
       "        style='color: black;'>🂠</span>"
      ]
     },
     "execution_count": 19,
     "metadata": {},
     "output_type": "execute_result"
    }
   ],
   "source": [
    "HTML( cp.toHTML() )"
   ]
  },
  {
   "cell_type": "code",
   "execution_count": 20,
   "metadata": {},
   "outputs": [],
   "source": [
    "class HumanPlayer : Player, ToHTML {\n",
    "    override val hand: MutableList<CardItem> = mutableListOf()\n",
    "    override fun draw(d: Deck) {\n",
    "        val c = d.draw()\n",
    "        c.up = true\n",
    "        hand.add( c )\n",
    "    }\n",
    "    override fun put(d: Deck)  {\n",
    "        val i = MyUtil.readNonNegativeIntUntilSuccess()\n",
    "        if (i in 0 .. hand.size-1) {\n",
    "            d.put( hand.removeAt(i) )\n",
    "        } else {\n",
    "            println(\"잘못된 범위를 입력했으므로 첫번째 카드(index 0)를 버리겠습니다!\")\n",
    "            d.put( hand.removeAt(0) )\n",
    "        }\n",
    "    }\n",
    "    override public fun toHTML() = hand.fold(MyUtil.style) { acc, c -> acc +\n",
    "\"\"\"<span class='card'\n",
    "        style='color: ${if (c.up) c.color() else \"black\"};'>${c.show()}</span>\"\"\"\n",
    "        }\n",
    "}"
   ]
  },
  {
   "cell_type": "code",
   "execution_count": 21,
   "metadata": {},
   "outputs": [],
   "source": [
    "val d1 = GameDeck( ArrayDeque( listOf(Card.SA, Card.S2).map { CardItem(it) } ) )"
   ]
  },
  {
   "cell_type": "code",
   "execution_count": 22,
   "metadata": {},
   "outputs": [
    {
     "data": {
      "text/html": [
       "\n",
       "<style>\n",
       "@import url('https://fonts.googleapis.com/css2?family=Noto+Sans+Symbols+2&display=swap');\n",
       ".card {\n",
       "    display: inline-block; \n",
       "    font-size: 60pt; height: 62pt;\n",
       "    font-family: \"Noto Sans Symbols 2\", sans-serif;\n",
       "    background: rgba(255,255,255, 1) !important;\n",
       "}\n",
       ".deck { margin-right:-32pt; }\n",
       "</style>\n",
       "<span class='card deck'\n",
       "        style='color: black;'>🂠</span><span class='card deck'\n",
       "        style='color: black;'>🂠</span>"
      ]
     },
     "execution_count": 22,
     "metadata": {},
     "output_type": "execute_result"
    }
   ],
   "source": [
    "HTML( d1.toHTML() )"
   ]
  },
  {
   "cell_type": "code",
   "execution_count": 23,
   "metadata": {},
   "outputs": [],
   "source": [
    "val hp = HumanPlayer()"
   ]
  },
  {
   "cell_type": "code",
   "execution_count": 24,
   "metadata": {},
   "outputs": [],
   "source": [
    "hp.draw(d1)"
   ]
  },
  {
   "cell_type": "code",
   "execution_count": 25,
   "metadata": {},
   "outputs": [
    {
     "data": {
      "text/html": [
       "\n",
       "<style>\n",
       "@import url('https://fonts.googleapis.com/css2?family=Noto+Sans+Symbols+2&display=swap');\n",
       ".card {\n",
       "    display: inline-block; \n",
       "    font-size: 60pt; height: 62pt;\n",
       "    font-family: \"Noto Sans Symbols 2\", sans-serif;\n",
       "    background: rgba(255,255,255, 1) !important;\n",
       "}\n",
       ".deck { margin-right:-32pt; }\n",
       "</style>\n",
       "<span class='card deck'\n",
       "        style='color: black;'>🂠</span>"
      ]
     },
     "execution_count": 25,
     "metadata": {},
     "output_type": "execute_result"
    }
   ],
   "source": [
    "HTML( d1.toHTML() )"
   ]
  },
  {
   "cell_type": "code",
   "execution_count": 26,
   "metadata": {},
   "outputs": [
    {
     "data": {
      "text/html": [
       "\n",
       "<style>\n",
       "@import url('https://fonts.googleapis.com/css2?family=Noto+Sans+Symbols+2&display=swap');\n",
       ".card {\n",
       "    display: inline-block; \n",
       "    font-size: 60pt; height: 62pt;\n",
       "    font-family: \"Noto Sans Symbols 2\", sans-serif;\n",
       "    background: rgba(255,255,255, 1) !important;\n",
       "}\n",
       ".deck { margin-right:-32pt; }\n",
       "</style>\n",
       "<span class='card'\n",
       "        style='color: black;'>🂢</span>"
      ]
     },
     "execution_count": 26,
     "metadata": {},
     "output_type": "execute_result"
    }
   ],
   "source": [
    "HTML( hp.toHTML() )"
   ]
  },
  {
   "cell_type": "code",
   "execution_count": 27,
   "metadata": {},
   "outputs": [],
   "source": [
    "hp.draw(d1)"
   ]
  },
  {
   "cell_type": "code",
   "execution_count": 28,
   "metadata": {},
   "outputs": [
    {
     "data": {
      "text/html": [
       "\n",
       "<style>\n",
       "@import url('https://fonts.googleapis.com/css2?family=Noto+Sans+Symbols+2&display=swap');\n",
       ".card {\n",
       "    display: inline-block; \n",
       "    font-size: 60pt; height: 62pt;\n",
       "    font-family: \"Noto Sans Symbols 2\", sans-serif;\n",
       "    background: rgba(255,255,255, 1) !important;\n",
       "}\n",
       ".deck { margin-right:-32pt; }\n",
       "</style>\n"
      ]
     },
     "execution_count": 28,
     "metadata": {},
     "output_type": "execute_result"
    }
   ],
   "source": [
    "HTML( d1.toHTML() )"
   ]
  },
  {
   "cell_type": "code",
   "execution_count": 29,
   "metadata": {},
   "outputs": [
    {
     "data": {
      "text/html": [
       "\n",
       "<style>\n",
       "@import url('https://fonts.googleapis.com/css2?family=Noto+Sans+Symbols+2&display=swap');\n",
       ".card {\n",
       "    display: inline-block; \n",
       "    font-size: 60pt; height: 62pt;\n",
       "    font-family: \"Noto Sans Symbols 2\", sans-serif;\n",
       "    background: rgba(255,255,255, 1) !important;\n",
       "}\n",
       ".deck { margin-right:-32pt; }\n",
       "</style>\n",
       "<span class='card'\n",
       "        style='color: black;'>🂢</span><span class='card'\n",
       "        style='color: black;'>🂡</span>"
      ]
     },
     "execution_count": 29,
     "metadata": {},
     "output_type": "execute_result"
    }
   ],
   "source": [
    "HTML( hp.toHTML() )"
   ]
  },
  {
   "cell_type": "code",
   "execution_count": 30,
   "metadata": {},
   "outputs": [
    {
     "name": "stdin",
     "output_type": "stream",
     "text": [
      "stdin: 0\n"
     ]
    }
   ],
   "source": [
    "hp.put(d1) // hp가 들고 있는 카드가 두 장이므로 0이나 1을 입력하라"
   ]
  },
  {
   "cell_type": "code",
   "execution_count": 31,
   "metadata": {},
   "outputs": [
    {
     "data": {
      "text/html": [
       "\n",
       "<style>\n",
       "@import url('https://fonts.googleapis.com/css2?family=Noto+Sans+Symbols+2&display=swap');\n",
       ".card {\n",
       "    display: inline-block; \n",
       "    font-size: 60pt; height: 62pt;\n",
       "    font-family: \"Noto Sans Symbols 2\", sans-serif;\n",
       "    background: rgba(255,255,255, 1) !important;\n",
       "}\n",
       ".deck { margin-right:-32pt; }\n",
       "</style>\n",
       "<span class='card deck'\n",
       "        style='color: black;'>🂠</span>"
      ]
     },
     "execution_count": 31,
     "metadata": {},
     "output_type": "execute_result"
    }
   ],
   "source": [
    "HTML( d1.toHTML() )"
   ]
  },
  {
   "cell_type": "code",
   "execution_count": 32,
   "metadata": {},
   "outputs": [
    {
     "data": {
      "text/html": [
       "\n",
       "<style>\n",
       "@import url('https://fonts.googleapis.com/css2?family=Noto+Sans+Symbols+2&display=swap');\n",
       ".card {\n",
       "    display: inline-block; \n",
       "    font-size: 60pt; height: 62pt;\n",
       "    font-family: \"Noto Sans Symbols 2\", sans-serif;\n",
       "    background: rgba(255,255,255, 1) !important;\n",
       "}\n",
       ".deck { margin-right:-32pt; }\n",
       "</style>\n",
       "<span class='card'\n",
       "        style='color: black;'>🂡</span>"
      ]
     },
     "execution_count": 32,
     "metadata": {},
     "output_type": "execute_result"
    }
   ],
   "source": [
    "HTML( hp.toHTML() )"
   ]
  },
  {
   "cell_type": "markdown",
   "metadata": {},
   "source": [
    "여기까지는 지난 과제 해설\n",
    "\n",
    "----"
   ]
  },
  {
   "cell_type": "markdown",
   "metadata": {},
   "source": [
    "기말과제 관련 내용은 여기서부터 ...\n",
    "\n",
    "## 기말과제\n",
    "- `CGameDeck` 클래스는 `CDeck`과 `ToHTML` 인터페이스를 구현\n",
    "  - `Channel`과 `MutableStateFlow`를 활용\n",
    "- `CCPlayer` 클래스는 `CPlayer`와 `ToHTML` 인터페이스를 구현\n",
    "  - 입력을 따로 받지 않고 알아서 어떤 카드를 버릴지 결정하는 점은 이전 과제에서의 computer player와 마찬가지\n",
    "  - 하지만 무조건 손에 든 첫번째 카드를 버리는 것이 아니라 4개의 같은 숫자 카드를 모으기에 유리한 간단한 방식으로 put을 작성할 것 (그래야 돌리면 게임이 적당한 시간 안에 끝날 가능성이 커짐)\n",
    "  - `Carditem`의 `up` 속성을 `true`로 하고 `toHTML`로 HTML 코드를 생성할 때도 카드 앞면이 드러나 보이도록 하라\n",
    "- 덱(`CGameDeck`) 3개와 플레이어(`CCPlayer`) 3명으로 구성된 게임을 시뮬레이션하라\n",
    "  - 처음 시작할 때는 하나의 덱에 52개의 전체 카드를 무작위 순서로 섞어서 모두 넣은 다음, 3명의 플레이어에게 각각 4장씩 draw 해주도록 게임을 초기화하라. 나머지 덱들은 물론 비어 있는 상태로 게임이 시작된다\n",
    "  - 각각의 플레이어의 동작을 별도의 코루틴으로 동시다발적으로 동작하게 하라\n",
    "  - 각 플레이어가 카드를 draw하거나 put할때마다 HTML 출력을 업데이트하라 (적절한 딜레이를 주어 눈으로 확인 가능한 정도의 속도로 진행되도록 하라)\n",
    "  - 각각의 덱들도 일정 시간 간격으로 HTML 출력을 업데이트하라 (채널 안에 CardItem 정보가 들어있어서 직접 접근은 불가하지만 채널 안에 보관된 카드 개수를 잘 추적하여 카드 개수만큼 뒷면이 보이는 모양으로 겹쳐지게 지난 번 과제처럼 출력하라) \n",
    "  - 게임을 잘 종료할 수 있는 방법을 생각하여 작성하라"
   ]
  },
  {
   "cell_type": "code",
   "execution_count": 37,
   "metadata": {},
   "outputs": [],
   "source": [
    "@file:DependsOn(\"org.jetbrains.kotlinx:kotlinx-coroutines-core:1.6.4\")\n",
    "import kotlinx.coroutines.*\n",
    "import kotlinx.coroutines.channels.*\n",
    "import kotlinx.coroutines.flow.*"
   ]
  },
  {
   "cell_type": "code",
   "execution_count": 38,
   "metadata": {},
   "outputs": [],
   "source": [
    "interface CDeck { // concurrent deck interface\n",
    "    fun size(): Int\n",
    "    suspend fun draw(): CardItem // 덱에서 카드를 뽑기\n",
    "    suspend fun put(c: CardItem) // 덱에 카드 c를 놓기\n",
    "}\n",
    "\n",
    "interface CPlayer { // concurrent player interface\n",
    "    val hand: MutableList<CardItem> // 이것도 가능!!\n",
    "    suspend fun draw(d: Deck) // 덱 d로부터 카드 하나 뽑기\n",
    "    suspend fun put(d: Deck)  // 카드 하나를 덱 d에 놓기\n",
    "}"
   ]
  },
  {
   "cell_type": "code",
   "execution_count": 39,
   "metadata": {},
   "outputs": [],
   "source": [
    "/*\n",
    "class CGameDeck(/* */) : CDeck, ToHTML {\n",
    "    // ...\n",
    "    // ...\n",
    "    override fun size() ...\n",
    "    override suspend fun draw(): CardItem // 덱에서 카드를 뽑기\n",
    "    override suspend fun put(c: CardItem) // 덱에 카드 c를 놓기\n",
    "    override fun toHTML() ...\n",
    "}\n",
    "*/"
   ]
  },
  {
   "cell_type": "code",
   "execution_count": 40,
   "metadata": {},
   "outputs": [],
   "source": [
    "/*\n",
    "class CCPlayer(/* */) : CPlayer, ToHTML { // concurrent \n",
    "    // ...\n",
    "    // override val hand ...\n",
    "    override fun size() ...\n",
    "    override suspend fun draw(): CardItem // 덱에서 카드를 뽑기\n",
    "    override suspend fun put(c: CardItem) // 덱에 카드 c를 놓기\n",
    "    override fun toHTML() ...\n",
    "}\n",
    "*/"
   ]
  },
  {
   "cell_type": "code",
   "execution_count": 41,
   "metadata": {},
   "outputs": [
    {
     "data": {
      "text/html": [
       "z"
      ]
     },
     "metadata": {},
     "output_type": "display_data"
    },
    {
     "data": {
      "text/html": [
       "Z"
      ]
     },
     "metadata": {},
     "output_type": "display_data"
    }
   ],
   "source": [
    "DISPLAY( HTML(\"hello0\").withId(\"player0\") )\n",
    "DISPLAY( HTML(\"hello1\").withId(\"player1\") )"
   ]
  },
  {
   "cell_type": "code",
   "execution_count": 42,
   "metadata": {},
   "outputs": [
    {
     "name": "stdout",
     "output_type": "stream",
     "text": [
      "Done!\n"
     ]
    }
   ],
   "source": [
    "import kotlinx.coroutines.*\n",
    "/*\n",
    "val d0 = CGameDeck(..)\n",
    "val d1 = CGameDeck(..)\n",
    "val p0 = CCPlayer(..)\n",
    "val p1 = CCPlayer(..)\n",
    "*/\n",
    "runBlocking {\n",
    "    launch {\n",
    "        for (x in 'a'..'z') {\n",
    "            // p0.draw(d0)\n",
    "            // delay(200)\n",
    "            // UPDATE_DISPLAY( HTML(x.toString()), \"player0\")\n",
    "            // p0.put(d1)\n",
    "            delay(200)\n",
    "            UPDATE_DISPLAY( HTML(x.toString()), \"player0\")\n",
    "        }\n",
    "    }\n",
    "\n",
    "    launch {\n",
    "        for (x in 'A'..'Z') {\n",
    "            // p1.draw(d1)\n",
    "            // delay(200)\n",
    "            // UPDATE_DISPLAY( HTML(x.toString()), \"player1\")\n",
    "            // p1.put(d0)\n",
    "            delay(150)\n",
    "            UPDATE_DISPLAY( HTML(x.toString()), \"player1\")\n",
    "        }\n",
    "    }\n",
    "    \n",
    "    // 메인 작업이 바로 게임 마스터\n",
    "    delay(5000)\n",
    "    println(\"Done!\")\n",
    "}"
   ]
  },
  {
   "cell_type": "code",
   "execution_count": null,
   "metadata": {},
   "outputs": [],
   "source": []
  }
 ],
 "metadata": {
  "datalore": {
   "base_environment": "default",
   "computation_mode": "JUPYTER",
   "package_manager": "pip",
   "packages": [],
   "version": 1
  },
  "kernelspec": {
   "display_name": "Kotlin",
   "language": "kotlin",
   "name": "kotlin"
  },
  "language_info": {
   "codemirror_mode": "text/x-kotlin",
   "file_extension": ".kt",
   "mimetype": "text/x-kotlin",
   "name": "kotlin",
   "nbconvert_exporter": "",
   "pygments_lexer": "kotlin",
   "version": "1.6.20-dev-6372"
  }
 },
 "nbformat": 4,
 "nbformat_minor": 4
}
